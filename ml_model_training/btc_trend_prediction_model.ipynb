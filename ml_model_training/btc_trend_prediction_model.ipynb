{
 "cells": [
  {
   "cell_type": "markdown",
   "metadata": {},
   "source": [
    "### Treinamento do Modelo Machine Learning"
   ]
  },
  {
   "cell_type": "code",
   "execution_count": 25,
   "metadata": {},
   "outputs": [
    {
     "name": "stdout",
     "output_type": "stream",
     "text": [
      "Requirement already satisfied: pandas in /opt/homebrew/lib/python3.11/site-packages (2.1.2)\n",
      "Requirement already satisfied: scikit-learn in /opt/homebrew/lib/python3.11/site-packages (1.5.1)\n",
      "Requirement already satisfied: xgboost in /opt/homebrew/lib/python3.11/site-packages (2.1.1)\n",
      "Requirement already satisfied: joblib in /opt/homebrew/lib/python3.11/site-packages (1.3.2)\n",
      "Requirement already satisfied: numpy<2,>=1.23.2 in /opt/homebrew/lib/python3.11/site-packages (from pandas) (1.26.4)\n",
      "Requirement already satisfied: python-dateutil>=2.8.2 in /opt/homebrew/lib/python3.11/site-packages (from pandas) (2.8.2)\n",
      "Requirement already satisfied: pytz>=2020.1 in /opt/homebrew/lib/python3.11/site-packages (from pandas) (2023.3.post1)\n",
      "Requirement already satisfied: tzdata>=2022.1 in /opt/homebrew/lib/python3.11/site-packages (from pandas) (2023.3)\n",
      "Requirement already satisfied: scipy>=1.6.0 in /opt/homebrew/lib/python3.11/site-packages (from scikit-learn) (1.14.1)\n",
      "Requirement already satisfied: threadpoolctl>=3.1.0 in /opt/homebrew/lib/python3.11/site-packages (from scikit-learn) (3.5.0)\n",
      "Requirement already satisfied: six>=1.5 in /opt/homebrew/lib/python3.11/site-packages (from python-dateutil>=2.8.2->pandas) (1.16.0)\n",
      "\n",
      "\u001b[1m[\u001b[0m\u001b[34;49mnotice\u001b[0m\u001b[1;39;49m]\u001b[0m\u001b[39;49m A new release of pip is available: \u001b[0m\u001b[31;49m24.1.2\u001b[0m\u001b[39;49m -> \u001b[0m\u001b[32;49m24.2\u001b[0m\n",
      "\u001b[1m[\u001b[0m\u001b[34;49mnotice\u001b[0m\u001b[1;39;49m]\u001b[0m\u001b[39;49m To update, run: \u001b[0m\u001b[32;49mpython3.11 -m pip install --upgrade pip\u001b[0m\n",
      "Note: you may need to restart the kernel to use updated packages.\n"
     ]
    }
   ],
   "source": [
    "%pip install pandas scikit-learn xgboost joblib"
   ]
  },
  {
   "cell_type": "markdown",
   "metadata": {},
   "source": [
    "#### Importações de Bibliotecas"
   ]
  },
  {
   "cell_type": "code",
   "execution_count": 27,
   "metadata": {},
   "outputs": [],
   "source": [
    "import pandas as pd\n",
    "from xgboost import XGBClassifier\n",
    "from sklearn.metrics import precision_score, accuracy_score\n",
    "from typing import List, Tuple\n",
    "from joblib import dump"
   ]
  },
  {
   "cell_type": "markdown",
   "metadata": {},
   "source": [
    "#### Treinamento e Predições do Modelo XGBoost"
   ]
  },
  {
   "cell_type": "code",
   "execution_count": 29,
   "metadata": {},
   "outputs": [
    {
     "name": "stdout",
     "output_type": "stream",
     "text": [
      "Precisão do modelo: 0.50\n",
      "Acurácia do modelo: 0.49\n",
      "                           target  predictions\n",
      "2017-09-16 00:00:00+00:00       0            0\n",
      "2017-09-17 00:00:00+00:00       1            1\n",
      "2017-09-18 00:00:00+00:00       0            1\n",
      "2017-09-19 00:00:00+00:00       0            1\n",
      "2017-09-20 00:00:00+00:00       0            1\n",
      "...                           ...          ...\n",
      "2024-09-01 00:00:00+00:00       1            0\n",
      "2024-09-02 00:00:00+00:00       0            0\n",
      "2024-09-03 00:00:00+00:00       1            0\n",
      "2024-09-04 00:00:00+00:00       0            0\n",
      "2024-09-05 00:00:00+00:00       0            1\n",
      "\n",
      "[2547 rows x 2 columns]\n"
     ]
    }
   ],
   "source": [
    "# Carregar os dados do arquivo CSV\n",
    "# TODO: Precisamos buscar os dados no S3\n",
    "data = pd.read_csv(\"../notebooks/datasets/btc_dataset.csv\", index_col=0)\n",
    "\n",
    "# Definir preditores\n",
    "# Estas são as features que estamos usando para prever o target\n",
    "predictors: List[str] = [\n",
    "    \"close\",\n",
    "    \"volume\",\n",
    "    \"open\",\n",
    "    \"high\",\n",
    "    \"low\",\n",
    "    \"edit_count\",\n",
    "    \"sentiment\",\n",
    "    \"neg_sentiment\",\n",
    "]\n",
    "\n",
    "# Função de predição\n",
    "def predict(train: pd.DataFrame, test: pd.DataFrame, predictors: List[str], model: XGBClassifier) -> pd.DataFrame:\n",
    "    model.fit(train[predictors], train[\"target\"])\n",
    "    preds = model.predict(test[predictors])\n",
    "    preds = pd.Series(preds, index=test.index, name=\"predictions\")\n",
    "    return pd.concat([test[\"target\"], preds], axis=1)\n",
    "\n",
    "# Função de backtesting\n",
    "# Usaremos uma abordagem de janela móvel para fazer o backtesting do modelo.\n",
    "# Pegaremos uma janela de dados, usaremos para treinar o modelo e, em seguida, usaremos o modelo para prever a próxima janela de dados.\n",
    "# Repetiremos esse processo até termos usado todos os dados.\n",
    "# O parâmetro start significa 3 anos de dados para treinar o modelo.\n",
    "# O parâmetro step significa 150 dias de dados para testar o modelo.\n",
    "def backtest(data: pd.DataFrame, model: XGBClassifier, predictors: List[str], start: int = 1095, step: int = 150) -> pd.DataFrame:\n",
    "    all_predictions = []\n",
    "\n",
    "    for i in range(start, data.shape[0], step):\n",
    "        train = data.iloc[0:i].copy()\n",
    "        test = data.iloc[i:(i + step)].copy()\n",
    "        predictions = predict(train, test, predictors, model)\n",
    "        all_predictions.append(predictions)\n",
    "\n",
    "    return pd.concat(all_predictions)\n",
    "\n",
    "# Função de avaliação do modelo\n",
    "def evaluate_model(predictions: pd.DataFrame) -> Tuple[float, float]:\n",
    "    precision = precision_score(predictions[\"target\"], predictions[\"predictions\"])\n",
    "    accuracy = accuracy_score(predictions[\"target\"], predictions[\"predictions\"])\n",
    "    return precision, accuracy\n",
    "\n",
    "# Criar e treinar o modelo XGBoost\n",
    "model = XGBClassifier(random_state=1, learning_rate=0.1, n_estimators=200)\n",
    "predictions = backtest(data, model, predictors)\n",
    "\n",
    "# Avaliar o modelo\n",
    "precision, accuracy = evaluate_model(predictions)\n",
    "print(f\"Precisão do modelo: {precision:.2f}\")\n",
    "print(f\"Acurácia do modelo: {accuracy:.2f}\")\n",
    "print(predictions)"
   ]
  },
  {
   "cell_type": "markdown",
   "metadata": {},
   "source": [
    "#### Serialização do Modelo"
   ]
  },
  {
   "cell_type": "code",
   "execution_count": 28,
   "metadata": {},
   "outputs": [
    {
     "data": {
      "text/plain": [
       "['btc_trend_prediction_model.joblib']"
      ]
     },
     "execution_count": 28,
     "metadata": {},
     "output_type": "execute_result"
    }
   ],
   "source": [
    "# Salvar o modelo treinado em um arquivo\n",
    "model_filename = \"btc_trend_prediction_model.joblib\"\n",
    "dump(model, model_filename)"
   ]
  }
 ],
 "metadata": {
  "kernelspec": {
   "display_name": "Python 3",
   "language": "python",
   "name": "python3"
  },
  "language_info": {
   "codemirror_mode": {
    "name": "ipython",
    "version": 3
   },
   "file_extension": ".py",
   "mimetype": "text/x-python",
   "name": "python",
   "nbconvert_exporter": "python",
   "pygments_lexer": "ipython3",
   "version": "3.11.9"
  }
 },
 "nbformat": 4,
 "nbformat_minor": 2
}
