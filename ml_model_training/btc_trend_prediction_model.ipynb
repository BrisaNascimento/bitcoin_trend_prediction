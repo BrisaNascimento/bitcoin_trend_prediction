{
 "cells": [
  {
   "cell_type": "markdown",
   "metadata": {},
   "source": [
    "### Treinamento do Modelo Machine Learning"
   ]
  },
  {
   "cell_type": "code",
   "execution_count": 25,
   "metadata": {},
   "outputs": [
    {
     "name": "stdout",
     "output_type": "stream",
     "text": [
      "Requirement already satisfied: pandas in /opt/homebrew/lib/python3.11/site-packages (2.1.2)\n",
      "Requirement already satisfied: scikit-learn in /opt/homebrew/lib/python3.11/site-packages (1.5.1)\n",
      "Requirement already satisfied: xgboost in /opt/homebrew/lib/python3.11/site-packages (2.1.1)\n",
      "Requirement already satisfied: joblib in /opt/homebrew/lib/python3.11/site-packages (1.3.2)\n",
      "Requirement already satisfied: numpy<2,>=1.23.2 in /opt/homebrew/lib/python3.11/site-packages (from pandas) (1.26.4)\n",
      "Requirement already satisfied: python-dateutil>=2.8.2 in /opt/homebrew/lib/python3.11/site-packages (from pandas) (2.8.2)\n",
      "Requirement already satisfied: pytz>=2020.1 in /opt/homebrew/lib/python3.11/site-packages (from pandas) (2023.3.post1)\n",
      "Requirement already satisfied: tzdata>=2022.1 in /opt/homebrew/lib/python3.11/site-packages (from pandas) (2023.3)\n",
      "Requirement already satisfied: scipy>=1.6.0 in /opt/homebrew/lib/python3.11/site-packages (from scikit-learn) (1.14.1)\n",
      "Requirement already satisfied: threadpoolctl>=3.1.0 in /opt/homebrew/lib/python3.11/site-packages (from scikit-learn) (3.5.0)\n",
      "Requirement already satisfied: six>=1.5 in /opt/homebrew/lib/python3.11/site-packages (from python-dateutil>=2.8.2->pandas) (1.16.0)\n",
      "\n",
      "\u001b[1m[\u001b[0m\u001b[34;49mnotice\u001b[0m\u001b[1;39;49m]\u001b[0m\u001b[39;49m A new release of pip is available: \u001b[0m\u001b[31;49m24.1.2\u001b[0m\u001b[39;49m -> \u001b[0m\u001b[32;49m24.2\u001b[0m\n",
      "\u001b[1m[\u001b[0m\u001b[34;49mnotice\u001b[0m\u001b[1;39;49m]\u001b[0m\u001b[39;49m To update, run: \u001b[0m\u001b[32;49mpython3.11 -m pip install --upgrade pip\u001b[0m\n",
      "Note: you may need to restart the kernel to use updated packages.\n"
     ]
    }
   ],
   "source": [
    "%pip install pandas scikit-learn xgboost joblib"
   ]
  },
  {
   "cell_type": "markdown",
   "metadata": {},
   "source": [
    "### Importações de Bibliotecas"
   ]
  },
  {
   "cell_type": "code",
   "execution_count": 102,
   "metadata": {},
   "outputs": [],
   "source": [
    "# Data load and processing\n",
    "import pandas as pd\n",
    "import numpy as np\n",
    "from typing import List, Tuple\n",
    "import boto3\n",
    "from io import StringIO\n",
    "import matplotlib.pyplot as plt\n",
    "from dotenv import load_dotenv\n",
    "import os"
   ]
  },
  {
   "cell_type": "code",
   "execution_count": 101,
   "metadata": {},
   "outputs": [],
   "source": [
    "## Pre-Processing and evaluation\n",
    "from sklearn.preprocessing import normalize, StandardScaler\n",
    "from sklearn.model_selection import GridSearchCV\n",
    "from sklearn.metrics import precision_score, accuracy_score\n",
    "from yellowbrick.features import FeatureImportances"
   ]
  },
  {
   "cell_type": "code",
   "execution_count": 55,
   "metadata": {},
   "outputs": [],
   "source": [
    "# Models\n",
    "from sklearn.neighbors import KNeighborsClassifier\n",
    "from sklearn.ensemble import RandomForestClassifier\n",
    "from xgboost import XGBClassifier\n",
    "from joblib import dump"
   ]
  },
  {
   "cell_type": "markdown",
   "metadata": {},
   "source": [
    "#### Instruções\n",
    "\n",
    "1. Renomear o arquivo .env_exemplo para somente .env\n",
    "2. Adicionar popular as variaveis conforme o padrão de nomenclatura que voce utilizar"
   ]
  },
  {
   "cell_type": "markdown",
   "metadata": {},
   "source": [
    "### Reading the Data"
   ]
  },
  {
   "cell_type": "code",
   "execution_count": 56,
   "metadata": {},
   "outputs": [],
   "source": [
    "load_dotenv()\n",
    "def read_from_s3(bucket_name:str):\n",
    "    s3 = boto3.resource('s3')\n",
    "    bucket = s3.Bucket(bucket_name)\n",
    "    response = []\n",
    "    for obj in bucket.objects.all():\n",
    "        body = obj.get()['Body'].read()\n",
    "        s=str(body,'utf-8')\n",
    "        data = StringIO(s)\n",
    "        response.append(pd.read_csv(data, index_col=0))\n",
    "    return response"
   ]
  },
  {
   "cell_type": "code",
   "execution_count": 115,
   "metadata": {},
   "outputs": [
    {
     "data": {
      "text/html": [
       "<div>\n",
       "<style scoped>\n",
       "    .dataframe tbody tr th:only-of-type {\n",
       "        vertical-align: middle;\n",
       "    }\n",
       "\n",
       "    .dataframe tbody tr th {\n",
       "        vertical-align: top;\n",
       "    }\n",
       "\n",
       "    .dataframe thead th {\n",
       "        text-align: right;\n",
       "    }\n",
       "</style>\n",
       "<table border=\"1\" class=\"dataframe\">\n",
       "  <thead>\n",
       "    <tr style=\"text-align: right;\">\n",
       "      <th></th>\n",
       "      <th>open</th>\n",
       "      <th>high</th>\n",
       "      <th>low</th>\n",
       "      <th>close</th>\n",
       "      <th>volume</th>\n",
       "      <th>edit_count</th>\n",
       "      <th>sentiment</th>\n",
       "      <th>neg_sentiment</th>\n",
       "      <th>tomorrow</th>\n",
       "      <th>close_ratio_2</th>\n",
       "      <th>...</th>\n",
       "      <th>trend_30</th>\n",
       "      <th>close_ratio_60</th>\n",
       "      <th>edit_60</th>\n",
       "      <th>trend_60</th>\n",
       "      <th>close_ratio_365</th>\n",
       "      <th>edit_365</th>\n",
       "      <th>trend_365</th>\n",
       "      <th>fng_index</th>\n",
       "      <th>fng_class</th>\n",
       "      <th>target</th>\n",
       "    </tr>\n",
       "  </thead>\n",
       "  <tbody>\n",
       "    <tr>\n",
       "      <th>2018-03-02</th>\n",
       "      <td>10977.400391</td>\n",
       "      <td>11189.000000</td>\n",
       "      <td>10850.099609</td>\n",
       "      <td>11086.400391</td>\n",
       "      <td>7620590080</td>\n",
       "      <td>3.066667</td>\n",
       "      <td>-0.307224</td>\n",
       "      <td>0.541296</td>\n",
       "      <td>11489.700195</td>\n",
       "      <td>1.000000</td>\n",
       "      <td>...</td>\n",
       "      <td>NaN</td>\n",
       "      <td>1.000000</td>\n",
       "      <td>3.066667</td>\n",
       "      <td>NaN</td>\n",
       "      <td>1.000000</td>\n",
       "      <td>3.066667</td>\n",
       "      <td>NaN</td>\n",
       "      <td>47</td>\n",
       "      <td>Neutral</td>\n",
       "      <td>1</td>\n",
       "    </tr>\n",
       "    <tr>\n",
       "      <th>2018-03-03</th>\n",
       "      <td>11101.900391</td>\n",
       "      <td>11528.200195</td>\n",
       "      <td>11002.400391</td>\n",
       "      <td>11489.700195</td>\n",
       "      <td>6690570240</td>\n",
       "      <td>3.066667</td>\n",
       "      <td>-0.307224</td>\n",
       "      <td>0.541296</td>\n",
       "      <td>11512.599609</td>\n",
       "      <td>1.017864</td>\n",
       "      <td>...</td>\n",
       "      <td>1.00</td>\n",
       "      <td>1.017864</td>\n",
       "      <td>3.066667</td>\n",
       "      <td>1.00</td>\n",
       "      <td>1.017864</td>\n",
       "      <td>3.066667</td>\n",
       "      <td>1.00</td>\n",
       "      <td>56</td>\n",
       "      <td>Greed</td>\n",
       "      <td>1</td>\n",
       "    </tr>\n",
       "    <tr>\n",
       "      <th>2018-03-04</th>\n",
       "      <td>11497.400391</td>\n",
       "      <td>11512.599609</td>\n",
       "      <td>11136.099609</td>\n",
       "      <td>11512.599609</td>\n",
       "      <td>6084149760</td>\n",
       "      <td>2.933333</td>\n",
       "      <td>-0.258349</td>\n",
       "      <td>0.513519</td>\n",
       "      <td>11573.299805</td>\n",
       "      <td>1.000996</td>\n",
       "      <td>...</td>\n",
       "      <td>1.00</td>\n",
       "      <td>1.013174</td>\n",
       "      <td>3.022222</td>\n",
       "      <td>1.00</td>\n",
       "      <td>1.013174</td>\n",
       "      <td>3.022222</td>\n",
       "      <td>1.00</td>\n",
       "      <td>44</td>\n",
       "      <td>Fear</td>\n",
       "      <td>1</td>\n",
       "    </tr>\n",
       "    <tr>\n",
       "      <th>2018-03-05</th>\n",
       "      <td>11532.400391</td>\n",
       "      <td>11704.099609</td>\n",
       "      <td>11443.900391</td>\n",
       "      <td>11573.299805</td>\n",
       "      <td>6468539904</td>\n",
       "      <td>2.866667</td>\n",
       "      <td>-0.259235</td>\n",
       "      <td>0.496852</td>\n",
       "      <td>10779.900391</td>\n",
       "      <td>1.002629</td>\n",
       "      <td>...</td>\n",
       "      <td>1.00</td>\n",
       "      <td>1.013823</td>\n",
       "      <td>2.983333</td>\n",
       "      <td>1.00</td>\n",
       "      <td>1.013823</td>\n",
       "      <td>2.983333</td>\n",
       "      <td>1.00</td>\n",
       "      <td>55</td>\n",
       "      <td>Greed</td>\n",
       "      <td>0</td>\n",
       "    </tr>\n",
       "    <tr>\n",
       "      <th>2018-03-06</th>\n",
       "      <td>11500.099609</td>\n",
       "      <td>11500.099609</td>\n",
       "      <td>10694.299805</td>\n",
       "      <td>10779.900391</td>\n",
       "      <td>6832169984</td>\n",
       "      <td>2.666667</td>\n",
       "      <td>-0.249632</td>\n",
       "      <td>0.474630</td>\n",
       "      <td>9965.570312</td>\n",
       "      <td>0.964506</td>\n",
       "      <td>...</td>\n",
       "      <td>0.75</td>\n",
       "      <td>0.954955</td>\n",
       "      <td>2.920000</td>\n",
       "      <td>0.75</td>\n",
       "      <td>0.954955</td>\n",
       "      <td>2.920000</td>\n",
       "      <td>0.75</td>\n",
       "      <td>59</td>\n",
       "      <td>Greed</td>\n",
       "      <td>0</td>\n",
       "    </tr>\n",
       "  </tbody>\n",
       "</table>\n",
       "<p>5 rows × 27 columns</p>\n",
       "</div>"
      ],
      "text/plain": [
       "                    open          high           low         close  \\\n",
       "2018-03-02  10977.400391  11189.000000  10850.099609  11086.400391   \n",
       "2018-03-03  11101.900391  11528.200195  11002.400391  11489.700195   \n",
       "2018-03-04  11497.400391  11512.599609  11136.099609  11512.599609   \n",
       "2018-03-05  11532.400391  11704.099609  11443.900391  11573.299805   \n",
       "2018-03-06  11500.099609  11500.099609  10694.299805  10779.900391   \n",
       "\n",
       "                volume  edit_count  sentiment  neg_sentiment      tomorrow  \\\n",
       "2018-03-02  7620590080    3.066667  -0.307224       0.541296  11489.700195   \n",
       "2018-03-03  6690570240    3.066667  -0.307224       0.541296  11512.599609   \n",
       "2018-03-04  6084149760    2.933333  -0.258349       0.513519  11573.299805   \n",
       "2018-03-05  6468539904    2.866667  -0.259235       0.496852  10779.900391   \n",
       "2018-03-06  6832169984    2.666667  -0.249632       0.474630   9965.570312   \n",
       "\n",
       "            close_ratio_2  ...  trend_30  close_ratio_60   edit_60  trend_60  \\\n",
       "2018-03-02       1.000000  ...       NaN        1.000000  3.066667       NaN   \n",
       "2018-03-03       1.017864  ...      1.00        1.017864  3.066667      1.00   \n",
       "2018-03-04       1.000996  ...      1.00        1.013174  3.022222      1.00   \n",
       "2018-03-05       1.002629  ...      1.00        1.013823  2.983333      1.00   \n",
       "2018-03-06       0.964506  ...      0.75        0.954955  2.920000      0.75   \n",
       "\n",
       "            close_ratio_365  edit_365  trend_365  fng_index  fng_class  target  \n",
       "2018-03-02         1.000000  3.066667        NaN         47    Neutral       1  \n",
       "2018-03-03         1.017864  3.066667       1.00         56      Greed       1  \n",
       "2018-03-04         1.013174  3.022222       1.00         44       Fear       1  \n",
       "2018-03-05         1.013823  2.983333       1.00         55      Greed       0  \n",
       "2018-03-06         0.954955  2.920000       0.75         59      Greed       0  \n",
       "\n",
       "[5 rows x 27 columns]"
      ]
     },
     "execution_count": 115,
     "metadata": {},
     "output_type": "execute_result"
    }
   ],
   "source": [
    "bucket_name = os.environ['BUCKET_NAME']\n",
    "csv_file_name = os.environ['CSV_FILE_NAME']\n",
    "bucket_layer = os.environ['BUCKET_LAYER']\n",
    "object_name = f'{bucket_layer}/{csv_file_name}'\n",
    "data = read_from_s3(bucket_name)[0]\n",
    "data.head()"
   ]
  },
  {
   "cell_type": "markdown",
   "metadata": {},
   "source": [
    "### Data Pre-Processing"
   ]
  },
  {
   "cell_type": "code",
   "execution_count": 116,
   "metadata": {},
   "outputs": [],
   "source": [
    "# If working with data, please uncoment this line for safety, this will generate a backup of the dataframe prior to pre-processing\n",
    "df_backup = data.copy()"
   ]
  },
  {
   "cell_type": "code",
   "execution_count": 118,
   "metadata": {},
   "outputs": [],
   "source": [
    "def shift_data_up(df:pd.DataFrame, shift_by:int=1)->pd.DataFrame:\n",
    "    df['edit_count_y'] = df[\"edit_count\"].shift(1)\n",
    "    df['sentiment_y'] = df[\"sentiment\"].shift(1)\n",
    "    df['neg_sentiment_y'] = df[\"neg_sentiment\"].shift(1)\n",
    "    df['fng_index_y'] = df[\"fng_index\"].shift(1)\n",
    "    return df\n"
   ]
  },
  {
   "cell_type": "code",
   "execution_count": 119,
   "metadata": {},
   "outputs": [
    {
     "name": "stdout",
     "output_type": "stream",
     "text": [
      "<class 'pandas.core.frame.DataFrame'>\n",
      "Index: 2379 entries, 2018-03-02 to 2024-09-07\n",
      "Data columns (total 31 columns):\n",
      " #   Column           Non-Null Count  Dtype  \n",
      "---  ------           --------------  -----  \n",
      " 0   open             2379 non-null   float64\n",
      " 1   high             2379 non-null   float64\n",
      " 2   low              2379 non-null   float64\n",
      " 3   close            2379 non-null   float64\n",
      " 4   volume           2379 non-null   int64  \n",
      " 5   edit_count       2379 non-null   float64\n",
      " 6   sentiment        2379 non-null   float64\n",
      " 7   neg_sentiment    2379 non-null   float64\n",
      " 8   tomorrow         2379 non-null   float64\n",
      " 9   close_ratio_2    2379 non-null   float64\n",
      " 10  edit_2           2379 non-null   float64\n",
      " 11  trend_2          2378 non-null   float64\n",
      " 12  close_ratio_7    2379 non-null   float64\n",
      " 13  edit_7           2379 non-null   float64\n",
      " 14  trend_7          2378 non-null   float64\n",
      " 15  close_ratio_30   2379 non-null   float64\n",
      " 16  edit_30          2379 non-null   float64\n",
      " 17  trend_30         2378 non-null   float64\n",
      " 18  close_ratio_60   2379 non-null   float64\n",
      " 19  edit_60          2379 non-null   float64\n",
      " 20  trend_60         2378 non-null   float64\n",
      " 21  close_ratio_365  2379 non-null   float64\n",
      " 22  edit_365         2379 non-null   float64\n",
      " 23  trend_365        2378 non-null   float64\n",
      " 24  fng_index        2379 non-null   int64  \n",
      " 25  fng_class        2379 non-null   object \n",
      " 26  target           2379 non-null   int64  \n",
      " 27  edit_count_y     2378 non-null   float64\n",
      " 28  sentiment_y      2378 non-null   float64\n",
      " 29  neg_sentiment_y  2378 non-null   float64\n",
      " 30  fng_index_y      2378 non-null   float64\n",
      "dtypes: float64(27), int64(3), object(1)\n",
      "memory usage: 594.8+ KB\n"
     ]
    }
   ],
   "source": [
    "new_data = shift_data_up(data)\n",
    "new_data.info()"
   ]
  },
  {
   "cell_type": "code",
   "execution_count": 120,
   "metadata": {},
   "outputs": [
    {
     "data": {
      "text/html": [
       "<div>\n",
       "<style scoped>\n",
       "    .dataframe tbody tr th:only-of-type {\n",
       "        vertical-align: middle;\n",
       "    }\n",
       "\n",
       "    .dataframe tbody tr th {\n",
       "        vertical-align: top;\n",
       "    }\n",
       "\n",
       "    .dataframe thead th {\n",
       "        text-align: right;\n",
       "    }\n",
       "</style>\n",
       "<table border=\"1\" class=\"dataframe\">\n",
       "  <thead>\n",
       "    <tr style=\"text-align: right;\">\n",
       "      <th></th>\n",
       "      <th>open</th>\n",
       "      <th>high</th>\n",
       "      <th>low</th>\n",
       "      <th>close</th>\n",
       "      <th>volume</th>\n",
       "      <th>tomorrow</th>\n",
       "      <th>close_ratio_2</th>\n",
       "      <th>edit_2</th>\n",
       "      <th>trend_2</th>\n",
       "      <th>close_ratio_7</th>\n",
       "      <th>...</th>\n",
       "      <th>edit_60</th>\n",
       "      <th>trend_60</th>\n",
       "      <th>close_ratio_365</th>\n",
       "      <th>edit_365</th>\n",
       "      <th>trend_365</th>\n",
       "      <th>target</th>\n",
       "      <th>edit_count_y</th>\n",
       "      <th>sentiment_y</th>\n",
       "      <th>neg_sentiment_y</th>\n",
       "      <th>fng_index_y</th>\n",
       "    </tr>\n",
       "  </thead>\n",
       "  <tbody>\n",
       "    <tr>\n",
       "      <th>2018-03-02</th>\n",
       "      <td>10977.400391</td>\n",
       "      <td>11189.000000</td>\n",
       "      <td>10850.099609</td>\n",
       "      <td>11086.400391</td>\n",
       "      <td>7620590080</td>\n",
       "      <td>11489.700195</td>\n",
       "      <td>1.000000</td>\n",
       "      <td>3.066667</td>\n",
       "      <td>NaN</td>\n",
       "      <td>1.000000</td>\n",
       "      <td>...</td>\n",
       "      <td>3.066667</td>\n",
       "      <td>NaN</td>\n",
       "      <td>1.000000</td>\n",
       "      <td>3.066667</td>\n",
       "      <td>NaN</td>\n",
       "      <td>1</td>\n",
       "      <td>NaN</td>\n",
       "      <td>NaN</td>\n",
       "      <td>NaN</td>\n",
       "      <td>NaN</td>\n",
       "    </tr>\n",
       "    <tr>\n",
       "      <th>2018-03-03</th>\n",
       "      <td>11101.900391</td>\n",
       "      <td>11528.200195</td>\n",
       "      <td>11002.400391</td>\n",
       "      <td>11489.700195</td>\n",
       "      <td>6690570240</td>\n",
       "      <td>11512.599609</td>\n",
       "      <td>1.017864</td>\n",
       "      <td>3.066667</td>\n",
       "      <td>1.0</td>\n",
       "      <td>1.017864</td>\n",
       "      <td>...</td>\n",
       "      <td>3.066667</td>\n",
       "      <td>1.00</td>\n",
       "      <td>1.017864</td>\n",
       "      <td>3.066667</td>\n",
       "      <td>1.00</td>\n",
       "      <td>1</td>\n",
       "      <td>3.066667</td>\n",
       "      <td>-0.307224</td>\n",
       "      <td>0.541296</td>\n",
       "      <td>47.0</td>\n",
       "    </tr>\n",
       "    <tr>\n",
       "      <th>2018-03-04</th>\n",
       "      <td>11497.400391</td>\n",
       "      <td>11512.599609</td>\n",
       "      <td>11136.099609</td>\n",
       "      <td>11512.599609</td>\n",
       "      <td>6084149760</td>\n",
       "      <td>11573.299805</td>\n",
       "      <td>1.000996</td>\n",
       "      <td>3.000000</td>\n",
       "      <td>1.0</td>\n",
       "      <td>1.013174</td>\n",
       "      <td>...</td>\n",
       "      <td>3.022222</td>\n",
       "      <td>1.00</td>\n",
       "      <td>1.013174</td>\n",
       "      <td>3.022222</td>\n",
       "      <td>1.00</td>\n",
       "      <td>1</td>\n",
       "      <td>3.066667</td>\n",
       "      <td>-0.307224</td>\n",
       "      <td>0.541296</td>\n",
       "      <td>56.0</td>\n",
       "    </tr>\n",
       "    <tr>\n",
       "      <th>2018-03-05</th>\n",
       "      <td>11532.400391</td>\n",
       "      <td>11704.099609</td>\n",
       "      <td>11443.900391</td>\n",
       "      <td>11573.299805</td>\n",
       "      <td>6468539904</td>\n",
       "      <td>10779.900391</td>\n",
       "      <td>1.002629</td>\n",
       "      <td>2.900000</td>\n",
       "      <td>1.0</td>\n",
       "      <td>1.013823</td>\n",
       "      <td>...</td>\n",
       "      <td>2.983333</td>\n",
       "      <td>1.00</td>\n",
       "      <td>1.013823</td>\n",
       "      <td>2.983333</td>\n",
       "      <td>1.00</td>\n",
       "      <td>0</td>\n",
       "      <td>2.933333</td>\n",
       "      <td>-0.258349</td>\n",
       "      <td>0.513519</td>\n",
       "      <td>44.0</td>\n",
       "    </tr>\n",
       "    <tr>\n",
       "      <th>2018-03-06</th>\n",
       "      <td>11500.099609</td>\n",
       "      <td>11500.099609</td>\n",
       "      <td>10694.299805</td>\n",
       "      <td>10779.900391</td>\n",
       "      <td>6832169984</td>\n",
       "      <td>9965.570312</td>\n",
       "      <td>0.964506</td>\n",
       "      <td>2.766667</td>\n",
       "      <td>0.5</td>\n",
       "      <td>0.954955</td>\n",
       "      <td>...</td>\n",
       "      <td>2.920000</td>\n",
       "      <td>0.75</td>\n",
       "      <td>0.954955</td>\n",
       "      <td>2.920000</td>\n",
       "      <td>0.75</td>\n",
       "      <td>0</td>\n",
       "      <td>2.866667</td>\n",
       "      <td>-0.259235</td>\n",
       "      <td>0.496852</td>\n",
       "      <td>55.0</td>\n",
       "    </tr>\n",
       "  </tbody>\n",
       "</table>\n",
       "<p>5 rows × 26 columns</p>\n",
       "</div>"
      ],
      "text/plain": [
       "                    open          high           low         close  \\\n",
       "2018-03-02  10977.400391  11189.000000  10850.099609  11086.400391   \n",
       "2018-03-03  11101.900391  11528.200195  11002.400391  11489.700195   \n",
       "2018-03-04  11497.400391  11512.599609  11136.099609  11512.599609   \n",
       "2018-03-05  11532.400391  11704.099609  11443.900391  11573.299805   \n",
       "2018-03-06  11500.099609  11500.099609  10694.299805  10779.900391   \n",
       "\n",
       "                volume      tomorrow  close_ratio_2    edit_2  trend_2  \\\n",
       "2018-03-02  7620590080  11489.700195       1.000000  3.066667      NaN   \n",
       "2018-03-03  6690570240  11512.599609       1.017864  3.066667      1.0   \n",
       "2018-03-04  6084149760  11573.299805       1.000996  3.000000      1.0   \n",
       "2018-03-05  6468539904  10779.900391       1.002629  2.900000      1.0   \n",
       "2018-03-06  6832169984   9965.570312       0.964506  2.766667      0.5   \n",
       "\n",
       "            close_ratio_7  ...   edit_60  trend_60  close_ratio_365  edit_365  \\\n",
       "2018-03-02       1.000000  ...  3.066667       NaN         1.000000  3.066667   \n",
       "2018-03-03       1.017864  ...  3.066667      1.00         1.017864  3.066667   \n",
       "2018-03-04       1.013174  ...  3.022222      1.00         1.013174  3.022222   \n",
       "2018-03-05       1.013823  ...  2.983333      1.00         1.013823  2.983333   \n",
       "2018-03-06       0.954955  ...  2.920000      0.75         0.954955  2.920000   \n",
       "\n",
       "            trend_365  target  edit_count_y  sentiment_y  neg_sentiment_y  \\\n",
       "2018-03-02        NaN       1           NaN          NaN              NaN   \n",
       "2018-03-03       1.00       1      3.066667    -0.307224         0.541296   \n",
       "2018-03-04       1.00       1      3.066667    -0.307224         0.541296   \n",
       "2018-03-05       1.00       0      2.933333    -0.258349         0.513519   \n",
       "2018-03-06       0.75       0      2.866667    -0.259235         0.496852   \n",
       "\n",
       "            fng_index_y  \n",
       "2018-03-02          NaN  \n",
       "2018-03-03         47.0  \n",
       "2018-03-04         56.0  \n",
       "2018-03-05         44.0  \n",
       "2018-03-06         55.0  \n",
       "\n",
       "[5 rows x 26 columns]"
      ]
     },
     "execution_count": 120,
     "metadata": {},
     "output_type": "execute_result"
    }
   ],
   "source": [
    "drop_columns = ['edit_count', \n",
    "                'sentiment', \n",
    "                'neg_sentiment', \n",
    "                'fng_index', \n",
    "                'fng_class']\n",
    "\n",
    "new_data.drop(columns=drop_columns, axis=1, inplace=True)\n",
    "new_data.head()"
   ]
  },
  {
   "cell_type": "code",
   "execution_count": 121,
   "metadata": {},
   "outputs": [],
   "source": [
    "new_data.dropna(inplace=True)"
   ]
  },
  {
   "cell_type": "code",
   "execution_count": 122,
   "metadata": {},
   "outputs": [
    {
     "data": {
      "text/html": [
       "<div>\n",
       "<style scoped>\n",
       "    .dataframe tbody tr th:only-of-type {\n",
       "        vertical-align: middle;\n",
       "    }\n",
       "\n",
       "    .dataframe tbody tr th {\n",
       "        vertical-align: top;\n",
       "    }\n",
       "\n",
       "    .dataframe thead th {\n",
       "        text-align: right;\n",
       "    }\n",
       "</style>\n",
       "<table border=\"1\" class=\"dataframe\">\n",
       "  <thead>\n",
       "    <tr style=\"text-align: right;\">\n",
       "      <th></th>\n",
       "      <th>open</th>\n",
       "      <th>high</th>\n",
       "      <th>low</th>\n",
       "      <th>close</th>\n",
       "      <th>volume</th>\n",
       "      <th>close_ratio_2</th>\n",
       "      <th>edit_2</th>\n",
       "      <th>trend_2</th>\n",
       "      <th>close_ratio_7</th>\n",
       "      <th>edit_7</th>\n",
       "      <th>...</th>\n",
       "      <th>edit_60</th>\n",
       "      <th>trend_60</th>\n",
       "      <th>close_ratio_365</th>\n",
       "      <th>edit_365</th>\n",
       "      <th>trend_365</th>\n",
       "      <th>edit_count_y</th>\n",
       "      <th>sentiment_y</th>\n",
       "      <th>neg_sentiment_y</th>\n",
       "      <th>fng_index_y</th>\n",
       "      <th>target</th>\n",
       "    </tr>\n",
       "  </thead>\n",
       "  <tbody>\n",
       "    <tr>\n",
       "      <th>2018-03-03</th>\n",
       "      <td>11101.900391</td>\n",
       "      <td>11528.200195</td>\n",
       "      <td>11002.400391</td>\n",
       "      <td>11489.700195</td>\n",
       "      <td>6690570240</td>\n",
       "      <td>1.017864</td>\n",
       "      <td>3.066667</td>\n",
       "      <td>1.0</td>\n",
       "      <td>1.017864</td>\n",
       "      <td>3.066667</td>\n",
       "      <td>...</td>\n",
       "      <td>3.066667</td>\n",
       "      <td>1.00</td>\n",
       "      <td>1.017864</td>\n",
       "      <td>3.066667</td>\n",
       "      <td>1.00</td>\n",
       "      <td>3.066667</td>\n",
       "      <td>-0.307224</td>\n",
       "      <td>0.541296</td>\n",
       "      <td>47.0</td>\n",
       "      <td>1</td>\n",
       "    </tr>\n",
       "    <tr>\n",
       "      <th>2018-03-04</th>\n",
       "      <td>11497.400391</td>\n",
       "      <td>11512.599609</td>\n",
       "      <td>11136.099609</td>\n",
       "      <td>11512.599609</td>\n",
       "      <td>6084149760</td>\n",
       "      <td>1.000996</td>\n",
       "      <td>3.000000</td>\n",
       "      <td>1.0</td>\n",
       "      <td>1.013174</td>\n",
       "      <td>3.022222</td>\n",
       "      <td>...</td>\n",
       "      <td>3.022222</td>\n",
       "      <td>1.00</td>\n",
       "      <td>1.013174</td>\n",
       "      <td>3.022222</td>\n",
       "      <td>1.00</td>\n",
       "      <td>3.066667</td>\n",
       "      <td>-0.307224</td>\n",
       "      <td>0.541296</td>\n",
       "      <td>56.0</td>\n",
       "      <td>1</td>\n",
       "    </tr>\n",
       "    <tr>\n",
       "      <th>2018-03-05</th>\n",
       "      <td>11532.400391</td>\n",
       "      <td>11704.099609</td>\n",
       "      <td>11443.900391</td>\n",
       "      <td>11573.299805</td>\n",
       "      <td>6468539904</td>\n",
       "      <td>1.002629</td>\n",
       "      <td>2.900000</td>\n",
       "      <td>1.0</td>\n",
       "      <td>1.013823</td>\n",
       "      <td>2.983333</td>\n",
       "      <td>...</td>\n",
       "      <td>2.983333</td>\n",
       "      <td>1.00</td>\n",
       "      <td>1.013823</td>\n",
       "      <td>2.983333</td>\n",
       "      <td>1.00</td>\n",
       "      <td>2.933333</td>\n",
       "      <td>-0.258349</td>\n",
       "      <td>0.513519</td>\n",
       "      <td>44.0</td>\n",
       "      <td>0</td>\n",
       "    </tr>\n",
       "    <tr>\n",
       "      <th>2018-03-06</th>\n",
       "      <td>11500.099609</td>\n",
       "      <td>11500.099609</td>\n",
       "      <td>10694.299805</td>\n",
       "      <td>10779.900391</td>\n",
       "      <td>6832169984</td>\n",
       "      <td>0.964506</td>\n",
       "      <td>2.766667</td>\n",
       "      <td>0.5</td>\n",
       "      <td>0.954955</td>\n",
       "      <td>2.920000</td>\n",
       "      <td>...</td>\n",
       "      <td>2.920000</td>\n",
       "      <td>0.75</td>\n",
       "      <td>0.954955</td>\n",
       "      <td>2.920000</td>\n",
       "      <td>0.75</td>\n",
       "      <td>2.866667</td>\n",
       "      <td>-0.259235</td>\n",
       "      <td>0.496852</td>\n",
       "      <td>55.0</td>\n",
       "      <td>0</td>\n",
       "    </tr>\n",
       "    <tr>\n",
       "      <th>2018-03-07</th>\n",
       "      <td>10803.900391</td>\n",
       "      <td>10929.500000</td>\n",
       "      <td>9692.120117</td>\n",
       "      <td>9965.570312</td>\n",
       "      <td>8797910016</td>\n",
       "      <td>0.960747</td>\n",
       "      <td>2.650000</td>\n",
       "      <td>0.0</td>\n",
       "      <td>0.900402</td>\n",
       "      <td>2.872222</td>\n",
       "      <td>...</td>\n",
       "      <td>2.872222</td>\n",
       "      <td>0.60</td>\n",
       "      <td>0.900402</td>\n",
       "      <td>2.872222</td>\n",
       "      <td>0.60</td>\n",
       "      <td>2.666667</td>\n",
       "      <td>-0.249632</td>\n",
       "      <td>0.474630</td>\n",
       "      <td>59.0</td>\n",
       "      <td>0</td>\n",
       "    </tr>\n",
       "  </tbody>\n",
       "</table>\n",
       "<p>5 rows × 25 columns</p>\n",
       "</div>"
      ],
      "text/plain": [
       "                    open          high           low         close  \\\n",
       "2018-03-03  11101.900391  11528.200195  11002.400391  11489.700195   \n",
       "2018-03-04  11497.400391  11512.599609  11136.099609  11512.599609   \n",
       "2018-03-05  11532.400391  11704.099609  11443.900391  11573.299805   \n",
       "2018-03-06  11500.099609  11500.099609  10694.299805  10779.900391   \n",
       "2018-03-07  10803.900391  10929.500000   9692.120117   9965.570312   \n",
       "\n",
       "                volume  close_ratio_2    edit_2  trend_2  close_ratio_7  \\\n",
       "2018-03-03  6690570240       1.017864  3.066667      1.0       1.017864   \n",
       "2018-03-04  6084149760       1.000996  3.000000      1.0       1.013174   \n",
       "2018-03-05  6468539904       1.002629  2.900000      1.0       1.013823   \n",
       "2018-03-06  6832169984       0.964506  2.766667      0.5       0.954955   \n",
       "2018-03-07  8797910016       0.960747  2.650000      0.0       0.900402   \n",
       "\n",
       "              edit_7  ...   edit_60  trend_60  close_ratio_365  edit_365  \\\n",
       "2018-03-03  3.066667  ...  3.066667      1.00         1.017864  3.066667   \n",
       "2018-03-04  3.022222  ...  3.022222      1.00         1.013174  3.022222   \n",
       "2018-03-05  2.983333  ...  2.983333      1.00         1.013823  2.983333   \n",
       "2018-03-06  2.920000  ...  2.920000      0.75         0.954955  2.920000   \n",
       "2018-03-07  2.872222  ...  2.872222      0.60         0.900402  2.872222   \n",
       "\n",
       "            trend_365  edit_count_y  sentiment_y  neg_sentiment_y  \\\n",
       "2018-03-03       1.00      3.066667    -0.307224         0.541296   \n",
       "2018-03-04       1.00      3.066667    -0.307224         0.541296   \n",
       "2018-03-05       1.00      2.933333    -0.258349         0.513519   \n",
       "2018-03-06       0.75      2.866667    -0.259235         0.496852   \n",
       "2018-03-07       0.60      2.666667    -0.249632         0.474630   \n",
       "\n",
       "            fng_index_y  target  \n",
       "2018-03-03         47.0       1  \n",
       "2018-03-04         56.0       1  \n",
       "2018-03-05         44.0       0  \n",
       "2018-03-06         55.0       0  \n",
       "2018-03-07         59.0       0  \n",
       "\n",
       "[5 rows x 25 columns]"
      ]
     },
     "execution_count": 122,
     "metadata": {},
     "output_type": "execute_result"
    }
   ],
   "source": [
    "reorg_columns = ['open', 'high', 'low', 'close', 'volume', 'close_ratio_2',\n",
    "       'edit_2', 'trend_2', 'close_ratio_7', 'edit_7', 'trend_7',\n",
    "       'close_ratio_30', 'edit_30', 'trend_30', 'close_ratio_60', 'edit_60',\n",
    "       'trend_60', 'close_ratio_365', 'edit_365', 'trend_365', 'edit_count_y', \n",
    "       'sentiment_y', 'neg_sentiment_y', 'fng_index_y','target']\n",
    "\n",
    "new_data = new_data[reorg_columns]\n",
    "new_data.head()"
   ]
  },
  {
   "cell_type": "code",
   "execution_count": 123,
   "metadata": {},
   "outputs": [],
   "source": [
    "# Defining the predictors Columns\n",
    "predictors: List[str] = ['open', 'high', 'low', 'close', 'volume', 'close_ratio_2',\n",
    "       'edit_2', 'trend_2', 'close_ratio_7', 'edit_7', 'trend_7',\n",
    "       'close_ratio_30', 'edit_30', 'trend_30', 'close_ratio_60', 'edit_60',\n",
    "       'trend_60', 'close_ratio_365', 'edit_365', 'trend_365', 'edit_count_y', \n",
    "       'sentiment_y', 'neg_sentiment_y', 'fng_index_y']\n",
    "\n",
    "map = {'Neutral': 0, 'Greed': 1, 'Fear': -1, 'Extreme Fear': -2, 'Extreme Greed': 2}\n",
    "\n",
    "std_scaler = StandardScaler()"
   ]
  },
  {
   "cell_type": "code",
   "execution_count": 71,
   "metadata": {},
   "outputs": [],
   "source": [
    "# #Adjusting fng classification values\n",
    "# def adjust_df_for_ml(df:pd.DataFrame, map:dict) -> pd.DataFrame:\n",
    "#     df['fng_class_yest_adjusted'] = df['fng_class_yest'].map(map)\n",
    "#     df.drop(columns=['fng_class', 'fng_class_yest'], axis=1, inplace=True)\n",
    "#     return df\n",
    "\n",
    "# ml_data = adjust_df_for_ml(df=new_data, map=map)\n",
    "# ml_data.head()"
   ]
  },
  {
   "cell_type": "markdown",
   "metadata": {},
   "source": [
    "Here we are going to test 3 approaches:\n",
    "\n",
    "1. without any normalization or scalling\n",
    "2. applying a normalization\n",
    "3. applying scalling"
   ]
  },
  {
   "cell_type": "code",
   "execution_count": 124,
   "metadata": {},
   "outputs": [],
   "source": [
    "#spliting data for gridsearch\n",
    "train = new_data.iloc[0:2000]\n",
    "test = new_data.iloc[2000:2378]\n",
    "\n",
    "## prepare x_train for models\n",
    "X_train = train[predictors]\n",
    "X_train_norm = normalize(train[predictors])\n",
    "X_train_scaled = std_scaler.fit_transform(train[predictors])\n",
    "\n",
    "## prepate x_test for models\n",
    "X_test = test[predictors]\n",
    "X_test_norm = normalize(test[predictors])\n",
    "X_test_scaled = std_scaler.fit_transform(test[predictors])\n",
    "\n",
    "## Target\n",
    "y_train = train['target']\n",
    "y_test = test['target']"
   ]
  },
  {
   "cell_type": "markdown",
   "metadata": {},
   "source": [
    "### Running Grid Search CV to find best Model"
   ]
  },
  {
   "cell_type": "code",
   "execution_count": 232,
   "metadata": {},
   "outputs": [],
   "source": [
    "def run_grid_search_cv(model, params, X, y):\n",
    "    search_cv = GridSearchCV(model, params)\n",
    "    search_cv.fit(X, y)\n",
    "    return search_cv.best_score_, \\\n",
    "           search_cv.best_params_, \\\n",
    "           search_cv.best_estimator_\n",
    "\n",
    "def print_grid_evaluation_report(best_score: float, best_params: dict) -> None:\n",
    "    print(\"----Evaluation Report----\\n\")\n",
    "    print(f\"Best Score Achieved: {best_score}\\n\")\n",
    "    print(f\"Best Params Found: {best_params}\\n\")\n",
    "    print(\"---------------------------------\\n\")\n",
    "\n",
    "def predict(train: pd.DataFrame, test: pd.DataFrame, \n",
    "            predictors: List[str], model, mode:str= 'raw') -> pd.DataFrame:\n",
    "    y_train = train[\"target\"]\n",
    "    X_train = train[predictors]\n",
    "    X_test = test[predictors]\n",
    "    \n",
    "    if mode == 'norm':\n",
    "        X_train = normalize(X_train)\n",
    "        X_test = normalize(X_test)\n",
    "    elif mode == 'sca':\n",
    "        X_train = std_scaler.fit_transform(X_train)\n",
    "        X_test = std_scaler.fit_transform(X_test)\n",
    "    model.fit(X_train, y_train)\n",
    "    # preds = model.predict(X_test)\n",
    "    # Predict probabilities\n",
    "    probabilities = model.predict_proba(X_test)\n",
    "\n",
    "    # Extract probabilities for class 1\n",
    "    class_1_probs = probabilities[:, 1]  # Assuming class 1 is the second column\n",
    "\n",
    "    # Apply threshold\n",
    "    predictions = (class_1_probs >= 0.6).astype(int)\n",
    "    preds = pd.Series(predictions, index=test.index, name=\"predictions\")\n",
    "    return pd.concat([test[\"target\"], preds], axis=1)\n",
    "\n",
    "def backtest(data: pd.DataFrame, model, \n",
    "             predictors: List[str], start: int = 1095, \n",
    "             step: int = 150, mode:str = 'raw') -> pd.DataFrame:\n",
    "    all_predictions = []\n",
    "\n",
    "    for i in range(start, data.shape[0], step):\n",
    "        train = data.iloc[0:i].copy()\n",
    "        test = data.iloc[i:(i + step)].copy()\n",
    "        predictions = predict(train, test, predictors, model, mode)\n",
    "        all_predictions.append(predictions)\n",
    "\n",
    "    return pd.concat(all_predictions)\n",
    "\n",
    "def evaluate_model(predictions: pd.DataFrame) -> Tuple[float, float]:\n",
    "    precision = precision_score(predictions[\"target\"], predictions[\"predictions\"])\n",
    "    accuracy = accuracy_score(predictions[\"target\"], predictions[\"predictions\"])\n",
    "    return precision, accuracy\n",
    "\n",
    "def plot_feature_importances(model, X:np.ndarray, y:np.ndarray, label:list) -> FeatureImportances:\n",
    "    fig_viz = FeatureImportances(model, labels=predictors)\n",
    "    fig_viz.fit(X, y)\n",
    "    return fig_viz\n"
   ]
  },
  {
   "cell_type": "markdown",
   "metadata": {},
   "source": [
    "#### Random Forest (RF)"
   ]
  },
  {
   "cell_type": "code",
   "execution_count": 190,
   "metadata": {},
   "outputs": [],
   "source": [
    "rf_params = {\n",
    "    'n_estimators':[100, 125, 150, 200],\n",
    "    'criterion': ['gini', 'entropy', 'log_loss'],\n",
    "    'max_depth': [3, 5, 7, 9]\n",
    "}\n",
    "rf_model = RandomForestClassifier(random_state=1)"
   ]
  },
  {
   "cell_type": "markdown",
   "metadata": {},
   "source": [
    "##### Random Forest (RF) raw"
   ]
  },
  {
   "cell_type": "code",
   "execution_count": 191,
   "metadata": {},
   "outputs": [
    {
     "name": "stdout",
     "output_type": "stream",
     "text": [
      "----Evaluation Report----\n",
      "\n",
      "Best Score Achieved: 0.4525\n",
      "\n",
      "Best Params Found: {'criterion': 'gini', 'max_depth': 7, 'n_estimators': 100}\n",
      "\n",
      "---------------------------------\n",
      "\n"
     ]
    }
   ],
   "source": [
    "best_score, best_params, best_model_rf_cr = run_grid_search_cv(model=rf_model, params=rf_params, X=X_train, y=y_train)\n",
    "print_grid_evaluation_report(best_score, best_params)"
   ]
  },
  {
   "cell_type": "code",
   "execution_count": 196,
   "metadata": {},
   "outputs": [
    {
     "name": "stdout",
     "output_type": "stream",
     "text": [
      "Precisão do modelo: 0.51\n",
      "Acurácia do modelo: 0.52\n",
      "            target  predictions\n",
      "2021-03-05       0            1\n",
      "2021-03-06       1            1\n",
      "2021-03-07       1            0\n",
      "2021-03-08       1            0\n",
      "2021-03-09       1            0\n",
      "...            ...          ...\n",
      "2024-09-03       1            1\n",
      "2024-09-04       0            0\n",
      "2024-09-05       0            1\n",
      "2024-09-06       1            1\n",
      "2024-09-07       1            1\n",
      "\n",
      "[1283 rows x 2 columns]\n"
     ]
    }
   ],
   "source": [
    "predictions = backtest(new_data, best_model_rf_cr, predictors)\n",
    "\n",
    "# Avaliar o modelo\n",
    "precision, accuracy = evaluate_model(predictions)\n",
    "print(f\"Precisão do modelo: {precision:.2f}\")\n",
    "print(f\"Acurácia do modelo: {accuracy:.2f}\")\n",
    "print(predictions)"
   ]
  },
  {
   "cell_type": "code",
   "execution_count": 227,
   "metadata": {},
   "outputs": [
    {
     "name": "stderr",
     "output_type": "stream",
     "text": [
      "c:\\Users\\julio\\OneDrive\\Área de Trabalho\\Projects\\bitcoin_trend_prediction\\.venv\\Lib\\site-packages\\sklearn\\base.py:493: UserWarning: X does not have valid feature names, but RandomForestClassifier was fitted with feature names\n",
      "  warnings.warn(\n"
     ]
    },
    {
     "data": {
      "image/png": "[encoded data removed]",
      "text/plain": [
       "<Figure size 800x600 with 1 Axes>"
      ]
     },
     "metadata": {},
     "output_type": "display_data"
    }
   ],
   "source": [
    "fig, ax = plt.subplots(figsize=(8,6))\n",
    "feature_importance = plot_feature_importances(model=best_model_rf_cr, \n",
    "                                              X=X_train, \n",
    "                                              y=y_train,\n",
    "                                              label=predictors)\n",
    "plt.show(feature_importance)"
   ]
  },
  {
   "cell_type": "markdown",
   "metadata": {},
   "source": [
    "##### Random Forest (RF) Scaled"
   ]
  },
  {
   "cell_type": "code",
   "execution_count": 198,
   "metadata": {},
   "outputs": [
    {
     "name": "stdout",
     "output_type": "stream",
     "text": [
      "----Evaluation Report----\n",
      "\n",
      "Best Score Achieved: 0.4535\n",
      "\n",
      "Best Params Found: {'criterion': 'gini', 'max_depth': 7, 'n_estimators': 100}\n",
      "\n",
      "---------------------------------\n",
      "\n"
     ]
    }
   ],
   "source": [
    "best_score, best_params, best_model_rf_sca = run_grid_search_cv(model=rf_model, params=rf_params, X=X_train_scaled, y=y_train)\n",
    "print_grid_evaluation_report(best_score, best_params)"
   ]
  },
  {
   "cell_type": "code",
   "execution_count": 204,
   "metadata": {},
   "outputs": [
    {
     "name": "stdout",
     "output_type": "stream",
     "text": [
      "Precisão do modelo: 0.58\n",
      "Acurácia do modelo: 0.54\n",
      "            target  predictions\n",
      "2021-03-05       0            0\n",
      "2021-03-06       1            0\n",
      "2021-03-07       1            0\n",
      "2021-03-08       1            0\n",
      "2021-03-09       1            0\n",
      "...            ...          ...\n",
      "2024-09-03       1            0\n",
      "2024-09-04       0            0\n",
      "2024-09-05       0            1\n",
      "2024-09-06       1            0\n",
      "2024-09-07       1            1\n",
      "\n",
      "[1283 rows x 2 columns]\n"
     ]
    }
   ],
   "source": [
    "predictions = backtest(new_data, best_model_rf_sca, predictors, mode='sca')\n",
    "\n",
    "# Avaliar o modelo\n",
    "precision, accuracy = evaluate_model(predictions)\n",
    "print(f\"Precisão do modelo: {precision:.2f}\")\n",
    "print(f\"Acurácia do modelo: {accuracy:.2f}\")\n",
    "print(predictions)"
   ]
  },
  {
   "cell_type": "code",
   "execution_count": 233,
   "metadata": {},
   "outputs": [
    {
     "data": {
      "image/png": "[encoded data removed]",
      "text/plain": [
       "<Figure size 800x600 with 1 Axes>"
      ]
     },
     "metadata": {},
     "output_type": "display_data"
    }
   ],
   "source": [
    "fig, ax = plt.subplots(figsize=(8,6))\n",
    "feature_importance = plot_feature_importances(model=best_model_rf_sca, \n",
    "                                              X=X_train_scaled, \n",
    "                                              y=y_train, \n",
    "                                              label = predictors)\n",
    "plt.show(feature_importance)"
   ]
  },
  {
   "cell_type": "markdown",
   "metadata": {},
   "source": [
    "##### Random Forest (RF) Normalized"
   ]
  },
  {
   "cell_type": "code",
   "execution_count": 201,
   "metadata": {},
   "outputs": [
    {
     "name": "stdout",
     "output_type": "stream",
     "text": [
      "----Evaluation Report----\n",
      "\n",
      "Best Score Achieved: 0.5165000000000001\n",
      "\n",
      "Best Params Found: {'criterion': 'gini', 'max_depth': 7, 'n_estimators': 150}\n",
      "\n",
      "---------------------------------\n",
      "\n"
     ]
    }
   ],
   "source": [
    "best_score, best_params, best_model_rf_norm = run_grid_search_cv(model=rf_model, params=rf_params, X=X_train_norm, y=y_train)\n",
    "print_grid_evaluation_report(best_score, best_params)"
   ]
  },
  {
   "cell_type": "code",
   "execution_count": 205,
   "metadata": {},
   "outputs": [
    {
     "name": "stdout",
     "output_type": "stream",
     "text": [
      "Precisão do modelo: 0.37\n",
      "Acurácia do modelo: 0.50\n",
      "            target  predictions\n",
      "2021-03-05       0            0\n",
      "2021-03-06       1            0\n",
      "2021-03-07       1            0\n",
      "2021-03-08       1            0\n",
      "2021-03-09       1            0\n",
      "...            ...          ...\n",
      "2024-09-03       1            0\n",
      "2024-09-04       0            0\n",
      "2024-09-05       0            0\n",
      "2024-09-06       1            0\n",
      "2024-09-07       1            0\n",
      "\n",
      "[1283 rows x 2 columns]\n"
     ]
    }
   ],
   "source": [
    "predictions = backtest(new_data, best_model_rf_norm, predictors, mode='norm')\n",
    "\n",
    "# Avaliar o modelo\n",
    "precision, accuracy = evaluate_model(predictions)\n",
    "print(f\"Precisão do modelo: {precision:.2f}\")\n",
    "print(f\"Acurácia do modelo: {accuracy:.2f}\")\n",
    "print(predictions)"
   ]
  },
  {
   "cell_type": "code",
   "execution_count": 234,
   "metadata": {},
   "outputs": [
    {
     "data": {
      "image/png": "[encoded data removed]",
      "text/plain": [
       "<Figure size 800x600 with 1 Axes>"
      ]
     },
     "metadata": {},
     "output_type": "display_data"
    }
   ],
   "source": [
    "fig, ax = plt.subplots(figsize=(8,6))\n",
    "feature_importance = plot_feature_importances(model=best_model_rf_norm, \n",
    "                                              X=X_train_norm, \n",
    "                                              y=y_train, \n",
    "                                              label = predictors)\n",
    "plt.show(feature_importance)"
   ]
  },
  {
   "cell_type": "markdown",
   "metadata": {},
   "source": [
    "#### KNN Classifier"
   ]
  },
  {
   "cell_type": "code",
   "execution_count": 207,
   "metadata": {},
   "outputs": [],
   "source": [
    "knn_params = {\n",
    "    'n_neighbors':[5,7,9,10,11,12,13,14, 30, 60],\n",
    "    'algorithm': ['auto', 'ball_tree', 'kd_tree', 'brute'],\n",
    "    'weights': ['uniform', 'distance']\n",
    "}\n",
    "knn_model = KNeighborsClassifier()"
   ]
  },
  {
   "cell_type": "markdown",
   "metadata": {},
   "source": [
    "##### KNN Classifier Raw"
   ]
  },
  {
   "cell_type": "code",
   "execution_count": 208,
   "metadata": {},
   "outputs": [
    {
     "name": "stdout",
     "output_type": "stream",
     "text": [
      "----Evaluation Report----\n",
      "\n",
      "Best Score Achieved: 0.5185000000000001\n",
      "\n",
      "Best Params Found: {'algorithm': 'auto', 'n_neighbors': 7, 'weights': 'distance'}\n",
      "\n",
      "---------------------------------\n",
      "\n"
     ]
    }
   ],
   "source": [
    "best_score, best_params, best_model_knn_cr = run_grid_search_cv(model=knn_model, params=knn_params, X=X_train, y=y_train)\n",
    "print_grid_evaluation_report(best_score, best_params)"
   ]
  },
  {
   "cell_type": "code",
   "execution_count": 209,
   "metadata": {},
   "outputs": [
    {
     "name": "stdout",
     "output_type": "stream",
     "text": [
      "Precisão do modelo: 0.53\n",
      "Acurácia do modelo: 0.53\n",
      "            target  predictions\n",
      "2021-03-05       0            1\n",
      "2021-03-06       1            0\n",
      "2021-03-07       1            1\n",
      "2021-03-08       1            0\n",
      "2021-03-09       1            1\n",
      "...            ...          ...\n",
      "2024-09-03       1            0\n",
      "2024-09-04       0            1\n",
      "2024-09-05       0            0\n",
      "2024-09-06       1            1\n",
      "2024-09-07       1            0\n",
      "\n",
      "[1283 rows x 2 columns]\n"
     ]
    }
   ],
   "source": [
    "predictions = backtest(new_data, best_model_knn_cr, predictors)\n",
    "\n",
    "# Avaliar o modelo\n",
    "precision, accuracy = evaluate_model(predictions)\n",
    "print(f\"Precisão do modelo: {precision:.2f}\")\n",
    "print(f\"Acurácia do modelo: {accuracy:.2f}\")\n",
    "print(predictions)"
   ]
  },
  {
   "cell_type": "markdown",
   "metadata": {},
   "source": [
    "##### KNN Classifier Scaled"
   ]
  },
  {
   "cell_type": "code",
   "execution_count": 210,
   "metadata": {},
   "outputs": [
    {
     "name": "stdout",
     "output_type": "stream",
     "text": [
      "----Evaluation Report----\n",
      "\n",
      "Best Score Achieved: 0.469\n",
      "\n",
      "Best Params Found: {'algorithm': 'auto', 'n_neighbors': 13, 'weights': 'uniform'}\n",
      "\n",
      "---------------------------------\n",
      "\n"
     ]
    }
   ],
   "source": [
    "best_score, best_params, best_model_knn_sca = run_grid_search_cv(model=knn_model, params=knn_params, X=X_train_scaled, y=y_train)\n",
    "print_grid_evaluation_report(best_score, best_params)"
   ]
  },
  {
   "cell_type": "code",
   "execution_count": 211,
   "metadata": {},
   "outputs": [
    {
     "name": "stdout",
     "output_type": "stream",
     "text": [
      "Precisão do modelo: 0.51\n",
      "Acurácia do modelo: 0.51\n",
      "            target  predictions\n",
      "2021-03-05       0            1\n",
      "2021-03-06       1            0\n",
      "2021-03-07       1            0\n",
      "2021-03-08       1            1\n",
      "2021-03-09       1            1\n",
      "...            ...          ...\n",
      "2024-09-03       1            0\n",
      "2024-09-04       0            0\n",
      "2024-09-05       0            0\n",
      "2024-09-06       1            1\n",
      "2024-09-07       1            1\n",
      "\n",
      "[1283 rows x 2 columns]\n"
     ]
    }
   ],
   "source": [
    "predictions = backtest(new_data, best_model_knn_sca, predictors)\n",
    "\n",
    "# Avaliar o modelo\n",
    "precision, accuracy = evaluate_model(predictions)\n",
    "print(f\"Precisão do modelo: {precision:.2f}\")\n",
    "print(f\"Acurácia do modelo: {accuracy:.2f}\")\n",
    "print(predictions)"
   ]
  },
  {
   "cell_type": "markdown",
   "metadata": {},
   "source": [
    "##### KNN Classifier Normalized"
   ]
  },
  {
   "cell_type": "code",
   "execution_count": 212,
   "metadata": {},
   "outputs": [
    {
     "name": "stdout",
     "output_type": "stream",
     "text": [
      "----Evaluation Report----\n",
      "\n",
      "Best Score Achieved: 0.5135000000000001\n",
      "\n",
      "Best Params Found: {'algorithm': 'ball_tree', 'n_neighbors': 9, 'weights': 'uniform'}\n",
      "\n",
      "---------------------------------\n",
      "\n"
     ]
    }
   ],
   "source": [
    "best_score, best_params, best_model_knn_norm = run_grid_search_cv(model=knn_model, params=knn_params, X=X_train_norm, y=y_train)\n",
    "print_grid_evaluation_report(best_score, best_params)"
   ]
  },
  {
   "cell_type": "code",
   "execution_count": 213,
   "metadata": {},
   "outputs": [
    {
     "name": "stdout",
     "output_type": "stream",
     "text": [
      "Precisão do modelo: 0.50\n",
      "Acurácia do modelo: 0.51\n",
      "            target  predictions\n",
      "2021-03-05       0            0\n",
      "2021-03-06       1            0\n",
      "2021-03-07       1            1\n",
      "2021-03-08       1            0\n",
      "2021-03-09       1            0\n",
      "...            ...          ...\n",
      "2024-09-03       1            1\n",
      "2024-09-04       0            1\n",
      "2024-09-05       0            1\n",
      "2024-09-06       1            1\n",
      "2024-09-07       1            1\n",
      "\n",
      "[1283 rows x 2 columns]\n"
     ]
    }
   ],
   "source": [
    "predictions = backtest(new_data, best_model_knn_norm, predictors, mode='norm')\n",
    "\n",
    "# Avaliar o modelo\n",
    "precision, accuracy = evaluate_model(predictions)\n",
    "print(f\"Precisão do modelo: {precision:.2f}\")\n",
    "print(f\"Acurácia do modelo: {accuracy:.2f}\")\n",
    "print(predictions)"
   ]
  },
  {
   "cell_type": "markdown",
   "metadata": {},
   "source": [
    "#### XGBoost"
   ]
  },
  {
   "cell_type": "code",
   "execution_count": 216,
   "metadata": {},
   "outputs": [],
   "source": [
    "xgb_params = {'random_state' : [1], \n",
    "              'learning_rate' : [0.1, 0.2, 0.3, 0.4], \n",
    "              'n_estimators' : [100,150,200,250,300], \n",
    "              'colsample_bytree' : [0.25, 0.5, 0.75, 1], \n",
    "              'max_depth' : [3,5,6,7,8]\n",
    "}\n",
    "\n",
    "model_xgb = XGBClassifier()"
   ]
  },
  {
   "cell_type": "markdown",
   "metadata": {},
   "source": [
    "##### XGBoost Raw"
   ]
  },
  {
   "cell_type": "code",
   "execution_count": 217,
   "metadata": {},
   "outputs": [
    {
     "name": "stdout",
     "output_type": "stream",
     "text": [
      "----Evaluation Report----\n",
      "\n",
      "Best Score Achieved: 0.4715\n",
      "\n",
      "Best Params Found: {'colsample_bytree': 0.75, 'learning_rate': 0.4, 'max_depth': 6, 'n_estimators': 150, 'random_state': 1}\n",
      "\n",
      "---------------------------------\n",
      "\n"
     ]
    },
    {
     "name": "stderr",
     "output_type": "stream",
     "text": [
      "c:\\Users\\julio\\OneDrive\\Área de Trabalho\\Projects\\bitcoin_trend_prediction\\.venv\\Lib\\site-packages\\numpy\\ma\\core.py:2881: RuntimeWarning: invalid value encountered in cast\n",
      "  _data = np.array(data, dtype=dtype, copy=copy,\n"
     ]
    }
   ],
   "source": [
    "best_score, best_params, best_model_xgb_cr = run_grid_search_cv(model=model_xgb, params=xgb_params, X=X_train, y=y_train)\n",
    "print_grid_evaluation_report(best_score, best_params)"
   ]
  },
  {
   "cell_type": "code",
   "execution_count": 218,
   "metadata": {},
   "outputs": [
    {
     "name": "stdout",
     "output_type": "stream",
     "text": [
      "Precisão do modelo: 0.51\n",
      "Acurácia do modelo: 0.52\n",
      "            target  predictions\n",
      "2021-03-05       0            1\n",
      "2021-03-06       1            0\n",
      "2021-03-07       1            0\n",
      "2021-03-08       1            0\n",
      "2021-03-09       1            0\n",
      "...            ...          ...\n",
      "2024-09-03       1            1\n",
      "2024-09-04       0            0\n",
      "2024-09-05       0            1\n",
      "2024-09-06       1            1\n",
      "2024-09-07       1            1\n",
      "\n",
      "[1283 rows x 2 columns]\n"
     ]
    }
   ],
   "source": [
    "predictions = backtest(new_data, best_model_xgb_cr, predictors)\n",
    "\n",
    "# Avaliar o modelo\n",
    "precision, accuracy = evaluate_model(predictions)\n",
    "print(f\"Precisão do modelo: {precision:.2f}\")\n",
    "print(f\"Acurácia do modelo: {accuracy:.2f}\")\n",
    "print(predictions)"
   ]
  },
  {
   "cell_type": "code",
   "execution_count": 236,
   "metadata": {},
   "outputs": [
    {
     "data": {
      "image/png": "[encoded data removed]",
      "text/plain": [
       "<Figure size 800x600 with 1 Axes>"
      ]
     },
     "metadata": {},
     "output_type": "display_data"
    }
   ],
   "source": [
    "fig, ax = plt.subplots(figsize=(8,6))\n",
    "feature_importance = plot_feature_importances(model=best_model_xgb_cr, \n",
    "                                              X=X_train, \n",
    "                                              y=y_train,\n",
    "                                              label=predictors)\n",
    "plt.show(feature_importance)"
   ]
  },
  {
   "cell_type": "markdown",
   "metadata": {},
   "source": [
    "##### XGBoost Scaled"
   ]
  },
  {
   "cell_type": "code",
   "execution_count": 219,
   "metadata": {},
   "outputs": [
    {
     "name": "stdout",
     "output_type": "stream",
     "text": [
      "----Evaluation Report----\n",
      "\n",
      "Best Score Achieved: 0.4715\n",
      "\n",
      "Best Params Found: {'colsample_bytree': 0.75, 'learning_rate': 0.4, 'max_depth': 6, 'n_estimators': 150, 'random_state': 1}\n",
      "\n",
      "---------------------------------\n",
      "\n"
     ]
    },
    {
     "name": "stderr",
     "output_type": "stream",
     "text": [
      "c:\\Users\\julio\\OneDrive\\Área de Trabalho\\Projects\\bitcoin_trend_prediction\\.venv\\Lib\\site-packages\\numpy\\ma\\core.py:2881: RuntimeWarning: invalid value encountered in cast\n",
      "  _data = np.array(data, dtype=dtype, copy=copy,\n"
     ]
    }
   ],
   "source": [
    "best_score, best_params, best_model_xgb_sca = run_grid_search_cv(model=model_xgb, params=xgb_params, X=X_train_scaled, y=y_train)\n",
    "print_grid_evaluation_report(best_score, best_params)"
   ]
  },
  {
   "cell_type": "code",
   "execution_count": 220,
   "metadata": {},
   "outputs": [
    {
     "name": "stdout",
     "output_type": "stream",
     "text": [
      "Precisão do modelo: 0.51\n",
      "Acurácia do modelo: 0.52\n",
      "            target  predictions\n",
      "2021-03-05       0            1\n",
      "2021-03-06       1            0\n",
      "2021-03-07       1            0\n",
      "2021-03-08       1            0\n",
      "2021-03-09       1            0\n",
      "...            ...          ...\n",
      "2024-09-03       1            1\n",
      "2024-09-04       0            0\n",
      "2024-09-05       0            1\n",
      "2024-09-06       1            1\n",
      "2024-09-07       1            1\n",
      "\n",
      "[1283 rows x 2 columns]\n"
     ]
    }
   ],
   "source": [
    "predictions = backtest(new_data, best_model_xgb_sca, predictors)\n",
    "\n",
    "# Avaliar o modelo\n",
    "precision, accuracy = evaluate_model(predictions)\n",
    "print(f\"Precisão do modelo: {precision:.2f}\")\n",
    "print(f\"Acurácia do modelo: {accuracy:.2f}\")\n",
    "print(predictions)"
   ]
  },
  {
   "cell_type": "code",
   "execution_count": 237,
   "metadata": {},
   "outputs": [
    {
     "data": {
      "image/png": "[encoded data removed]",
      "text/plain": [
       "<Figure size 800x600 with 1 Axes>"
      ]
     },
     "metadata": {},
     "output_type": "display_data"
    }
   ],
   "source": [
    "fig, ax = plt.subplots(figsize=(8,6))\n",
    "feature_importance = plot_feature_importances(model=best_model_xgb_sca, \n",
    "                                              X=X_train_scaled, \n",
    "                                              y=y_train,\n",
    "                                              label=predictors)\n",
    "plt.show(feature_importance)"
   ]
  },
  {
   "cell_type": "markdown",
   "metadata": {},
   "source": [
    "##### XGBoost Norm"
   ]
  },
  {
   "cell_type": "code",
   "execution_count": 221,
   "metadata": {},
   "outputs": [
    {
     "name": "stdout",
     "output_type": "stream",
     "text": [
      "----Evaluation Report----\n",
      "\n",
      "Best Score Achieved: 0.4835\n",
      "\n",
      "Best Params Found: {'colsample_bytree': 0.5, 'learning_rate': 0.3, 'max_depth': 3, 'n_estimators': 300, 'random_state': 1}\n",
      "\n",
      "---------------------------------\n",
      "\n"
     ]
    }
   ],
   "source": [
    "best_score, best_params, best_model_xgb_norm = run_grid_search_cv(model=model_xgb, params=xgb_params, X=X_train_norm, y=y_train)\n",
    "print_grid_evaluation_report(best_score, best_params)"
   ]
  },
  {
   "cell_type": "code",
   "execution_count": 222,
   "metadata": {},
   "outputs": [
    {
     "name": "stdout",
     "output_type": "stream",
     "text": [
      "Precisão do modelo: 0.50\n",
      "Acurácia do modelo: 0.51\n",
      "            target  predictions\n",
      "2021-03-05       0            1\n",
      "2021-03-06       1            1\n",
      "2021-03-07       1            0\n",
      "2021-03-08       1            0\n",
      "2021-03-09       1            0\n",
      "...            ...          ...\n",
      "2024-09-03       1            1\n",
      "2024-09-04       0            0\n",
      "2024-09-05       0            1\n",
      "2024-09-06       1            1\n",
      "2024-09-07       1            1\n",
      "\n",
      "[1283 rows x 2 columns]\n"
     ]
    }
   ],
   "source": [
    "predictions = backtest(new_data, best_model_xgb_norm, predictors)\n",
    "\n",
    "# Avaliar o modelo\n",
    "precision, accuracy = evaluate_model(predictions)\n",
    "print(f\"Precisão do modelo: {precision:.2f}\")\n",
    "print(f\"Acurácia do modelo: {accuracy:.2f}\")\n",
    "print(predictions)"
   ]
  },
  {
   "cell_type": "code",
   "execution_count": 238,
   "metadata": {},
   "outputs": [
    {
     "data": {
      "image/png": "[encoded data removed]",
      "text/plain": [
       "<Figure size 800x600 with 1 Axes>"
      ]
     },
     "metadata": {},
     "output_type": "display_data"
    }
   ],
   "source": [
    "fig, ax = plt.subplots(figsize=(8,6))\n",
    "feature_importance = plot_feature_importances(model=best_model_xgb_norm, \n",
    "                                              X=X_train_norm, \n",
    "                                              y=y_train,\n",
    "                                              label=predictors)\n",
    "plt.show(feature_importance)"
   ]
  },
  {
   "cell_type": "markdown",
   "metadata": {},
   "source": [
    "### Running Best Model"
   ]
  },
  {
   "cell_type": "code",
   "execution_count": 25,
   "metadata": {},
   "outputs": [],
   "source": [
    "# # Função de predição\n",
    "# def predict(train: pd.DataFrame, test: pd.DataFrame, predictors: List[str], model: XGBClassifier) -> pd.DataFrame:\n",
    "#     model.fit(train[predictors], train[\"target\"])\n",
    "#     preds = model.predict(test[predictors])\n",
    "#     preds = pd.Series(preds, index=test.index, name=\"predictions\")\n",
    "#     return pd.concat([test[\"target\"], preds], axis=1)\n",
    "\n",
    "# # Função de backtesting\n",
    "# # Usaremos uma abordagem de janela móvel para fazer o backtesting do modelo.\n",
    "# # Pegaremos uma janela de dados, usaremos para treinar o modelo e, em seguida, usaremos o modelo para prever a próxima janela de dados.\n",
    "# # Repetiremos esse processo até termos usado todos os dados.\n",
    "# # O parâmetro start significa 3 anos de dados para treinar o modelo.\n",
    "# # O parâmetro step significa 150 dias de dados para testar o modelo.\n",
    "# def backtest(data: pd.DataFrame, model: XGBClassifier, predictors: List[str], start: int = 1095, step: int = 150) -> pd.DataFrame:\n",
    "#     all_predictions = []\n",
    "\n",
    "#     for i in range(start, data.shape[0], step):\n",
    "#         train = data.iloc[0:i].copy()\n",
    "#         test = data.iloc[i:(i + step)].copy()\n",
    "#         predictions = predict(train, test, predictors, model)\n",
    "#         all_predictions.append(predictions)\n",
    "\n",
    "#     return pd.concat(all_predictions)\n",
    "\n",
    "# # Função de avaliação do modelo\n",
    "# def evaluate_model(predictions: pd.DataFrame) -> Tuple[float, float]:\n",
    "#     precision = precision_score(predictions[\"target\"], predictions[\"predictions\"])\n",
    "#     accuracy = accuracy_score(predictions[\"target\"], predictions[\"predictions\"])\n",
    "#     return precision, accuracy"
   ]
  },
  {
   "cell_type": "code",
   "execution_count": 35,
   "metadata": {},
   "outputs": [
    {
     "name": "stdout",
     "output_type": "stream",
     "text": [
      "Precisão do modelo: 0.48\n",
      "Acurácia do modelo: 0.49\n",
      "            target  predictions\n",
      "2021-03-05       0            0\n",
      "2021-03-06       1            0\n",
      "2021-03-07       1            0\n",
      "2021-03-08       1            0\n",
      "2021-03-09       1            0\n",
      "...            ...          ...\n",
      "2024-09-02       0            0\n",
      "2024-09-03       1            1\n",
      "2024-09-04       0            1\n",
      "2024-09-05       0            1\n",
      "2024-09-06       1            0\n",
      "\n",
      "[1282 rows x 2 columns]\n"
     ]
    }
   ],
   "source": [
    "# # Criar e treinar o modelo XGBoost\n",
    "# model = XGBClassifier(random_state=1, learning_rate=0.2, n_estimators=500, colsample_bytree = 1, max_depth = 8)\n",
    "# predictions = backtest(data, model, predictors)\n",
    "\n",
    "# # Avaliar o modelo\n",
    "# precision, accuracy = evaluate_model(predictions)\n",
    "# print(f\"Precisão do modelo: {precision:.2f}\")\n",
    "# print(f\"Acurácia do modelo: {accuracy:.2f}\")\n",
    "# print(predictions)"
   ]
  },
  {
   "cell_type": "code",
   "execution_count": 102,
   "metadata": {},
   "outputs": [
    {
     "name": "stdout",
     "output_type": "stream",
     "text": [
      "<class 'pandas.core.frame.DataFrame'>\n",
      "Index: 2378 entries, 2018-03-02 to 2024-09-06\n",
      "Data columns (total 12 columns):\n",
      " #   Column                       Non-Null Count  Dtype  \n",
      "---  ------                       --------------  -----  \n",
      " 0   open                         2378 non-null   float64\n",
      " 1   high                         2378 non-null   float64\n",
      " 2   low                          2378 non-null   float64\n",
      " 3   close                        2378 non-null   float64\n",
      " 4   volume                       2378 non-null   int64  \n",
      " 5   edit_count                   2378 non-null   float64\n",
      " 6   tomorrow                     2377 non-null   float64\n",
      " 7   sentiment                    2378 non-null   float64\n",
      " 8   neg_sentiment                2378 non-null   float64\n",
      " 9   fng_index                    2378 non-null   int64  \n",
      " 10  target                       2378 non-null   int64  \n",
      " 11  fng_classification_adjusted  2378 non-null   int64  \n",
      "dtypes: float64(8), int64(4)\n",
      "memory usage: 241.5+ KB\n"
     ]
    }
   ],
   "source": [
    "data.info()"
   ]
  },
  {
   "cell_type": "markdown",
   "metadata": {},
   "source": [
    "### Serialização do Modelo"
   ]
  },
  {
   "cell_type": "code",
   "execution_count": 239,
   "metadata": {},
   "outputs": [
    {
     "data": {
      "text/plain": [
       "['btc_trend_prediction_model_best.joblib']"
      ]
     },
     "execution_count": 239,
     "metadata": {},
     "output_type": "execute_result"
    }
   ],
   "source": [
    "# Salvar o modelo treinado em um arquivo\n",
    "model_filename = \"btc_trend_prediction_model_best.joblib\"\n",
    "dump(best_model_rf_sca, model_filename)"
   ]
  }
 ],
 "metadata": {
  "kernelspec": {
   "display_name": "Python 3",
   "language": "python",
   "name": "python3"
  },
  "language_info": {
   "codemirror_mode": {
    "name": "ipython",
    "version": 3
   },
   "file_extension": ".py",
   "mimetype": "text/x-python",
   "name": "python",
   "nbconvert_exporter": "python",
   "pygments_lexer": "ipython3",
   "version": "3.11.2"
  }
 },
 "nbformat": 4,
 "nbformat_minor": 2
}
