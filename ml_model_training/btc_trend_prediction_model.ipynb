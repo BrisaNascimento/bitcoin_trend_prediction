{
 "cells": [
  {
   "cell_type": "markdown",
   "metadata": {},
   "source": [
    "### Treinamento do Modelo Machine Learning"
   ]
  },
  {
   "cell_type": "code",
   "execution_count": 25,
   "metadata": {},
   "outputs": [
    {
     "name": "stdout",
     "output_type": "stream",
     "text": [
      "Requirement already satisfied: pandas in /opt/homebrew/lib/python3.11/site-packages (2.1.2)\n",
      "Requirement already satisfied: scikit-learn in /opt/homebrew/lib/python3.11/site-packages (1.5.1)\n",
      "Requirement already satisfied: xgboost in /opt/homebrew/lib/python3.11/site-packages (2.1.1)\n",
      "Requirement already satisfied: joblib in /opt/homebrew/lib/python3.11/site-packages (1.3.2)\n",
      "Requirement already satisfied: numpy<2,>=1.23.2 in /opt/homebrew/lib/python3.11/site-packages (from pandas) (1.26.4)\n",
      "Requirement already satisfied: python-dateutil>=2.8.2 in /opt/homebrew/lib/python3.11/site-packages (from pandas) (2.8.2)\n",
      "Requirement already satisfied: pytz>=2020.1 in /opt/homebrew/lib/python3.11/site-packages (from pandas) (2023.3.post1)\n",
      "Requirement already satisfied: tzdata>=2022.1 in /opt/homebrew/lib/python3.11/site-packages (from pandas) (2023.3)\n",
      "Requirement already satisfied: scipy>=1.6.0 in /opt/homebrew/lib/python3.11/site-packages (from scikit-learn) (1.14.1)\n",
      "Requirement already satisfied: threadpoolctl>=3.1.0 in /opt/homebrew/lib/python3.11/site-packages (from scikit-learn) (3.5.0)\n",
      "Requirement already satisfied: six>=1.5 in /opt/homebrew/lib/python3.11/site-packages (from python-dateutil>=2.8.2->pandas) (1.16.0)\n",
      "\n",
      "\u001b[1m[\u001b[0m\u001b[34;49mnotice\u001b[0m\u001b[1;39;49m]\u001b[0m\u001b[39;49m A new release of pip is available: \u001b[0m\u001b[31;49m24.1.2\u001b[0m\u001b[39;49m -> \u001b[0m\u001b[32;49m24.2\u001b[0m\n",
      "\u001b[1m[\u001b[0m\u001b[34;49mnotice\u001b[0m\u001b[1;39;49m]\u001b[0m\u001b[39;49m To update, run: \u001b[0m\u001b[32;49mpython3.11 -m pip install --upgrade pip\u001b[0m\n",
      "Note: you may need to restart the kernel to use updated packages.\n"
     ]
    }
   ],
   "source": [
    "%pip install pandas scikit-learn xgboost joblib"
   ]
  },
  {
   "cell_type": "markdown",
   "metadata": {},
   "source": [
    "#### Importações de Bibliotecas"
   ]
  },
  {
   "cell_type": "code",
   "execution_count": 1,
   "metadata": {},
   "outputs": [
    {
     "data": {
      "text/plain": [
       "True"
      ]
     },
     "execution_count": 1,
     "metadata": {},
     "output_type": "execute_result"
    }
   ],
   "source": [
    "import pandas as pd\n",
    "from xgboost import XGBClassifier\n",
    "from sklearn.metrics import precision_score, accuracy_score\n",
    "from typing import List, Tuple\n",
    "from joblib import dump\n",
    "import boto3\n",
    "from io import StringIO\n",
    "from sklearn.preprocessing import normalize\n",
    "from sklearn.model_selection import GridSearchCV\n",
    "from io import StringIO\n",
    "from dotenv import load_dotenv\n",
    "import os\n",
    "load_dotenv()"
   ]
  },
  {
   "cell_type": "markdown",
   "metadata": {},
   "source": [
    "#### Treinamento e Predições do Modelo XGBoost"
   ]
  },
  {
   "cell_type": "markdown",
   "metadata": {},
   "source": [
    "#### Instruções\n",
    "\n",
    "1. Renomear o arquivo .env_exemplo para somente .env\n",
    "2. Adicionar popular as variaveis conforme o padrão de nomenclatura que voce utilizar"
   ]
  },
  {
   "cell_type": "code",
   "execution_count": 2,
   "metadata": {},
   "outputs": [],
   "source": [
    "def read_from_s3(bucket_name:str):\n",
    "    s3 = boto3.resource('s3')\n",
    "    bucket = s3.Bucket(bucket_name)\n",
    "    response = []\n",
    "    for obj in bucket.objects.all():\n",
    "        body = obj.get()['Body'].read()\n",
    "        s=str(body,'utf-8')\n",
    "        data = StringIO(s)\n",
    "        response.append(pd.read_csv(data, index_col=0))\n",
    "    return response"
   ]
  },
  {
   "cell_type": "code",
   "execution_count": 3,
   "metadata": {},
   "outputs": [
    {
     "data": {
      "text/html": [
       "<div>\n",
       "<style scoped>\n",
       "    .dataframe tbody tr th:only-of-type {\n",
       "        vertical-align: middle;\n",
       "    }\n",
       "\n",
       "    .dataframe tbody tr th {\n",
       "        vertical-align: top;\n",
       "    }\n",
       "\n",
       "    .dataframe thead th {\n",
       "        text-align: right;\n",
       "    }\n",
       "</style>\n",
       "<table border=\"1\" class=\"dataframe\">\n",
       "  <thead>\n",
       "    <tr style=\"text-align: right;\">\n",
       "      <th></th>\n",
       "      <th>open</th>\n",
       "      <th>high</th>\n",
       "      <th>low</th>\n",
       "      <th>close</th>\n",
       "      <th>volume</th>\n",
       "      <th>edit_count</th>\n",
       "      <th>tomorrow</th>\n",
       "      <th>sentiment</th>\n",
       "      <th>neg_sentiment</th>\n",
       "      <th>fng_index</th>\n",
       "      <th>fng_class</th>\n",
       "      <th>fng_in_yest</th>\n",
       "      <th>fng_class_yest</th>\n",
       "      <th>target</th>\n",
       "    </tr>\n",
       "  </thead>\n",
       "  <tbody>\n",
       "    <tr>\n",
       "      <th>2018-03-04</th>\n",
       "      <td>11497.400391</td>\n",
       "      <td>11512.599609</td>\n",
       "      <td>11136.099609</td>\n",
       "      <td>11512.599609</td>\n",
       "      <td>6084149760</td>\n",
       "      <td>2.933333</td>\n",
       "      <td>11573.299805</td>\n",
       "      <td>-0.258349</td>\n",
       "      <td>0.513519</td>\n",
       "      <td>44</td>\n",
       "      <td>Fear</td>\n",
       "      <td>56.0</td>\n",
       "      <td>Greed</td>\n",
       "      <td>1</td>\n",
       "    </tr>\n",
       "    <tr>\n",
       "      <th>2018-03-05</th>\n",
       "      <td>11532.400391</td>\n",
       "      <td>11704.099609</td>\n",
       "      <td>11443.900391</td>\n",
       "      <td>11573.299805</td>\n",
       "      <td>6468539904</td>\n",
       "      <td>2.866667</td>\n",
       "      <td>10779.900391</td>\n",
       "      <td>-0.259235</td>\n",
       "      <td>0.496852</td>\n",
       "      <td>55</td>\n",
       "      <td>Greed</td>\n",
       "      <td>44.0</td>\n",
       "      <td>Fear</td>\n",
       "      <td>0</td>\n",
       "    </tr>\n",
       "    <tr>\n",
       "      <th>2018-03-06</th>\n",
       "      <td>11500.099609</td>\n",
       "      <td>11500.099609</td>\n",
       "      <td>10694.299805</td>\n",
       "      <td>10779.900391</td>\n",
       "      <td>6832169984</td>\n",
       "      <td>2.666667</td>\n",
       "      <td>9965.570312</td>\n",
       "      <td>-0.249632</td>\n",
       "      <td>0.474630</td>\n",
       "      <td>59</td>\n",
       "      <td>Greed</td>\n",
       "      <td>55.0</td>\n",
       "      <td>Greed</td>\n",
       "      <td>0</td>\n",
       "    </tr>\n",
       "    <tr>\n",
       "      <th>2018-03-07</th>\n",
       "      <td>10803.900391</td>\n",
       "      <td>10929.500000</td>\n",
       "      <td>9692.120117</td>\n",
       "      <td>9965.570312</td>\n",
       "      <td>8797910016</td>\n",
       "      <td>2.633333</td>\n",
       "      <td>9395.009766</td>\n",
       "      <td>-0.216476</td>\n",
       "      <td>0.441296</td>\n",
       "      <td>37</td>\n",
       "      <td>Fear</td>\n",
       "      <td>59.0</td>\n",
       "      <td>Greed</td>\n",
       "      <td>0</td>\n",
       "    </tr>\n",
       "    <tr>\n",
       "      <th>2018-03-08</th>\n",
       "      <td>9951.440430</td>\n",
       "      <td>10147.400391</td>\n",
       "      <td>9335.870117</td>\n",
       "      <td>9395.009766</td>\n",
       "      <td>7186089984</td>\n",
       "      <td>2.600000</td>\n",
       "      <td>9337.549805</td>\n",
       "      <td>-0.188242</td>\n",
       "      <td>0.407963</td>\n",
       "      <td>39</td>\n",
       "      <td>Fear</td>\n",
       "      <td>37.0</td>\n",
       "      <td>Fear</td>\n",
       "      <td>0</td>\n",
       "    </tr>\n",
       "  </tbody>\n",
       "</table>\n",
       "</div>"
      ],
      "text/plain": [
       "                    open          high           low         close  \\\n",
       "2018-03-04  11497.400391  11512.599609  11136.099609  11512.599609   \n",
       "2018-03-05  11532.400391  11704.099609  11443.900391  11573.299805   \n",
       "2018-03-06  11500.099609  11500.099609  10694.299805  10779.900391   \n",
       "2018-03-07  10803.900391  10929.500000   9692.120117   9965.570312   \n",
       "2018-03-08   9951.440430  10147.400391   9335.870117   9395.009766   \n",
       "\n",
       "                volume  edit_count      tomorrow  sentiment  neg_sentiment  \\\n",
       "2018-03-04  6084149760    2.933333  11573.299805  -0.258349       0.513519   \n",
       "2018-03-05  6468539904    2.866667  10779.900391  -0.259235       0.496852   \n",
       "2018-03-06  6832169984    2.666667   9965.570312  -0.249632       0.474630   \n",
       "2018-03-07  8797910016    2.633333   9395.009766  -0.216476       0.441296   \n",
       "2018-03-08  7186089984    2.600000   9337.549805  -0.188242       0.407963   \n",
       "\n",
       "            fng_index fng_class  fng_in_yest fng_class_yest  target  \n",
       "2018-03-04         44      Fear         56.0          Greed       1  \n",
       "2018-03-05         55     Greed         44.0           Fear       0  \n",
       "2018-03-06         59     Greed         55.0          Greed       0  \n",
       "2018-03-07         37      Fear         59.0          Greed       0  \n",
       "2018-03-08         39      Fear         37.0           Fear       0  "
      ]
     },
     "execution_count": 3,
     "metadata": {},
     "output_type": "execute_result"
    }
   ],
   "source": [
    "bucket_name = os.environ['BUCKET_NAME']\n",
    "csv_file_name = os.environ['CSV_FILE_NAME']\n",
    "bucket_layer = os.environ['BUCKET_LAYER']\n",
    "object_name = f'{bucket_layer}/{csv_file_name}'\n",
    "df = read_from_s3(bucket_name)[0]\n",
    "df.head()"
   ]
  },
  {
   "cell_type": "code",
   "execution_count": 4,
   "metadata": {},
   "outputs": [],
   "source": [
    "# Definir preditores\n",
    "# Estas são as features que estamos usando para prever o target\n",
    "predictors: List[str] = [\n",
    "    \"close\",\n",
    "    \"volume\",\n",
    "    \"open\",\n",
    "    \"high\",\n",
    "    \"low\",\n",
    "    \"edit_count\",\n",
    "    \"sentiment\",\n",
    "    \"neg_sentiment\",\n",
    "    \"fng_in_yest\",\n",
    "    \"fng_class_yest_adjusted\"\n",
    "]\n",
    "\n",
    "# Função de predição\n",
    "def predict(train: pd.DataFrame, test: pd.DataFrame, predictors: List[str], model: XGBClassifier) -> pd.DataFrame:\n",
    "    model.fit(train[predictors], train[\"target\"])\n",
    "    preds = model.predict(test[predictors])\n",
    "    preds = pd.Series(preds, index=test.index, name=\"predictions\")\n",
    "    return pd.concat([test[\"target\"], preds], axis=1)\n",
    "\n",
    "# Função de backtesting\n",
    "# Usaremos uma abordagem de janela móvel para fazer o backtesting do modelo.\n",
    "# Pegaremos uma janela de dados, usaremos para treinar o modelo e, em seguida, usaremos o modelo para prever a próxima janela de dados.\n",
    "# Repetiremos esse processo até termos usado todos os dados.\n",
    "# O parâmetro start significa 3 anos de dados para treinar o modelo.\n",
    "# O parâmetro step significa 150 dias de dados para testar o modelo.\n",
    "def backtest(data: pd.DataFrame, model: XGBClassifier, predictors: List[str], start: int = 1095, step: int = 150) -> pd.DataFrame:\n",
    "    all_predictions = []\n",
    "\n",
    "    for i in range(start, data.shape[0], step):\n",
    "        train = data.iloc[0:i].copy()\n",
    "        test = data.iloc[i:(i + step)].copy()\n",
    "        predictions = predict(train, test, predictors, model)\n",
    "        all_predictions.append(predictions)\n",
    "\n",
    "    return pd.concat(all_predictions)\n",
    "\n",
    "# Função de avaliação do modelo\n",
    "def evaluate_model(predictions: pd.DataFrame) -> Tuple[float, float]:\n",
    "    precision = precision_score(predictions[\"target\"], predictions[\"predictions\"])\n",
    "    accuracy = accuracy_score(predictions[\"target\"], predictions[\"predictions\"])\n",
    "    return precision, accuracy"
   ]
  },
  {
   "cell_type": "code",
   "execution_count": 5,
   "metadata": {},
   "outputs": [
    {
     "data": {
      "text/html": [
       "<div>\n",
       "<style scoped>\n",
       "    .dataframe tbody tr th:only-of-type {\n",
       "        vertical-align: middle;\n",
       "    }\n",
       "\n",
       "    .dataframe tbody tr th {\n",
       "        vertical-align: top;\n",
       "    }\n",
       "\n",
       "    .dataframe thead th {\n",
       "        text-align: right;\n",
       "    }\n",
       "</style>\n",
       "<table border=\"1\" class=\"dataframe\">\n",
       "  <thead>\n",
       "    <tr style=\"text-align: right;\">\n",
       "      <th></th>\n",
       "      <th>open</th>\n",
       "      <th>high</th>\n",
       "      <th>low</th>\n",
       "      <th>close</th>\n",
       "      <th>volume</th>\n",
       "      <th>edit_count</th>\n",
       "      <th>tomorrow</th>\n",
       "      <th>sentiment</th>\n",
       "      <th>neg_sentiment</th>\n",
       "      <th>fng_index</th>\n",
       "      <th>fng_in_yest</th>\n",
       "      <th>target</th>\n",
       "      <th>fng_class_yest_adjusted</th>\n",
       "    </tr>\n",
       "  </thead>\n",
       "  <tbody>\n",
       "    <tr>\n",
       "      <th>2018-03-04</th>\n",
       "      <td>11497.400391</td>\n",
       "      <td>11512.599609</td>\n",
       "      <td>11136.099609</td>\n",
       "      <td>11512.599609</td>\n",
       "      <td>6084149760</td>\n",
       "      <td>2.933333</td>\n",
       "      <td>11573.299805</td>\n",
       "      <td>-0.258349</td>\n",
       "      <td>0.513519</td>\n",
       "      <td>44</td>\n",
       "      <td>56.0</td>\n",
       "      <td>1</td>\n",
       "      <td>1</td>\n",
       "    </tr>\n",
       "    <tr>\n",
       "      <th>2018-03-05</th>\n",
       "      <td>11532.400391</td>\n",
       "      <td>11704.099609</td>\n",
       "      <td>11443.900391</td>\n",
       "      <td>11573.299805</td>\n",
       "      <td>6468539904</td>\n",
       "      <td>2.866667</td>\n",
       "      <td>10779.900391</td>\n",
       "      <td>-0.259235</td>\n",
       "      <td>0.496852</td>\n",
       "      <td>55</td>\n",
       "      <td>44.0</td>\n",
       "      <td>0</td>\n",
       "      <td>-1</td>\n",
       "    </tr>\n",
       "    <tr>\n",
       "      <th>2018-03-06</th>\n",
       "      <td>11500.099609</td>\n",
       "      <td>11500.099609</td>\n",
       "      <td>10694.299805</td>\n",
       "      <td>10779.900391</td>\n",
       "      <td>6832169984</td>\n",
       "      <td>2.666667</td>\n",
       "      <td>9965.570312</td>\n",
       "      <td>-0.249632</td>\n",
       "      <td>0.474630</td>\n",
       "      <td>59</td>\n",
       "      <td>55.0</td>\n",
       "      <td>0</td>\n",
       "      <td>1</td>\n",
       "    </tr>\n",
       "    <tr>\n",
       "      <th>2018-03-07</th>\n",
       "      <td>10803.900391</td>\n",
       "      <td>10929.500000</td>\n",
       "      <td>9692.120117</td>\n",
       "      <td>9965.570312</td>\n",
       "      <td>8797910016</td>\n",
       "      <td>2.633333</td>\n",
       "      <td>9395.009766</td>\n",
       "      <td>-0.216476</td>\n",
       "      <td>0.441296</td>\n",
       "      <td>37</td>\n",
       "      <td>59.0</td>\n",
       "      <td>0</td>\n",
       "      <td>1</td>\n",
       "    </tr>\n",
       "    <tr>\n",
       "      <th>2018-03-08</th>\n",
       "      <td>9951.440430</td>\n",
       "      <td>10147.400391</td>\n",
       "      <td>9335.870117</td>\n",
       "      <td>9395.009766</td>\n",
       "      <td>7186089984</td>\n",
       "      <td>2.600000</td>\n",
       "      <td>9337.549805</td>\n",
       "      <td>-0.188242</td>\n",
       "      <td>0.407963</td>\n",
       "      <td>39</td>\n",
       "      <td>37.0</td>\n",
       "      <td>0</td>\n",
       "      <td>-1</td>\n",
       "    </tr>\n",
       "  </tbody>\n",
       "</table>\n",
       "</div>"
      ],
      "text/plain": [
       "                    open          high           low         close  \\\n",
       "2018-03-04  11497.400391  11512.599609  11136.099609  11512.599609   \n",
       "2018-03-05  11532.400391  11704.099609  11443.900391  11573.299805   \n",
       "2018-03-06  11500.099609  11500.099609  10694.299805  10779.900391   \n",
       "2018-03-07  10803.900391  10929.500000   9692.120117   9965.570312   \n",
       "2018-03-08   9951.440430  10147.400391   9335.870117   9395.009766   \n",
       "\n",
       "                volume  edit_count      tomorrow  sentiment  neg_sentiment  \\\n",
       "2018-03-04  6084149760    2.933333  11573.299805  -0.258349       0.513519   \n",
       "2018-03-05  6468539904    2.866667  10779.900391  -0.259235       0.496852   \n",
       "2018-03-06  6832169984    2.666667   9965.570312  -0.249632       0.474630   \n",
       "2018-03-07  8797910016    2.633333   9395.009766  -0.216476       0.441296   \n",
       "2018-03-08  7186089984    2.600000   9337.549805  -0.188242       0.407963   \n",
       "\n",
       "            fng_index  fng_in_yest  target  fng_class_yest_adjusted  \n",
       "2018-03-04         44         56.0       1                        1  \n",
       "2018-03-05         55         44.0       0                       -1  \n",
       "2018-03-06         59         55.0       0                        1  \n",
       "2018-03-07         37         59.0       0                        1  \n",
       "2018-03-08         39         37.0       0                       -1  "
      ]
     },
     "execution_count": 5,
     "metadata": {},
     "output_type": "execute_result"
    }
   ],
   "source": [
    "# Carregar os dados do arquivo CSV\n",
    "data = read_from_s3(bucket_name)[0]\n",
    "#Adjusting fng classification values\n",
    "map = {'Neutral': 0, 'Greed': 1, 'Fear': -1, 'Extreme Fear': -2, 'Extreme Greed': 2}\n",
    "data['fng_class_yest_adjusted'] = data['fng_class_yest'].map(map)\n",
    "data.drop(columns=['fng_class', 'fng_class_yest'], axis=1, inplace=True)\n",
    "data.head()\n"
   ]
  },
  {
   "cell_type": "code",
   "execution_count": 14,
   "metadata": {},
   "outputs": [],
   "source": [
    "predictors: List[str] = [\n",
    "    \"close\",\n",
    "    \"volume\",\n",
    "    \"open\",\n",
    "    \"high\",\n",
    "    \"low\",\n",
    "    \"fng_in_yest\",\n",
    "]"
   ]
  },
  {
   "cell_type": "code",
   "execution_count": 21,
   "metadata": {},
   "outputs": [
    {
     "name": "stdout",
     "output_type": "stream",
     "text": [
      "Precisão do modelo: 0.50\n",
      "Acurácia do modelo: 0.50\n",
      "            target  predictions\n",
      "2021-03-06       1            0\n",
      "2021-03-07       1            0\n",
      "2021-03-08       1            0\n",
      "2021-03-09       1            0\n",
      "2021-03-10       1            0\n",
      "...            ...          ...\n",
      "2024-09-01       1            1\n",
      "2024-09-02       0            0\n",
      "2024-09-03       1            0\n",
      "2024-09-04       0            0\n",
      "2024-09-05       0            1\n",
      "\n",
      "[1280 rows x 2 columns]\n"
     ]
    }
   ],
   "source": [
    "# Criar e treinar o modelo XGBoost\n",
    "model = XGBClassifier(random_state=1, learning_rate=0.3, n_estimators=200, colsample_bytree = 0.5, max_depth = 5)\n",
    "predictions = backtest(data, model, predictors)\n",
    "\n",
    "# Avaliar o modelo\n",
    "precision, accuracy = evaluate_model(predictions)\n",
    "print(f\"Precisão do modelo: {precision:.2f}\")\n",
    "print(f\"Acurácia do modelo: {accuracy:.2f}\")\n",
    "print(predictions)"
   ]
  },
  {
   "cell_type": "code",
   "execution_count": 102,
   "metadata": {},
   "outputs": [
    {
     "name": "stdout",
     "output_type": "stream",
     "text": [
      "<class 'pandas.core.frame.DataFrame'>\n",
      "Index: 2378 entries, 2018-03-02 to 2024-09-06\n",
      "Data columns (total 12 columns):\n",
      " #   Column                       Non-Null Count  Dtype  \n",
      "---  ------                       --------------  -----  \n",
      " 0   open                         2378 non-null   float64\n",
      " 1   high                         2378 non-null   float64\n",
      " 2   low                          2378 non-null   float64\n",
      " 3   close                        2378 non-null   float64\n",
      " 4   volume                       2378 non-null   int64  \n",
      " 5   edit_count                   2378 non-null   float64\n",
      " 6   tomorrow                     2377 non-null   float64\n",
      " 7   sentiment                    2378 non-null   float64\n",
      " 8   neg_sentiment                2378 non-null   float64\n",
      " 9   fng_index                    2378 non-null   int64  \n",
      " 10  target                       2378 non-null   int64  \n",
      " 11  fng_classification_adjusted  2378 non-null   int64  \n",
      "dtypes: float64(8), int64(4)\n",
      "memory usage: 241.5+ KB\n"
     ]
    }
   ],
   "source": [
    "data.info()"
   ]
  },
  {
   "cell_type": "markdown",
   "metadata": {},
   "source": [
    "#### Diferent models try"
   ]
  },
  {
   "cell_type": "code",
   "execution_count": 132,
   "metadata": {},
   "outputs": [],
   "source": [
    "def predict_norm(train: pd.DataFrame, test: pd.DataFrame, predictors: List[str], model: XGBClassifier) -> pd.DataFrame:\n",
    "    X_train = normalize(train[predictors])\n",
    "    y_train = train[\"target\"]\n",
    "    model.fit(X_train, y_train)\n",
    "    preds = model.predict(test[predictors])\n",
    "    preds = pd.Series(preds, index=test.index, name=\"predictions\")\n",
    "    return pd.concat([test[\"target\"], preds], axis=1)\n",
    "\n",
    "def backtest_norm(data: pd.DataFrame, model: XGBClassifier, predictors: List[str], start: int = 1095, step: int = 150) -> pd.DataFrame:\n",
    "    all_predictions = []\n",
    "\n",
    "    for i in range(start, data.shape[0], step):\n",
    "        train = data.iloc[0:i].copy()\n",
    "        test = data.iloc[i:(i + step)].copy()\n",
    "        predictions = predict_norm(train, test, predictors, model)\n",
    "        all_predictions.append(predictions)\n",
    "\n",
    "    return pd.concat(all_predictions)"
   ]
  },
  {
   "cell_type": "code",
   "execution_count": 112,
   "metadata": {},
   "outputs": [],
   "source": [
    "from sklearn.neighbors import KNeighborsClassifier\n",
    "from sklearn.ensemble import RandomForestClassifier"
   ]
  },
  {
   "cell_type": "code",
   "execution_count": 115,
   "metadata": {},
   "outputs": [],
   "source": [
    "train = data.iloc[0:2000]\n",
    "test = data.iloc[2000:2378]\n",
    "\n",
    "## prepare data for models\n",
    "X_train = normalize(train[predictors])\n",
    "y_train = train[\"target\"]"
   ]
  },
  {
   "cell_type": "code",
   "execution_count": 119,
   "metadata": {},
   "outputs": [],
   "source": [
    "def run_grid_search_cv(model, params, X, y):\n",
    "    search_cv = GridSearchCV(model, params)\n",
    "    search_cv.fit(X, y)\n",
    "    return search_cv.best_estimator_\n"
   ]
  },
  {
   "cell_type": "code",
   "execution_count": 120,
   "metadata": {},
   "outputs": [
    {
     "name": "stderr",
     "output_type": "stream",
     "text": [
      "c:\\Users\\I857413\\Desktop\\TechSkills\\Forks\\bitcoin_trend_prediction\\.venv\\Lib\\site-packages\\numpy\\ma\\core.py:2881: RuntimeWarning: invalid value encountered in cast\n",
      "  _data = np.array(data, dtype=dtype, copy=copy,\n"
     ]
    }
   ],
   "source": [
    "rf_params = {\n",
    "    'n_estimators':[100, 125, 150, 200],\n",
    "    'criterion': ['gini', 'entropy', 'log_loss'],\n",
    "    'max_depth': [3, 5, 7, 9]\n",
    "}\n",
    "model = RandomForestClassifier()\n",
    "rf_best = run_grid_search_cv(model=model, params=rf_params, X=X_train, y=y_train)"
   ]
  },
  {
   "cell_type": "code",
   "execution_count": 137,
   "metadata": {},
   "outputs": [
    {
     "name": "stderr",
     "output_type": "stream",
     "text": [
      "c:\\Users\\I857413\\Desktop\\TechSkills\\Forks\\bitcoin_trend_prediction\\.venv\\Lib\\site-packages\\sklearn\\base.py:486: UserWarning: X has feature names, but KNeighborsClassifier was fitted without feature names\n",
      "  warnings.warn(\n",
      "c:\\Users\\I857413\\Desktop\\TechSkills\\Forks\\bitcoin_trend_prediction\\.venv\\Lib\\site-packages\\sklearn\\base.py:486: UserWarning: X has feature names, but KNeighborsClassifier was fitted without feature names\n",
      "  warnings.warn(\n",
      "c:\\Users\\I857413\\Desktop\\TechSkills\\Forks\\bitcoin_trend_prediction\\.venv\\Lib\\site-packages\\sklearn\\base.py:486: UserWarning: X has feature names, but KNeighborsClassifier was fitted without feature names\n",
      "  warnings.warn(\n",
      "c:\\Users\\I857413\\Desktop\\TechSkills\\Forks\\bitcoin_trend_prediction\\.venv\\Lib\\site-packages\\sklearn\\base.py:486: UserWarning: X has feature names, but KNeighborsClassifier was fitted without feature names\n",
      "  warnings.warn(\n",
      "c:\\Users\\I857413\\Desktop\\TechSkills\\Forks\\bitcoin_trend_prediction\\.venv\\Lib\\site-packages\\sklearn\\base.py:486: UserWarning: X has feature names, but KNeighborsClassifier was fitted without feature names\n",
      "  warnings.warn(\n",
      "c:\\Users\\I857413\\Desktop\\TechSkills\\Forks\\bitcoin_trend_prediction\\.venv\\Lib\\site-packages\\sklearn\\base.py:486: UserWarning: X has feature names, but KNeighborsClassifier was fitted without feature names\n",
      "  warnings.warn(\n",
      "c:\\Users\\I857413\\Desktop\\TechSkills\\Forks\\bitcoin_trend_prediction\\.venv\\Lib\\site-packages\\sklearn\\base.py:486: UserWarning: X has feature names, but KNeighborsClassifier was fitted without feature names\n",
      "  warnings.warn(\n"
     ]
    },
    {
     "name": "stdout",
     "output_type": "stream",
     "text": [
      "Precisão do modelo: 0.49\n",
      "Acurácia do modelo: 0.50\n",
      "            target  predictions\n",
      "2021-03-04       1            1\n",
      "2021-03-05       0            1\n",
      "2021-03-06       1            1\n",
      "2021-03-07       1            1\n",
      "2021-03-08       1            1\n",
      "...            ...          ...\n",
      "2024-09-02       0            0\n",
      "2024-09-03       1            0\n",
      "2024-09-04       0            0\n",
      "2024-09-05       0            0\n",
      "2024-09-06       0            0\n",
      "\n",
      "[1283 rows x 2 columns]\n"
     ]
    },
    {
     "name": "stderr",
     "output_type": "stream",
     "text": [
      "c:\\Users\\I857413\\Desktop\\TechSkills\\Forks\\bitcoin_trend_prediction\\.venv\\Lib\\site-packages\\sklearn\\base.py:486: UserWarning: X has feature names, but KNeighborsClassifier was fitted without feature names\n",
      "  warnings.warn(\n",
      "c:\\Users\\I857413\\Desktop\\TechSkills\\Forks\\bitcoin_trend_prediction\\.venv\\Lib\\site-packages\\sklearn\\base.py:486: UserWarning: X has feature names, but KNeighborsClassifier was fitted without feature names\n",
      "  warnings.warn(\n"
     ]
    }
   ],
   "source": [
    "predictions = backtest_norm(data, rf_best, predictors)\n",
    "\n",
    "# Avaliar o modelo\n",
    "precision, accuracy = evaluate_model(predictions)\n",
    "print(f\"Precisão do modelo: {precision:.2f}\")\n",
    "print(f\"Acurácia do modelo: {accuracy:.2f}\")\n",
    "print(predictions)"
   ]
  },
  {
   "cell_type": "code",
   "execution_count": 130,
   "metadata": {},
   "outputs": [
    {
     "name": "stdout",
     "output_type": "stream",
     "text": [
      "KNeighborsClassifier(n_neighbors=9)\n"
     ]
    }
   ],
   "source": [
    "knn_params = {\n",
    "    'n_neighbors':[9,10,11,12,13,14],\n",
    "    'algorithm': ['auto', 'ball_tree', 'kd_tree', 'brute'],\n",
    "    'weights': ['uniform', 'distance']\n",
    "}\n",
    "model = KNeighborsClassifier()\n",
    "knn_best = run_grid_search_cv(model=model, params=knn_params, X=X_train, y=y_train)\n",
    "print(knn_best)"
   ]
  },
  {
   "cell_type": "code",
   "execution_count": 138,
   "metadata": {},
   "outputs": [
    {
     "name": "stdout",
     "output_type": "stream",
     "text": [
      "Precisão do modelo: 0.50\n",
      "Acurácia do modelo: 0.50\n",
      "            target  predictions\n",
      "2021-03-04       1            0\n",
      "2021-03-05       0            0\n",
      "2021-03-06       1            0\n",
      "2021-03-07       1            0\n",
      "2021-03-08       1            0\n",
      "...            ...          ...\n",
      "2024-09-02       0            0\n",
      "2024-09-03       1            0\n",
      "2024-09-04       0            0\n",
      "2024-09-05       0            0\n",
      "2024-09-06       0            0\n",
      "\n",
      "[1283 rows x 2 columns]\n"
     ]
    },
    {
     "name": "stderr",
     "output_type": "stream",
     "text": [
      "c:\\Users\\I857413\\Desktop\\TechSkills\\Forks\\bitcoin_trend_prediction\\.venv\\Lib\\site-packages\\sklearn\\base.py:486: UserWarning: X has feature names, but KNeighborsClassifier was fitted without feature names\n",
      "  warnings.warn(\n",
      "c:\\Users\\I857413\\Desktop\\TechSkills\\Forks\\bitcoin_trend_prediction\\.venv\\Lib\\site-packages\\sklearn\\base.py:486: UserWarning: X has feature names, but KNeighborsClassifier was fitted without feature names\n",
      "  warnings.warn(\n",
      "c:\\Users\\I857413\\Desktop\\TechSkills\\Forks\\bitcoin_trend_prediction\\.venv\\Lib\\site-packages\\sklearn\\base.py:486: UserWarning: X has feature names, but KNeighborsClassifier was fitted without feature names\n",
      "  warnings.warn(\n",
      "c:\\Users\\I857413\\Desktop\\TechSkills\\Forks\\bitcoin_trend_prediction\\.venv\\Lib\\site-packages\\sklearn\\base.py:486: UserWarning: X has feature names, but KNeighborsClassifier was fitted without feature names\n",
      "  warnings.warn(\n",
      "c:\\Users\\I857413\\Desktop\\TechSkills\\Forks\\bitcoin_trend_prediction\\.venv\\Lib\\site-packages\\sklearn\\base.py:486: UserWarning: X has feature names, but KNeighborsClassifier was fitted without feature names\n",
      "  warnings.warn(\n",
      "c:\\Users\\I857413\\Desktop\\TechSkills\\Forks\\bitcoin_trend_prediction\\.venv\\Lib\\site-packages\\sklearn\\base.py:486: UserWarning: X has feature names, but KNeighborsClassifier was fitted without feature names\n",
      "  warnings.warn(\n",
      "c:\\Users\\I857413\\Desktop\\TechSkills\\Forks\\bitcoin_trend_prediction\\.venv\\Lib\\site-packages\\sklearn\\base.py:486: UserWarning: X has feature names, but KNeighborsClassifier was fitted without feature names\n",
      "  warnings.warn(\n",
      "c:\\Users\\I857413\\Desktop\\TechSkills\\Forks\\bitcoin_trend_prediction\\.venv\\Lib\\site-packages\\sklearn\\base.py:486: UserWarning: X has feature names, but KNeighborsClassifier was fitted without feature names\n",
      "  warnings.warn(\n",
      "c:\\Users\\I857413\\Desktop\\TechSkills\\Forks\\bitcoin_trend_prediction\\.venv\\Lib\\site-packages\\sklearn\\base.py:486: UserWarning: X has feature names, but KNeighborsClassifier was fitted without feature names\n",
      "  warnings.warn(\n"
     ]
    }
   ],
   "source": [
    "predictions = backtest_norm(data, knn_best, predictors)\n",
    "\n",
    "# Avaliar o modelo\n",
    "precision, accuracy = evaluate_model(predictions)\n",
    "print(f\"Precisão do modelo: {precision:.2f}\")\n",
    "print(f\"Acurácia do modelo: {accuracy:.2f}\")\n",
    "print(predictions)"
   ]
  },
  {
   "cell_type": "code",
   "execution_count": null,
   "metadata": {},
   "outputs": [],
   "source": []
  },
  {
   "cell_type": "markdown",
   "metadata": {},
   "source": [
    "#### Serialização do Modelo"
   ]
  },
  {
   "cell_type": "code",
   "execution_count": 28,
   "metadata": {},
   "outputs": [
    {
     "data": {
      "text/plain": [
       "['btc_trend_prediction_model.joblib']"
      ]
     },
     "execution_count": 28,
     "metadata": {},
     "output_type": "execute_result"
    }
   ],
   "source": [
    "# Salvar o modelo treinado em um arquivo\n",
    "model_filename = \"btc_trend_prediction_model.joblib\"\n",
    "dump(model, model_filename)"
   ]
  }
 ],
 "metadata": {
  "kernelspec": {
   "display_name": "Python 3",
   "language": "python",
   "name": "python3"
  },
  "language_info": {
   "codemirror_mode": {
    "name": "ipython",
    "version": 3
   },
   "file_extension": ".py",
   "mimetype": "text/x-python",
   "name": "python",
   "nbconvert_exporter": "python",
   "pygments_lexer": "ipython3",
   "version": "3.11.2"
  }
 },
 "nbformat": 4,
 "nbformat_minor": 2
}
