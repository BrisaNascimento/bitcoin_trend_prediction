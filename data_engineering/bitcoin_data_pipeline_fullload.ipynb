{
 "cells": [
  {
   "cell_type": "markdown",
   "metadata": {},
   "source": [
    "### Coleta e persistência dos dados neste notebook"
   ]
  },
  {
   "cell_type": "markdown",
   "metadata": {},
   "source": [
    "**tipo de ingestão**: full load (recomendado para ingestão de dados inicial no datalake)\n",
    "\n",
    "**origem**: Yahoo finance, Wikipedia, Fear and Greed (alternative.me)\n",
    "\n",
    "**destino**: bronze/database/bitcoin/raw/btc.csv\n",
    "\n",
    "**formato do data no data lake**: .csv\n"
   ]
  },
  {
   "cell_type": "markdown",
   "metadata": {},
   "source": [
    "#### Instruções\n",
    "\n",
    "1. Renomear o arquivo .env_exemplo para somente .env\n",
    "2. Adicionar popular as variaveis conforme o padrão de nomenclatura que voce utilizar"
   ]
  },
  {
   "cell_type": "code",
   "execution_count": 1,
   "metadata": {},
   "outputs": [
    {
     "name": "stderr",
     "output_type": "stream",
     "text": [
      "c:\\Users\\julio\\OneDrive\\Área de Trabalho\\Projects\\bitcoin_trend_prediction\\.venv\\Lib\\site-packages\\tqdm\\auto.py:21: TqdmWarning: IProgress not found. Please update jupyter and ipywidgets. See https://ipywidgets.readthedocs.io/en/stable/user_install.html\n",
      "  from .autonotebook import tqdm as notebook_tqdm\n"
     ]
    },
    {
     "data": {
      "text/plain": [
       "True"
      ]
     },
     "execution_count": 1,
     "metadata": {},
     "output_type": "execute_result"
    }
   ],
   "source": [
    "import logging\n",
    "import boto3\n",
    "from botocore.exceptions import ClientError\n",
    "import pandas as pd\n",
    "from transformers import pipeline\n",
    "import yfinance as yf\n",
    "import mwclient\n",
    "import time\n",
    "import requests\n",
    "import json\n",
    "from datetime import datetime\n",
    "from statistics import mean\n",
    "from io import StringIO\n",
    "from dotenv import load_dotenv\n",
    "import os\n",
    "\n",
    "##carrega variaveis de ambiente\n",
    "load_dotenv()"
   ]
  },
  {
   "cell_type": "markdown",
   "metadata": {},
   "source": [
    "Extrai os dados de bitcoin do Yahoo Finance"
   ]
  },
  {
   "cell_type": "code",
   "execution_count": 13,
   "metadata": {},
   "outputs": [],
   "source": [
    "def extract_btc(data_inicio: datetime) -> pd.DataFrame:\n",
    "    ticker = yf.Ticker(\"BTC-USD\")\n",
    "    btc = ticker.history(start=data_inicio)\n",
    "    return btc"
   ]
  },
  {
   "cell_type": "markdown",
   "metadata": {},
   "source": [
    "Formata a base de bitcoin"
   ]
  },
  {
   "cell_type": "code",
   "execution_count": 33,
   "metadata": {},
   "outputs": [],
   "source": [
    "def format_base(df:pd.DataFrame) -> pd.DataFrame:\n",
    "    df.index = pd.to_datetime(df.index).tz_localize(None)\n",
    "    del df[\"Dividends\"]\n",
    "    del df[\"Stock Splits\"]\n",
    "    df.columns = [c.lower() for c in df.columns]\n",
    "    return df"
   ]
  },
  {
   "cell_type": "code",
   "execution_count": 56,
   "metadata": {},
   "outputs": [
    {
     "data": {
      "text/html": [
       "<div>\n",
       "<style scoped>\n",
       "    .dataframe tbody tr th:only-of-type {\n",
       "        vertical-align: middle;\n",
       "    }\n",
       "\n",
       "    .dataframe tbody tr th {\n",
       "        vertical-align: top;\n",
       "    }\n",
       "\n",
       "    .dataframe thead th {\n",
       "        text-align: right;\n",
       "    }\n",
       "</style>\n",
       "<table border=\"1\" class=\"dataframe\">\n",
       "  <thead>\n",
       "    <tr style=\"text-align: right;\">\n",
       "      <th></th>\n",
       "      <th>open</th>\n",
       "      <th>high</th>\n",
       "      <th>low</th>\n",
       "      <th>close</th>\n",
       "      <th>volume</th>\n",
       "    </tr>\n",
       "    <tr>\n",
       "      <th>Date</th>\n",
       "      <th></th>\n",
       "      <th></th>\n",
       "      <th></th>\n",
       "      <th></th>\n",
       "      <th></th>\n",
       "    </tr>\n",
       "  </thead>\n",
       "  <tbody>\n",
       "    <tr>\n",
       "      <th>2018-02-01</th>\n",
       "      <td>10237.299805</td>\n",
       "      <td>10288.799805</td>\n",
       "      <td>8812.280273</td>\n",
       "      <td>9170.540039</td>\n",
       "      <td>9959400448</td>\n",
       "    </tr>\n",
       "    <tr>\n",
       "      <th>2018-02-02</th>\n",
       "      <td>9142.280273</td>\n",
       "      <td>9142.280273</td>\n",
       "      <td>7796.490234</td>\n",
       "      <td>8830.750000</td>\n",
       "      <td>12726899712</td>\n",
       "    </tr>\n",
       "    <tr>\n",
       "      <th>2018-02-03</th>\n",
       "      <td>8852.120117</td>\n",
       "      <td>9430.750000</td>\n",
       "      <td>8251.629883</td>\n",
       "      <td>9174.910156</td>\n",
       "      <td>7263790080</td>\n",
       "    </tr>\n",
       "    <tr>\n",
       "      <th>2018-02-04</th>\n",
       "      <td>9175.700195</td>\n",
       "      <td>9334.870117</td>\n",
       "      <td>8031.220215</td>\n",
       "      <td>8277.009766</td>\n",
       "      <td>7073549824</td>\n",
       "    </tr>\n",
       "    <tr>\n",
       "      <th>2018-02-05</th>\n",
       "      <td>8270.540039</td>\n",
       "      <td>8364.839844</td>\n",
       "      <td>6756.680176</td>\n",
       "      <td>6955.270020</td>\n",
       "      <td>9285289984</td>\n",
       "    </tr>\n",
       "  </tbody>\n",
       "</table>\n",
       "</div>"
      ],
      "text/plain": [
       "                    open          high          low        close       volume\n",
       "Date                                                                         \n",
       "2018-02-01  10237.299805  10288.799805  8812.280273  9170.540039   9959400448\n",
       "2018-02-02   9142.280273   9142.280273  7796.490234  8830.750000  12726899712\n",
       "2018-02-03   8852.120117   9430.750000  8251.629883  9174.910156   7263790080\n",
       "2018-02-04   9175.700195   9334.870117  8031.220215  8277.009766   7073549824\n",
       "2018-02-05   8270.540039   8364.839844  6756.680176  6955.270020   9285289984"
      ]
     },
     "execution_count": 56,
     "metadata": {},
     "output_type": "execute_result"
    }
   ],
   "source": [
    "data_inicio = datetime.strptime('2018-02-01', '%Y-%m-%d')\n",
    "btc = format_base(extract_btc(data_inicio))\n",
    "btc.head()"
   ]
  },
  {
   "cell_type": "markdown",
   "metadata": {},
   "source": [
    "Extrai os dados das reviews de bitcoin da wikipedia"
   ]
  },
  {
   "cell_type": "code",
   "execution_count": 15,
   "metadata": {},
   "outputs": [],
   "source": [
    "def extract_reviews() -> list:\n",
    "   site = mwclient.Site('en.wikipedia.org')\n",
    "   page = site.pages['Bitcoin']\n",
    "   revs = list(page.revisions(start=data_inicio, dir='newer'))\n",
    "   revs = sorted(revs, key=lambda rev: rev[\"timestamp\"])\n",
    "   return revs"
   ]
  },
  {
   "cell_type": "markdown",
   "metadata": {},
   "source": [
    "Classifica o sentimento relacionado as reviews"
   ]
  },
  {
   "cell_type": "markdown",
   "metadata": {},
   "source": [
    "seleciona o modelo utilizado para classificação das reviews"
   ]
  },
  {
   "cell_type": "code",
   "execution_count": 16,
   "metadata": {},
   "outputs": [
    {
     "name": "stderr",
     "output_type": "stream",
     "text": [
      "c:\\Users\\julio\\OneDrive\\Área de Trabalho\\Projects\\bitcoin_trend_prediction\\.venv\\Lib\\site-packages\\transformers\\tokenization_utils_base.py:1601: FutureWarning: `clean_up_tokenization_spaces` was not set. It will be set to `True` by default. This behavior will be depracted in transformers v4.45, and will be then set to `False` by default. For more details check this issue: https://github.com/huggingface/transformers/issues/31884\n",
      "  warnings.warn(\n"
     ]
    }
   ],
   "source": [
    "sentiment_pipeline = pipeline(model=\"distilbert-base-uncased-finetuned-sst-2-english\")"
   ]
  },
  {
   "cell_type": "markdown",
   "metadata": {},
   "source": [
    "transforma o score das classificações negativas em valores negativos"
   ]
  },
  {
   "cell_type": "code",
   "execution_count": 17,
   "metadata": {},
   "outputs": [],
   "source": [
    "def find_sentiment(text):\n",
    "    sent = sentiment_pipeline([text[:250]])[0]\n",
    "    score = sent[\"score\"]\n",
    "    if sent[\"label\"] == \"NEGATIVE\":\n",
    "        score *= -1\n",
    "    return score"
   ]
  },
  {
   "cell_type": "markdown",
   "metadata": {},
   "source": [
    "cria a base de sentimentos"
   ]
  },
  {
   "cell_type": "code",
   "execution_count": 57,
   "metadata": {},
   "outputs": [],
   "source": [
    "edits = {}\n",
    "revs = extract_reviews()\n",
    "\n",
    "for rev in revs:        \n",
    "    date = time.strftime(\"%Y-%m-%d\", rev[\"timestamp\"])\n",
    "    if date not in edits:\n",
    "        edits[date] = dict(sentiments=list(), edit_count=0)\n",
    "    \n",
    "    edits[date][\"edit_count\"] += 1\n",
    "    \n",
    "    comment = rev.get(\"comment\", \"\")\n",
    "    edits[date][\"sentiments\"].append(find_sentiment(comment))"
   ]
  },
  {
   "cell_type": "markdown",
   "metadata": {},
   "source": [
    "prepara e limpa a base"
   ]
  },
  {
   "cell_type": "code",
   "execution_count": 58,
   "metadata": {},
   "outputs": [],
   "source": [
    "for key in edits:\n",
    "    if len(edits[key][\"sentiments\"]) > 0:\n",
    "        edits[key][\"sentiment\"] = mean(edits[key][\"sentiments\"])\n",
    "        edits[key][\"neg_sentiment\"] = len([s for s in edits[key][\"sentiments\"] if s < 0]) / len(edits[key][\"sentiments\"])\n",
    "    else:\n",
    "        edits[key][\"sentiment\"] = 0\n",
    "        edits[key][\"neg_sentiment\"] = 0\n",
    "    \n",
    "    del edits[key][\"sentiments\"]"
   ]
  },
  {
   "cell_type": "code",
   "execution_count": 21,
   "metadata": {},
   "outputs": [],
   "source": [
    "def create_edits_df(edits: dict) -> pd.DataFrame:\n",
    "    edits_df = pd.DataFrame.from_dict(edits, orient=\"index\")\n",
    "    edits_df.index = pd.to_datetime(edits_df.index)\n",
    "    dates = pd.date_range(start=data_inicio, end=datetime.today())\n",
    "    edits_df = edits_df.reindex(dates, fill_value=0)\n",
    "    rolling_edits = edits_df.rolling(30, min_periods=30).mean()\n",
    "    rolling_edits = rolling_edits.dropna()\n",
    "    return rolling_edits"
   ]
  },
  {
   "cell_type": "code",
   "execution_count": 59,
   "metadata": {},
   "outputs": [
    {
     "data": {
      "text/html": [
       "<div>\n",
       "<style scoped>\n",
       "    .dataframe tbody tr th:only-of-type {\n",
       "        vertical-align: middle;\n",
       "    }\n",
       "\n",
       "    .dataframe tbody tr th {\n",
       "        vertical-align: top;\n",
       "    }\n",
       "\n",
       "    .dataframe thead th {\n",
       "        text-align: right;\n",
       "    }\n",
       "</style>\n",
       "<table border=\"1\" class=\"dataframe\">\n",
       "  <thead>\n",
       "    <tr style=\"text-align: right;\">\n",
       "      <th></th>\n",
       "      <th>edit_count</th>\n",
       "      <th>sentiment</th>\n",
       "      <th>neg_sentiment</th>\n",
       "    </tr>\n",
       "  </thead>\n",
       "  <tbody>\n",
       "    <tr>\n",
       "      <th>2018-03-02</th>\n",
       "      <td>3.066667</td>\n",
       "      <td>-0.307224</td>\n",
       "      <td>0.541296</td>\n",
       "    </tr>\n",
       "    <tr>\n",
       "      <th>2018-03-03</th>\n",
       "      <td>3.066667</td>\n",
       "      <td>-0.307224</td>\n",
       "      <td>0.541296</td>\n",
       "    </tr>\n",
       "    <tr>\n",
       "      <th>2018-03-04</th>\n",
       "      <td>2.933333</td>\n",
       "      <td>-0.258349</td>\n",
       "      <td>0.513519</td>\n",
       "    </tr>\n",
       "    <tr>\n",
       "      <th>2018-03-05</th>\n",
       "      <td>2.866667</td>\n",
       "      <td>-0.259235</td>\n",
       "      <td>0.496852</td>\n",
       "    </tr>\n",
       "    <tr>\n",
       "      <th>2018-03-06</th>\n",
       "      <td>2.666667</td>\n",
       "      <td>-0.249632</td>\n",
       "      <td>0.474630</td>\n",
       "    </tr>\n",
       "  </tbody>\n",
       "</table>\n",
       "</div>"
      ],
      "text/plain": [
       "            edit_count  sentiment  neg_sentiment\n",
       "2018-03-02    3.066667  -0.307224       0.541296\n",
       "2018-03-03    3.066667  -0.307224       0.541296\n",
       "2018-03-04    2.933333  -0.258349       0.513519\n",
       "2018-03-05    2.866667  -0.259235       0.496852\n",
       "2018-03-06    2.666667  -0.249632       0.474630"
      ]
     },
     "execution_count": 59,
     "metadata": {},
     "output_type": "execute_result"
    }
   ],
   "source": [
    "rolling_edits = create_edits_df(edits)\n",
    "rolling_edits.head()"
   ]
  },
  {
   "cell_type": "markdown",
   "metadata": {},
   "source": [
    "Extrai a base de Fear and Greed da Alternative.me"
   ]
  },
  {
   "cell_type": "code",
   "execution_count": 24,
   "metadata": {},
   "outputs": [],
   "source": [
    "def collect_fear_greed(api_url:str, limit:int, drop_colls:list, rename_colls:list) -> pd.DataFrame:\n",
    "    response = requests.get(f'{api_url}?limit={limit}')\n",
    "    n_data = response.json()\n",
    "    df = pd.read_json(json.dumps(n_data['data']))\n",
    "    df.drop(columns=drop_colls, axis=1, inplace=True)\n",
    "    df.rename(columns=rename_colls, inplace=True)\n",
    "    df.set_index('date', inplace=True)\n",
    "    return df"
   ]
  },
  {
   "cell_type": "code",
   "execution_count": 60,
   "metadata": {},
   "outputs": [
    {
     "name": "stderr",
     "output_type": "stream",
     "text": [
      "C:\\Users\\julio\\AppData\\Local\\Temp\\ipykernel_16468\\2951827581.py:4: FutureWarning: Passing literal json to 'read_json' is deprecated and will be removed in a future version. To read from a literal string, wrap it in a 'StringIO' object.\n",
      "  df = pd.read_json(json.dumps(n_data['data']))\n"
     ]
    }
   ],
   "source": [
    "api_url = 'https://api.alternative.me/fng/'\n",
    "colls_to_drop = ['time_until_update']\n",
    "coll_names = {'value':'fng_index', \n",
    "              'value_classification':'fng_class',\n",
    "              'timestamp': 'date'}\n",
    "\n",
    "data_fg = collect_fear_greed(api_url=api_url, limit=0, drop_colls=colls_to_drop, rename_colls=coll_names)"
   ]
  },
  {
   "cell_type": "code",
   "execution_count": 61,
   "metadata": {},
   "outputs": [],
   "source": [
    "data_fg = data_fg.sort_index()"
   ]
  },
  {
   "cell_type": "markdown",
   "metadata": {},
   "source": [
    "Une as bases de bitcoin, sentimentos e fear and greed"
   ]
  },
  {
   "cell_type": "code",
   "execution_count": 62,
   "metadata": {},
   "outputs": [
    {
     "data": {
      "text/html": [
       "<div>\n",
       "<style scoped>\n",
       "    .dataframe tbody tr th:only-of-type {\n",
       "        vertical-align: middle;\n",
       "    }\n",
       "\n",
       "    .dataframe tbody tr th {\n",
       "        vertical-align: top;\n",
       "    }\n",
       "\n",
       "    .dataframe thead th {\n",
       "        text-align: right;\n",
       "    }\n",
       "</style>\n",
       "<table border=\"1\" class=\"dataframe\">\n",
       "  <thead>\n",
       "    <tr style=\"text-align: right;\">\n",
       "      <th></th>\n",
       "      <th>open</th>\n",
       "      <th>high</th>\n",
       "      <th>low</th>\n",
       "      <th>close</th>\n",
       "      <th>volume</th>\n",
       "      <th>edit_count</th>\n",
       "      <th>sentiment</th>\n",
       "      <th>neg_sentiment</th>\n",
       "      <th>fng_index</th>\n",
       "      <th>fng_class</th>\n",
       "    </tr>\n",
       "  </thead>\n",
       "  <tbody>\n",
       "    <tr>\n",
       "      <th>2018-03-02</th>\n",
       "      <td>10977.400391</td>\n",
       "      <td>11189.000000</td>\n",
       "      <td>10850.099609</td>\n",
       "      <td>11086.400391</td>\n",
       "      <td>7620590080</td>\n",
       "      <td>3.066667</td>\n",
       "      <td>-0.307224</td>\n",
       "      <td>0.541296</td>\n",
       "      <td>47</td>\n",
       "      <td>Neutral</td>\n",
       "    </tr>\n",
       "    <tr>\n",
       "      <th>2018-03-03</th>\n",
       "      <td>11101.900391</td>\n",
       "      <td>11528.200195</td>\n",
       "      <td>11002.400391</td>\n",
       "      <td>11489.700195</td>\n",
       "      <td>6690570240</td>\n",
       "      <td>3.066667</td>\n",
       "      <td>-0.307224</td>\n",
       "      <td>0.541296</td>\n",
       "      <td>56</td>\n",
       "      <td>Greed</td>\n",
       "    </tr>\n",
       "    <tr>\n",
       "      <th>2018-03-04</th>\n",
       "      <td>11497.400391</td>\n",
       "      <td>11512.599609</td>\n",
       "      <td>11136.099609</td>\n",
       "      <td>11512.599609</td>\n",
       "      <td>6084149760</td>\n",
       "      <td>2.933333</td>\n",
       "      <td>-0.258349</td>\n",
       "      <td>0.513519</td>\n",
       "      <td>44</td>\n",
       "      <td>Fear</td>\n",
       "    </tr>\n",
       "    <tr>\n",
       "      <th>2018-03-05</th>\n",
       "      <td>11532.400391</td>\n",
       "      <td>11704.099609</td>\n",
       "      <td>11443.900391</td>\n",
       "      <td>11573.299805</td>\n",
       "      <td>6468539904</td>\n",
       "      <td>2.866667</td>\n",
       "      <td>-0.259235</td>\n",
       "      <td>0.496852</td>\n",
       "      <td>55</td>\n",
       "      <td>Greed</td>\n",
       "    </tr>\n",
       "    <tr>\n",
       "      <th>2018-03-06</th>\n",
       "      <td>11500.099609</td>\n",
       "      <td>11500.099609</td>\n",
       "      <td>10694.299805</td>\n",
       "      <td>10779.900391</td>\n",
       "      <td>6832169984</td>\n",
       "      <td>2.666667</td>\n",
       "      <td>-0.249632</td>\n",
       "      <td>0.474630</td>\n",
       "      <td>59</td>\n",
       "      <td>Greed</td>\n",
       "    </tr>\n",
       "  </tbody>\n",
       "</table>\n",
       "</div>"
      ],
      "text/plain": [
       "                    open          high           low         close  \\\n",
       "2018-03-02  10977.400391  11189.000000  10850.099609  11086.400391   \n",
       "2018-03-03  11101.900391  11528.200195  11002.400391  11489.700195   \n",
       "2018-03-04  11497.400391  11512.599609  11136.099609  11512.599609   \n",
       "2018-03-05  11532.400391  11704.099609  11443.900391  11573.299805   \n",
       "2018-03-06  11500.099609  11500.099609  10694.299805  10779.900391   \n",
       "\n",
       "                volume  edit_count  sentiment  neg_sentiment  fng_index  \\\n",
       "2018-03-02  7620590080    3.066667  -0.307224       0.541296         47   \n",
       "2018-03-03  6690570240    3.066667  -0.307224       0.541296         56   \n",
       "2018-03-04  6084149760    2.933333  -0.258349       0.513519         44   \n",
       "2018-03-05  6468539904    2.866667  -0.259235       0.496852         55   \n",
       "2018-03-06  6832169984    2.666667  -0.249632       0.474630         59   \n",
       "\n",
       "           fng_class  \n",
       "2018-03-02   Neutral  \n",
       "2018-03-03     Greed  \n",
       "2018-03-04      Fear  \n",
       "2018-03-05     Greed  \n",
       "2018-03-06     Greed  "
      ]
     },
     "execution_count": 62,
     "metadata": {},
     "output_type": "execute_result"
    }
   ],
   "source": [
    "btc = btc.merge(rolling_edits, left_index=True, right_index=True)\n",
    "btc = btc.merge(data_fg, left_index=True, right_index=True)\n",
    "btc.head()"
   ]
  },
  {
   "cell_type": "markdown",
   "metadata": {},
   "source": [
    "SUGESTÃO: se for trabalhar nos dados a partir deste ponto, descomente a celula abaixo para gerar um backup do dataframe para agilizar seu trabalho"
   ]
  },
  {
   "cell_type": "code",
   "execution_count": 77,
   "metadata": {},
   "outputs": [],
   "source": [
    "# work_backup = btc.copy()\n",
    "# work_backup.head()"
   ]
  },
  {
   "cell_type": "markdown",
   "metadata": {},
   "source": [
    "Prepara Coluna Target e Colunas adicionais"
   ]
  },
  {
   "cell_type": "code",
   "execution_count": 75,
   "metadata": {},
   "outputs": [],
   "source": [
    "def improve_df(df: pd.DataFrame) -> pd.DataFrame:\n",
    "    df[\"tomorrow\"] = df[\"close\"].shift(-1)\n",
    "    df[\"fng_in_yest\"] = df[\"fng_index\"].shift(1)\n",
    "    df[\"fng_class_yest\"] = df[\"fng_class\"].shift(1)\n",
    "    df[\"target\"] = (df[\"tomorrow\"] > df[\"close\"]).astype(int)\n",
    "    df.dropna(inplace=True)\n",
    "    return df"
   ]
  },
  {
   "cell_type": "markdown",
   "metadata": {},
   "source": [
    "Organiza as colunas"
   ]
  },
  {
   "cell_type": "code",
   "execution_count": 78,
   "metadata": {},
   "outputs": [
    {
     "data": {
      "text/html": [
       "<div>\n",
       "<style scoped>\n",
       "    .dataframe tbody tr th:only-of-type {\n",
       "        vertical-align: middle;\n",
       "    }\n",
       "\n",
       "    .dataframe tbody tr th {\n",
       "        vertical-align: top;\n",
       "    }\n",
       "\n",
       "    .dataframe thead th {\n",
       "        text-align: right;\n",
       "    }\n",
       "</style>\n",
       "<table border=\"1\" class=\"dataframe\">\n",
       "  <thead>\n",
       "    <tr style=\"text-align: right;\">\n",
       "      <th></th>\n",
       "      <th>open</th>\n",
       "      <th>high</th>\n",
       "      <th>low</th>\n",
       "      <th>close</th>\n",
       "      <th>volume</th>\n",
       "      <th>edit_count</th>\n",
       "      <th>tomorrow</th>\n",
       "      <th>sentiment</th>\n",
       "      <th>neg_sentiment</th>\n",
       "      <th>fng_index</th>\n",
       "      <th>fng_class</th>\n",
       "      <th>fng_in_yest</th>\n",
       "      <th>fng_class_yest</th>\n",
       "      <th>target</th>\n",
       "    </tr>\n",
       "  </thead>\n",
       "  <tbody>\n",
       "    <tr>\n",
       "      <th>2018-03-04</th>\n",
       "      <td>11497.400391</td>\n",
       "      <td>11512.599609</td>\n",
       "      <td>11136.099609</td>\n",
       "      <td>11512.599609</td>\n",
       "      <td>6084149760</td>\n",
       "      <td>2.933333</td>\n",
       "      <td>11573.299805</td>\n",
       "      <td>-0.258349</td>\n",
       "      <td>0.513519</td>\n",
       "      <td>44</td>\n",
       "      <td>Fear</td>\n",
       "      <td>56.0</td>\n",
       "      <td>Greed</td>\n",
       "      <td>1</td>\n",
       "    </tr>\n",
       "    <tr>\n",
       "      <th>2018-03-05</th>\n",
       "      <td>11532.400391</td>\n",
       "      <td>11704.099609</td>\n",
       "      <td>11443.900391</td>\n",
       "      <td>11573.299805</td>\n",
       "      <td>6468539904</td>\n",
       "      <td>2.866667</td>\n",
       "      <td>10779.900391</td>\n",
       "      <td>-0.259235</td>\n",
       "      <td>0.496852</td>\n",
       "      <td>55</td>\n",
       "      <td>Greed</td>\n",
       "      <td>44.0</td>\n",
       "      <td>Fear</td>\n",
       "      <td>0</td>\n",
       "    </tr>\n",
       "    <tr>\n",
       "      <th>2018-03-06</th>\n",
       "      <td>11500.099609</td>\n",
       "      <td>11500.099609</td>\n",
       "      <td>10694.299805</td>\n",
       "      <td>10779.900391</td>\n",
       "      <td>6832169984</td>\n",
       "      <td>2.666667</td>\n",
       "      <td>9965.570312</td>\n",
       "      <td>-0.249632</td>\n",
       "      <td>0.474630</td>\n",
       "      <td>59</td>\n",
       "      <td>Greed</td>\n",
       "      <td>55.0</td>\n",
       "      <td>Greed</td>\n",
       "      <td>0</td>\n",
       "    </tr>\n",
       "    <tr>\n",
       "      <th>2018-03-07</th>\n",
       "      <td>10803.900391</td>\n",
       "      <td>10929.500000</td>\n",
       "      <td>9692.120117</td>\n",
       "      <td>9965.570312</td>\n",
       "      <td>8797910016</td>\n",
       "      <td>2.633333</td>\n",
       "      <td>9395.009766</td>\n",
       "      <td>-0.216476</td>\n",
       "      <td>0.441296</td>\n",
       "      <td>37</td>\n",
       "      <td>Fear</td>\n",
       "      <td>59.0</td>\n",
       "      <td>Greed</td>\n",
       "      <td>0</td>\n",
       "    </tr>\n",
       "    <tr>\n",
       "      <th>2018-03-08</th>\n",
       "      <td>9951.440430</td>\n",
       "      <td>10147.400391</td>\n",
       "      <td>9335.870117</td>\n",
       "      <td>9395.009766</td>\n",
       "      <td>7186089984</td>\n",
       "      <td>2.600000</td>\n",
       "      <td>9337.549805</td>\n",
       "      <td>-0.188242</td>\n",
       "      <td>0.407963</td>\n",
       "      <td>39</td>\n",
       "      <td>Fear</td>\n",
       "      <td>37.0</td>\n",
       "      <td>Fear</td>\n",
       "      <td>0</td>\n",
       "    </tr>\n",
       "  </tbody>\n",
       "</table>\n",
       "</div>"
      ],
      "text/plain": [
       "                    open          high           low         close  \\\n",
       "2018-03-04  11497.400391  11512.599609  11136.099609  11512.599609   \n",
       "2018-03-05  11532.400391  11704.099609  11443.900391  11573.299805   \n",
       "2018-03-06  11500.099609  11500.099609  10694.299805  10779.900391   \n",
       "2018-03-07  10803.900391  10929.500000   9692.120117   9965.570312   \n",
       "2018-03-08   9951.440430  10147.400391   9335.870117   9395.009766   \n",
       "\n",
       "                volume  edit_count      tomorrow  sentiment  neg_sentiment  \\\n",
       "2018-03-04  6084149760    2.933333  11573.299805  -0.258349       0.513519   \n",
       "2018-03-05  6468539904    2.866667  10779.900391  -0.259235       0.496852   \n",
       "2018-03-06  6832169984    2.666667   9965.570312  -0.249632       0.474630   \n",
       "2018-03-07  8797910016    2.633333   9395.009766  -0.216476       0.441296   \n",
       "2018-03-08  7186089984    2.600000   9337.549805  -0.188242       0.407963   \n",
       "\n",
       "            fng_index fng_class  fng_in_yest fng_class_yest  target  \n",
       "2018-03-04         44      Fear         56.0          Greed       1  \n",
       "2018-03-05         55     Greed         44.0           Fear       0  \n",
       "2018-03-06         59     Greed         55.0          Greed       0  \n",
       "2018-03-07         37      Fear         59.0          Greed       0  \n",
       "2018-03-08         39      Fear         37.0           Fear       0  "
      ]
     },
     "execution_count": 78,
     "metadata": {},
     "output_type": "execute_result"
    }
   ],
   "source": [
    "# btc = work_backup.copy()\n",
    "btc = improve_df(btc)\n",
    "sequencia = ['open', 'high', 'low', 'close', 'volume', 'edit_count', 'tomorrow','sentiment',\n",
    "       'neg_sentiment', 'fng_index', 'fng_class','fng_in_yest', 'fng_class_yest', 'target']\n",
    "btc = btc[sequencia]\n",
    "btc.head()"
   ]
  },
  {
   "cell_type": "markdown",
   "metadata": {},
   "source": [
    "Realiza a ingestão do dataframe no data lake"
   ]
  },
  {
   "cell_type": "code",
   "execution_count": 79,
   "metadata": {},
   "outputs": [],
   "source": [
    "s3_client = boto3.client('s3')\n",
    "s3_resource = boto3.resource('s3')"
   ]
  },
  {
   "cell_type": "code",
   "execution_count": 80,
   "metadata": {},
   "outputs": [],
   "source": [
    "# Converte o dataframe em uma string CSV\n",
    "csv_buffer = StringIO()\n",
    "btc.to_csv(csv_buffer, index=True)"
   ]
  },
  {
   "cell_type": "code",
   "execution_count": 81,
   "metadata": {},
   "outputs": [],
   "source": [
    "bucket_name = os.environ['BUCKET_NAME']\n",
    "csv_file_name = os.environ['CSV_FILE_NAME']\n",
    "bucket_layer = os.environ['BUCKET_LAYER']\n",
    "object_name = f'{bucket_layer}/{csv_file_name}'"
   ]
  },
  {
   "cell_type": "code",
   "execution_count": 82,
   "metadata": {},
   "outputs": [
    {
     "name": "stdout",
     "output_type": "stream",
     "text": [
      "Upload sucessful\n"
     ]
    }
   ],
   "source": [
    "def upload_to_s3(bucket_name, object_name, csv_buffer):\n",
    "    try:\n",
    "        s3_resource = boto3.resource('s3')\n",
    "        req_metadata = s3_resource.Object(bucket_name, object_name).put(Body=csv_buffer.getvalue())\n",
    "        status = req_metadata['ResponseMetadata']['HTTPStatusCode']\n",
    "        if status == 200:\n",
    "            print('Upload sucessful')\n",
    "        else:\n",
    "            print(f'Upload failed, status {status}')\n",
    "    except ClientError as e:\n",
    "        logging.error(e)\n",
    "\n",
    "upload_to_s3(bucket_name, object_name, csv_buffer)"
   ]
  },
  {
   "cell_type": "code",
   "execution_count": 34,
   "metadata": {},
   "outputs": [],
   "source": [
    "# baixa csv localmente\n",
    "#btc.to_csv('btc.csv')"
   ]
  }
 ],
 "metadata": {
  "kernelspec": {
   "display_name": ".venv",
   "language": "python",
   "name": "python3"
  },
  "language_info": {
   "codemirror_mode": {
    "name": "ipython",
    "version": 3
   },
   "file_extension": ".py",
   "mimetype": "text/x-python",
   "name": "python",
   "nbconvert_exporter": "python",
   "pygments_lexer": "ipython3",
   "version": "3.11.2"
  }
 },
 "nbformat": 4,
 "nbformat_minor": 2
}
