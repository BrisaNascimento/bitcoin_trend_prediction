{
 "cells": [
  {
   "cell_type": "markdown",
   "metadata": {},
   "source": [
    "### Coleta e persistência dos dados neste notebook"
   ]
  },
  {
   "cell_type": "markdown",
   "metadata": {},
   "source": [
    "**tipo de ingestão**: full load (recomendado para ingestão de dados inicial no datalake)\n",
    "\n",
    "**origem**: Yahoo finance, Wikipedia, Fear and Greed (alternative.me)\n",
    "\n",
    "**destino**: bronze/database/bitcoin/raw/btc.csv\n",
    "\n",
    "**formato do data no data lake**: .csv\n"
   ]
  },
  {
   "cell_type": "markdown",
   "metadata": {},
   "source": [
    "#### Instruções\n",
    "\n",
    "1. Renomear o arquivo .env_exemplo para somente .env\n",
    "2. Adicionar popular as variaveis conforme o padrão de nomenclatura que voce utilizar"
   ]
  },
  {
   "cell_type": "code",
   "execution_count": 1,
   "metadata": {},
   "outputs": [
    {
     "name": "stderr",
     "output_type": "stream",
     "text": [
      "c:\\Users\\julio\\OneDrive\\Área de Trabalho\\Projects\\bitcoin_trend_prediction\\.venv\\Lib\\site-packages\\tqdm\\auto.py:21: TqdmWarning: IProgress not found. Please update jupyter and ipywidgets. See https://ipywidgets.readthedocs.io/en/stable/user_install.html\n",
      "  from .autonotebook import tqdm as notebook_tqdm\n"
     ]
    },
    {
     "data": {
      "text/plain": [
       "True"
      ]
     },
     "execution_count": 1,
     "metadata": {},
     "output_type": "execute_result"
    }
   ],
   "source": [
    "import logging\n",
    "import boto3\n",
    "from botocore.exceptions import ClientError\n",
    "import pandas as pd\n",
    "from transformers import pipeline\n",
    "import yfinance as yf\n",
    "import mwclient\n",
    "import time\n",
    "import requests\n",
    "import json\n",
    "from datetime import datetime\n",
    "from statistics import mean\n",
    "from io import StringIO\n",
    "from dotenv import load_dotenv\n",
    "import os\n",
    "\n",
    "##carrega variaveis de ambiente\n",
    "load_dotenv()"
   ]
  },
  {
   "cell_type": "markdown",
   "metadata": {},
   "source": [
    "Extrai os dados de bitcoin do Yahoo Finance"
   ]
  },
  {
   "cell_type": "code",
   "execution_count": 2,
   "metadata": {},
   "outputs": [],
   "source": [
    "ticker = yf.Ticker(\"BTC-USD\")"
   ]
  },
  {
   "cell_type": "code",
   "execution_count": 3,
   "metadata": {},
   "outputs": [],
   "source": [
    "data_inicio = datetime.strptime('2018-02-01', '%Y-%m-%d')"
   ]
  },
  {
   "cell_type": "code",
   "execution_count": 4,
   "metadata": {},
   "outputs": [],
   "source": [
    "btc = ticker.history(start=data_inicio)"
   ]
  },
  {
   "cell_type": "markdown",
   "metadata": {},
   "source": [
    "Formata a base de bitcoin"
   ]
  },
  {
   "cell_type": "code",
   "execution_count": 5,
   "metadata": {},
   "outputs": [],
   "source": [
    "btc.index = pd.to_datetime(btc.index).tz_localize(None)"
   ]
  },
  {
   "cell_type": "code",
   "execution_count": 6,
   "metadata": {},
   "outputs": [],
   "source": [
    "del btc[\"Dividends\"]\n",
    "del btc[\"Stock Splits\"]"
   ]
  },
  {
   "cell_type": "code",
   "execution_count": 7,
   "metadata": {},
   "outputs": [],
   "source": [
    "btc.columns = [c.lower() for c in btc.columns]"
   ]
  },
  {
   "cell_type": "markdown",
   "metadata": {},
   "source": [
    "Extrai os dados das reviews de bitcoin da wikipedia"
   ]
  },
  {
   "cell_type": "code",
   "execution_count": 8,
   "metadata": {},
   "outputs": [],
   "source": [
    "site = mwclient.Site('en.wikipedia.org')\n",
    "page = site.pages['Bitcoin']"
   ]
  },
  {
   "cell_type": "code",
   "execution_count": 9,
   "metadata": {},
   "outputs": [],
   "source": [
    "revs = list(page.revisions(start=data_inicio, dir='newer'))"
   ]
  },
  {
   "cell_type": "code",
   "execution_count": 10,
   "metadata": {},
   "outputs": [],
   "source": [
    "revs = sorted(revs, key=lambda rev: rev[\"timestamp\"])"
   ]
  },
  {
   "cell_type": "markdown",
   "metadata": {},
   "source": [
    "Classifica o sentimento relacionado as reviews"
   ]
  },
  {
   "cell_type": "markdown",
   "metadata": {},
   "source": [
    "seleciona o modelo utilizado para classificação das reviews"
   ]
  },
  {
   "cell_type": "code",
   "execution_count": 11,
   "metadata": {},
   "outputs": [
    {
     "name": "stderr",
     "output_type": "stream",
     "text": [
      "c:\\Users\\julio\\OneDrive\\Área de Trabalho\\Projects\\bitcoin_trend_prediction\\.venv\\Lib\\site-packages\\huggingface_hub\\file_download.py:159: UserWarning: `huggingface_hub` cache-system uses symlinks by default to efficiently store duplicated files but your machine does not support them in C:\\Users\\julio\\.cache\\huggingface\\hub\\models--distilbert-base-uncased-finetuned-sst-2-english. Caching files will still work but in a degraded version that might require more space on your disk. This warning can be disabled by setting the `HF_HUB_DISABLE_SYMLINKS_WARNING` environment variable. For more details, see https://huggingface.co/docs/huggingface_hub/how-to-cache#limitations.\n",
      "To support symlinks on Windows, you either need to activate Developer Mode or to run Python as an administrator. In order to see activate developer mode, see this article: https://docs.microsoft.com/en-us/windows/apps/get-started/enable-your-device-for-development\n",
      "  warnings.warn(message)\n",
      "Error while downloading from https://cdn-lfs.huggingface.co/distilbert-base-uncased-finetuned-sst-2-english/7c3919835e442510166d267fe7cbe847e0c51cd26d9ba07b89a57b952b49b8aa?response-content-disposition=inline%3B+filename*%3DUTF-8%27%27model.safetensors%3B+filename%3D%22model.safetensors%22%3B&Expires=1725981022&Policy=eyJTdGF0ZW1lbnQiOlt7IkNvbmRpdGlvbiI6eyJEYXRlTGVzc1RoYW4iOnsiQVdTOkVwb2NoVGltZSI6MTcyNTk4MTAyMn19LCJSZXNvdXJjZSI6Imh0dHBzOi8vY2RuLWxmcy5odWdnaW5nZmFjZS5jby9kaXN0aWxiZXJ0LWJhc2UtdW5jYXNlZC1maW5ldHVuZWQtc3N0LTItZW5nbGlzaC83YzM5MTk4MzVlNDQyNTEwMTY2ZDI2N2ZlN2NiZTg0N2UwYzUxY2QyNmQ5YmEwN2I4OWE1N2I5NTJiNDliOGFhP3Jlc3BvbnNlLWNvbnRlbnQtZGlzcG9zaXRpb249KiJ9XX0_&Signature=Sm5bkCyTvILPqEEoUxJhGx0QUC6LDu9uIHKQSCsFwl2TVONVj25bQB%7EO7SLr8HBrGaGVFZOvJt9DWIpwUQ6cqLZLNlnlIt2m0vgr2uAO8me-vn6hjxsKqKFCnNO6w-F3YOMcSV-yyjTN0-mvzoU9sPVlBksHBZ78Bsg6IN9Ys40v1-XbxdWQi51SW3W3BrfsS-lhpY8R1NBiuPRKinH%7EswHrBJWwGZd7WH3FQu3LGo7Ez8nhr9M6k60GgmB7oYRl5SCmBPYHRxaAzsUoHLCwR%7EsiKZL-EnsbE7Z%7EaQiVTqPYAEvRJ2kIfOaVC479meRPb8ljIPhdRnKj%7EdiL1Q6Cyg__&Key-Pair-Id=K3ESJI6DHPFC7: HTTPSConnectionPool(host='cdn-lfs.huggingface.co', port=443): Read timed out.\n",
      "Trying to resume download...\n",
      "c:\\Users\\julio\\OneDrive\\Área de Trabalho\\Projects\\bitcoin_trend_prediction\\.venv\\Lib\\site-packages\\transformers\\tokenization_utils_base.py:1601: FutureWarning: `clean_up_tokenization_spaces` was not set. It will be set to `True` by default. This behavior will be depracted in transformers v4.45, and will be then set to `False` by default. For more details check this issue: https://github.com/huggingface/transformers/issues/31884\n",
      "  warnings.warn(\n"
     ]
    }
   ],
   "source": [
    "sentiment_pipeline = pipeline(model=\"distilbert-base-uncased-finetuned-sst-2-english\")"
   ]
  },
  {
   "cell_type": "markdown",
   "metadata": {},
   "source": [
    "transforma o score das classificações negativas em valores negativos"
   ]
  },
  {
   "cell_type": "code",
   "execution_count": 12,
   "metadata": {},
   "outputs": [],
   "source": [
    "def find_sentiment(text):\n",
    "    sent = sentiment_pipeline([text[:250]])[0]\n",
    "    score = sent[\"score\"]\n",
    "    if sent[\"label\"] == \"NEGATIVE\":\n",
    "        score *= -1\n",
    "    return score"
   ]
  },
  {
   "cell_type": "markdown",
   "metadata": {},
   "source": [
    "cria a base de sentimentos"
   ]
  },
  {
   "cell_type": "code",
   "execution_count": 13,
   "metadata": {},
   "outputs": [],
   "source": [
    "edits = {}\n",
    "\n",
    "for rev in revs:        \n",
    "    date = time.strftime(\"%Y-%m-%d\", rev[\"timestamp\"])\n",
    "    if date not in edits:\n",
    "        edits[date] = dict(sentiments=list(), edit_count=0)\n",
    "    \n",
    "    edits[date][\"edit_count\"] += 1\n",
    "    \n",
    "    comment = rev.get(\"comment\", \"\")\n",
    "    edits[date][\"sentiments\"].append(find_sentiment(comment))"
   ]
  },
  {
   "cell_type": "markdown",
   "metadata": {},
   "source": [
    "prepara e limpa a base"
   ]
  },
  {
   "cell_type": "code",
   "execution_count": 14,
   "metadata": {},
   "outputs": [],
   "source": [
    "for key in edits:\n",
    "    if len(edits[key][\"sentiments\"]) > 0:\n",
    "        edits[key][\"sentiment\"] = mean(edits[key][\"sentiments\"])\n",
    "        edits[key][\"neg_sentiment\"] = len([s for s in edits[key][\"sentiments\"] if s < 0]) / len(edits[key][\"sentiments\"])\n",
    "    else:\n",
    "        edits[key][\"sentiment\"] = 0\n",
    "        edits[key][\"neg_sentiment\"] = 0\n",
    "    \n",
    "    del edits[key][\"sentiments\"]"
   ]
  },
  {
   "cell_type": "code",
   "execution_count": 15,
   "metadata": {},
   "outputs": [],
   "source": [
    "edits_df = pd.DataFrame.from_dict(edits, orient=\"index\")"
   ]
  },
  {
   "cell_type": "code",
   "execution_count": 16,
   "metadata": {},
   "outputs": [],
   "source": [
    "edits_df.index = pd.to_datetime(edits_df.index)"
   ]
  },
  {
   "cell_type": "code",
   "execution_count": 17,
   "metadata": {},
   "outputs": [],
   "source": [
    "dates = pd.date_range(start=data_inicio, end=datetime.today())"
   ]
  },
  {
   "cell_type": "code",
   "execution_count": 18,
   "metadata": {},
   "outputs": [],
   "source": [
    "edits_df = edits_df.reindex(dates, fill_value=0)"
   ]
  },
  {
   "cell_type": "code",
   "execution_count": 19,
   "metadata": {},
   "outputs": [],
   "source": [
    "rolling_edits = edits_df.rolling(30, min_periods=30).mean()"
   ]
  },
  {
   "cell_type": "code",
   "execution_count": 20,
   "metadata": {},
   "outputs": [],
   "source": [
    "rolling_edits = rolling_edits.dropna()"
   ]
  },
  {
   "cell_type": "markdown",
   "metadata": {},
   "source": [
    "Extrai a base de Fear and Greed da Alternative.me"
   ]
  },
  {
   "cell_type": "code",
   "execution_count": 21,
   "metadata": {},
   "outputs": [],
   "source": [
    "def collect_fear_greed(api_url:str, limit:int, drop_colls:list, rename_colls:list) -> pd.DataFrame:\n",
    "    response = requests.get(f'{api_url}?limit={limit}')\n",
    "    n_data = response.json()\n",
    "    df = pd.read_json(json.dumps(n_data['data']))\n",
    "    df.drop(columns=drop_colls, axis=1, inplace=True)\n",
    "    df.rename(columns=rename_colls, inplace=True)\n",
    "    df.set_index('date', inplace=True)\n",
    "    return df"
   ]
  },
  {
   "cell_type": "code",
   "execution_count": 22,
   "metadata": {},
   "outputs": [
    {
     "name": "stderr",
     "output_type": "stream",
     "text": [
      "C:\\Users\\julio\\AppData\\Local\\Temp\\ipykernel_11984\\2951827581.py:4: FutureWarning: Passing literal json to 'read_json' is deprecated and will be removed in a future version. To read from a literal string, wrap it in a 'StringIO' object.\n",
      "  df = pd.read_json(json.dumps(n_data['data']))\n"
     ]
    }
   ],
   "source": [
    "api_url = 'https://api.alternative.me/fng/'\n",
    "colls_to_drop = ['time_until_update']\n",
    "coll_names = {'value':'fng_index', \n",
    "              'value_classification':'fng_classification',\n",
    "              'timestamp': 'date'}\n",
    "\n",
    "data_fg = collect_fear_greed(api_url=api_url, limit=0, drop_colls=colls_to_drop, rename_colls=coll_names)"
   ]
  },
  {
   "cell_type": "code",
   "execution_count": 23,
   "metadata": {},
   "outputs": [],
   "source": [
    "data_fg = data_fg.sort_index()"
   ]
  },
  {
   "cell_type": "markdown",
   "metadata": {},
   "source": [
    "Une as bases de bitcoin, sentimentos e fear and greed"
   ]
  },
  {
   "cell_type": "code",
   "execution_count": 24,
   "metadata": {},
   "outputs": [],
   "source": [
    "btc = btc.merge(rolling_edits, left_index=True, right_index=True)"
   ]
  },
  {
   "cell_type": "code",
   "execution_count": 25,
   "metadata": {},
   "outputs": [],
   "source": [
    "btc = btc.merge(data_fg, left_index=True, right_index=True)"
   ]
  },
  {
   "cell_type": "markdown",
   "metadata": {},
   "source": [
    "Prepara a coluna target"
   ]
  },
  {
   "cell_type": "code",
   "execution_count": 26,
   "metadata": {},
   "outputs": [],
   "source": [
    "btc[\"tomorrow\"] = btc[\"close\"].shift(-1)"
   ]
  },
  {
   "cell_type": "code",
   "execution_count": 27,
   "metadata": {},
   "outputs": [],
   "source": [
    "btc[\"target\"] = (btc[\"tomorrow\"] > btc[\"close\"]).astype(int)"
   ]
  },
  {
   "cell_type": "markdown",
   "metadata": {},
   "source": [
    "Organiza as colunas"
   ]
  },
  {
   "cell_type": "code",
   "execution_count": 28,
   "metadata": {},
   "outputs": [],
   "source": [
    "sequencia = ['open', 'high', 'low', 'close', 'volume', 'edit_count', 'tomorrow','sentiment',\n",
    "       'neg_sentiment', 'fng_index', 'fng_classification', 'target']\n",
    "btc = btc[sequencia]"
   ]
  },
  {
   "cell_type": "code",
   "execution_count": 29,
   "metadata": {},
   "outputs": [
    {
     "data": {
      "text/html": [
       "<div>\n",
       "<style scoped>\n",
       "    .dataframe tbody tr th:only-of-type {\n",
       "        vertical-align: middle;\n",
       "    }\n",
       "\n",
       "    .dataframe tbody tr th {\n",
       "        vertical-align: top;\n",
       "    }\n",
       "\n",
       "    .dataframe thead th {\n",
       "        text-align: right;\n",
       "    }\n",
       "</style>\n",
       "<table border=\"1\" class=\"dataframe\">\n",
       "  <thead>\n",
       "    <tr style=\"text-align: right;\">\n",
       "      <th></th>\n",
       "      <th>open</th>\n",
       "      <th>high</th>\n",
       "      <th>low</th>\n",
       "      <th>close</th>\n",
       "      <th>volume</th>\n",
       "      <th>edit_count</th>\n",
       "      <th>tomorrow</th>\n",
       "      <th>sentiment</th>\n",
       "      <th>neg_sentiment</th>\n",
       "      <th>fng_index</th>\n",
       "      <th>fng_classification</th>\n",
       "      <th>target</th>\n",
       "    </tr>\n",
       "  </thead>\n",
       "  <tbody>\n",
       "    <tr>\n",
       "      <th>2018-03-02</th>\n",
       "      <td>10977.400391</td>\n",
       "      <td>11189.000000</td>\n",
       "      <td>10850.099609</td>\n",
       "      <td>11086.400391</td>\n",
       "      <td>7620590080</td>\n",
       "      <td>3.066667</td>\n",
       "      <td>11489.700195</td>\n",
       "      <td>-0.307224</td>\n",
       "      <td>0.541296</td>\n",
       "      <td>47</td>\n",
       "      <td>Neutral</td>\n",
       "      <td>1</td>\n",
       "    </tr>\n",
       "    <tr>\n",
       "      <th>2018-03-03</th>\n",
       "      <td>11101.900391</td>\n",
       "      <td>11528.200195</td>\n",
       "      <td>11002.400391</td>\n",
       "      <td>11489.700195</td>\n",
       "      <td>6690570240</td>\n",
       "      <td>3.066667</td>\n",
       "      <td>11512.599609</td>\n",
       "      <td>-0.307224</td>\n",
       "      <td>0.541296</td>\n",
       "      <td>56</td>\n",
       "      <td>Greed</td>\n",
       "      <td>1</td>\n",
       "    </tr>\n",
       "    <tr>\n",
       "      <th>2018-03-04</th>\n",
       "      <td>11497.400391</td>\n",
       "      <td>11512.599609</td>\n",
       "      <td>11136.099609</td>\n",
       "      <td>11512.599609</td>\n",
       "      <td>6084149760</td>\n",
       "      <td>2.933333</td>\n",
       "      <td>11573.299805</td>\n",
       "      <td>-0.258349</td>\n",
       "      <td>0.513519</td>\n",
       "      <td>44</td>\n",
       "      <td>Fear</td>\n",
       "      <td>1</td>\n",
       "    </tr>\n",
       "    <tr>\n",
       "      <th>2018-03-05</th>\n",
       "      <td>11532.400391</td>\n",
       "      <td>11704.099609</td>\n",
       "      <td>11443.900391</td>\n",
       "      <td>11573.299805</td>\n",
       "      <td>6468539904</td>\n",
       "      <td>2.866667</td>\n",
       "      <td>10779.900391</td>\n",
       "      <td>-0.259235</td>\n",
       "      <td>0.496852</td>\n",
       "      <td>55</td>\n",
       "      <td>Greed</td>\n",
       "      <td>0</td>\n",
       "    </tr>\n",
       "    <tr>\n",
       "      <th>2018-03-06</th>\n",
       "      <td>11500.099609</td>\n",
       "      <td>11500.099609</td>\n",
       "      <td>10694.299805</td>\n",
       "      <td>10779.900391</td>\n",
       "      <td>6832169984</td>\n",
       "      <td>2.666667</td>\n",
       "      <td>9965.570312</td>\n",
       "      <td>-0.249632</td>\n",
       "      <td>0.474630</td>\n",
       "      <td>59</td>\n",
       "      <td>Greed</td>\n",
       "      <td>0</td>\n",
       "    </tr>\n",
       "    <tr>\n",
       "      <th>...</th>\n",
       "      <td>...</td>\n",
       "      <td>...</td>\n",
       "      <td>...</td>\n",
       "      <td>...</td>\n",
       "      <td>...</td>\n",
       "      <td>...</td>\n",
       "      <td>...</td>\n",
       "      <td>...</td>\n",
       "      <td>...</td>\n",
       "      <td>...</td>\n",
       "      <td>...</td>\n",
       "      <td>...</td>\n",
       "    </tr>\n",
       "    <tr>\n",
       "      <th>2024-09-03</th>\n",
       "      <td>59106.191406</td>\n",
       "      <td>59815.058594</td>\n",
       "      <td>57425.167969</td>\n",
       "      <td>57431.023438</td>\n",
       "      <td>26666961053</td>\n",
       "      <td>0.166667</td>\n",
       "      <td>57971.539062</td>\n",
       "      <td>0.024292</td>\n",
       "      <td>0.066667</td>\n",
       "      <td>26</td>\n",
       "      <td>Fear</td>\n",
       "      <td>1</td>\n",
       "    </tr>\n",
       "    <tr>\n",
       "      <th>2024-09-04</th>\n",
       "      <td>57430.347656</td>\n",
       "      <td>58511.570312</td>\n",
       "      <td>55673.164062</td>\n",
       "      <td>57971.539062</td>\n",
       "      <td>35627680312</td>\n",
       "      <td>0.166667</td>\n",
       "      <td>56160.488281</td>\n",
       "      <td>0.024292</td>\n",
       "      <td>0.066667</td>\n",
       "      <td>27</td>\n",
       "      <td>Fear</td>\n",
       "      <td>0</td>\n",
       "    </tr>\n",
       "    <tr>\n",
       "      <th>2024-09-05</th>\n",
       "      <td>57971.703125</td>\n",
       "      <td>58300.582031</td>\n",
       "      <td>55712.453125</td>\n",
       "      <td>56160.488281</td>\n",
       "      <td>31030280656</td>\n",
       "      <td>0.166667</td>\n",
       "      <td>53948.753906</td>\n",
       "      <td>0.024292</td>\n",
       "      <td>0.066667</td>\n",
       "      <td>29</td>\n",
       "      <td>Fear</td>\n",
       "      <td>0</td>\n",
       "    </tr>\n",
       "    <tr>\n",
       "      <th>2024-09-06</th>\n",
       "      <td>56160.191406</td>\n",
       "      <td>56976.109375</td>\n",
       "      <td>52598.699219</td>\n",
       "      <td>53948.753906</td>\n",
       "      <td>49361693566</td>\n",
       "      <td>0.133333</td>\n",
       "      <td>54667.089844</td>\n",
       "      <td>-0.008964</td>\n",
       "      <td>0.066667</td>\n",
       "      <td>22</td>\n",
       "      <td>Extreme Fear</td>\n",
       "      <td>1</td>\n",
       "    </tr>\n",
       "    <tr>\n",
       "      <th>2024-09-07</th>\n",
       "      <td>53952.199219</td>\n",
       "      <td>54667.089844</td>\n",
       "      <td>53752.238281</td>\n",
       "      <td>54667.089844</td>\n",
       "      <td>34399330304</td>\n",
       "      <td>0.133333</td>\n",
       "      <td>NaN</td>\n",
       "      <td>-0.008964</td>\n",
       "      <td>0.066667</td>\n",
       "      <td>23</td>\n",
       "      <td>Extreme Fear</td>\n",
       "      <td>0</td>\n",
       "    </tr>\n",
       "  </tbody>\n",
       "</table>\n",
       "<p>2379 rows × 12 columns</p>\n",
       "</div>"
      ],
      "text/plain": [
       "                    open          high           low         close  \\\n",
       "2018-03-02  10977.400391  11189.000000  10850.099609  11086.400391   \n",
       "2018-03-03  11101.900391  11528.200195  11002.400391  11489.700195   \n",
       "2018-03-04  11497.400391  11512.599609  11136.099609  11512.599609   \n",
       "2018-03-05  11532.400391  11704.099609  11443.900391  11573.299805   \n",
       "2018-03-06  11500.099609  11500.099609  10694.299805  10779.900391   \n",
       "...                  ...           ...           ...           ...   \n",
       "2024-09-03  59106.191406  59815.058594  57425.167969  57431.023438   \n",
       "2024-09-04  57430.347656  58511.570312  55673.164062  57971.539062   \n",
       "2024-09-05  57971.703125  58300.582031  55712.453125  56160.488281   \n",
       "2024-09-06  56160.191406  56976.109375  52598.699219  53948.753906   \n",
       "2024-09-07  53952.199219  54667.089844  53752.238281  54667.089844   \n",
       "\n",
       "                 volume  edit_count      tomorrow  sentiment  neg_sentiment  \\\n",
       "2018-03-02   7620590080    3.066667  11489.700195  -0.307224       0.541296   \n",
       "2018-03-03   6690570240    3.066667  11512.599609  -0.307224       0.541296   \n",
       "2018-03-04   6084149760    2.933333  11573.299805  -0.258349       0.513519   \n",
       "2018-03-05   6468539904    2.866667  10779.900391  -0.259235       0.496852   \n",
       "2018-03-06   6832169984    2.666667   9965.570312  -0.249632       0.474630   \n",
       "...                 ...         ...           ...        ...            ...   \n",
       "2024-09-03  26666961053    0.166667  57971.539062   0.024292       0.066667   \n",
       "2024-09-04  35627680312    0.166667  56160.488281   0.024292       0.066667   \n",
       "2024-09-05  31030280656    0.166667  53948.753906   0.024292       0.066667   \n",
       "2024-09-06  49361693566    0.133333  54667.089844  -0.008964       0.066667   \n",
       "2024-09-07  34399330304    0.133333           NaN  -0.008964       0.066667   \n",
       "\n",
       "            fng_index fng_classification  target  \n",
       "2018-03-02         47            Neutral       1  \n",
       "2018-03-03         56              Greed       1  \n",
       "2018-03-04         44               Fear       1  \n",
       "2018-03-05         55              Greed       0  \n",
       "2018-03-06         59              Greed       0  \n",
       "...               ...                ...     ...  \n",
       "2024-09-03         26               Fear       1  \n",
       "2024-09-04         27               Fear       0  \n",
       "2024-09-05         29               Fear       0  \n",
       "2024-09-06         22       Extreme Fear       1  \n",
       "2024-09-07         23       Extreme Fear       0  \n",
       "\n",
       "[2379 rows x 12 columns]"
      ]
     },
     "execution_count": 29,
     "metadata": {},
     "output_type": "execute_result"
    }
   ],
   "source": [
    "btc"
   ]
  },
  {
   "cell_type": "markdown",
   "metadata": {},
   "source": [
    "Realiza a ingestão do dataframe no data lake"
   ]
  },
  {
   "cell_type": "code",
   "execution_count": 30,
   "metadata": {},
   "outputs": [],
   "source": [
    "s3_client = boto3.client('s3')\n",
    "s3_resource = boto3.resource('s3')"
   ]
  },
  {
   "cell_type": "code",
   "execution_count": 31,
   "metadata": {},
   "outputs": [],
   "source": [
    "# Converte o dataframe em uma string CSV\n",
    "csv_buffer = StringIO()\n",
    "btc.to_csv(csv_buffer, index=True)"
   ]
  },
  {
   "cell_type": "code",
   "execution_count": 32,
   "metadata": {},
   "outputs": [],
   "source": [
    "bucket_name = os.environ['BUCKET_NAME']\n",
    "csv_file_name = os.environ['CSV_FILE_NAME']\n",
    "bucket_layer = os.environ['BUCKET_LAYER']\n",
    "object_name = f'{bucket_layer}/{csv_file_name}'"
   ]
  },
  {
   "cell_type": "code",
   "execution_count": 33,
   "metadata": {},
   "outputs": [
    {
     "name": "stdout",
     "output_type": "stream",
     "text": [
      "Upload sucessful\n"
     ]
    }
   ],
   "source": [
    "def upload_to_s3(bucket_name, object_name, csv_buffer):\n",
    "    try:\n",
    "        s3_resource = boto3.resource('s3')\n",
    "        req_metadata = s3_resource.Object(bucket_name, object_name).put(Body=csv_buffer.getvalue())\n",
    "        status = req_metadata['ResponseMetadata']['HTTPStatusCode']\n",
    "        if status == 200:\n",
    "            print('Upload sucessful')\n",
    "        else:\n",
    "            print(f'Upload failed, status {status}')\n",
    "    except ClientError as e:\n",
    "        logging.error(e)\n",
    "\n",
    "upload_to_s3(bucket_name, object_name, csv_buffer)"
   ]
  },
  {
   "cell_type": "code",
   "execution_count": 34,
   "metadata": {},
   "outputs": [],
   "source": [
    "# baixa csv localmente\n",
    "#btc.to_csv('btc.csv')"
   ]
  }
 ],
 "metadata": {
  "kernelspec": {
   "display_name": ".venv",
   "language": "python",
   "name": "python3"
  },
  "language_info": {
   "codemirror_mode": {
    "name": "ipython",
    "version": 3
   },
   "file_extension": ".py",
   "mimetype": "text/x-python",
   "name": "python",
   "nbconvert_exporter": "python",
   "pygments_lexer": "ipython3",
   "version": "3.11.2"
  }
 },
 "nbformat": 4,
 "nbformat_minor": 2
}
