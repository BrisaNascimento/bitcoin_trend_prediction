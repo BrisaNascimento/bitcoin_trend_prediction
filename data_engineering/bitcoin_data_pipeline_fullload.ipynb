{
 "cells": [
  {
   "cell_type": "markdown",
   "metadata": {},
   "source": [
    "### Coleta e persistência dos dados neste notebook"
   ]
  },
  {
   "cell_type": "markdown",
   "metadata": {},
   "source": [
    "**tipo de ingestão**: full load (recomendado para ingestão de dados inicial no datalake)\n",
    "\n",
    "**origem**: Yahoo finance, Wikipedia, Fear and Greed (alternative.me)\n",
    "\n",
    "**destino**: bronze/database/bitcoin/raw/btc.csv\n",
    "\n",
    "**formato do data no data lake**: .csv\n"
   ]
  },
  {
   "cell_type": "markdown",
   "metadata": {},
   "source": [
    "#### Instruções\n",
    "\n",
    "1. Renomear o arquivo .env_exemplo para somente .env\n",
    "2. Adicionar popular as variaveis conforme o padrão de nomenclatura que voce utilizar"
   ]
  },
  {
   "cell_type": "code",
   "execution_count": null,
   "metadata": {},
   "outputs": [],
   "source": [
    "import logging\n",
    "import boto3\n",
    "from botocore.exceptions import ClientError\n",
    "import pandas as pd\n",
    "from transformers import pipeline\n",
    "import yfinance as yf\n",
    "import mwclient\n",
    "import time\n",
    "import requests\n",
    "import json\n",
    "from datetime import datetime\n",
    "from statistics import mean\n",
    "from io import StringIO\n",
    "from dotenv import load_dotenv\n",
    "import os\n",
    "\n",
    "##carrega variaveis de ambiente\n",
    "load_dotenv()"
   ]
  },
  {
   "cell_type": "markdown",
   "metadata": {},
   "source": [
    "Extrai os dados de bitcoin do Yahoo Finance"
   ]
  },
  {
   "cell_type": "code",
   "execution_count": 3,
   "metadata": {},
   "outputs": [],
   "source": [
    "def extract_btc(data_inicio: datetime) -> pd.DataFrame:\n",
    "    ticker = yf.Ticker(\"BTC-USD\")\n",
    "    btc = ticker.history(start=data_inicio)\n",
    "    return btc"
   ]
  },
  {
   "cell_type": "markdown",
   "metadata": {},
   "source": [
    "Formata a base de bitcoin"
   ]
  },
  {
   "cell_type": "code",
   "execution_count": 4,
   "metadata": {},
   "outputs": [],
   "source": [
    "def format_base(df:pd.DataFrame) -> pd.DataFrame:\n",
    "    df.index = pd.to_datetime(df.index).tz_localize(None)\n",
    "    del df[\"Dividends\"]\n",
    "    del df[\"Stock Splits\"]\n",
    "    df.columns = [c.lower() for c in df.columns]\n",
    "    return df"
   ]
  },
  {
   "cell_type": "code",
   "execution_count": null,
   "metadata": {},
   "outputs": [],
   "source": [
    "data_inicio = datetime.strptime('2018-02-01', '%Y-%m-%d')\n",
    "btc = format_base(extract_btc(data_inicio))\n",
    "btc.head()"
   ]
  },
  {
   "cell_type": "markdown",
   "metadata": {},
   "source": [
    "Extrai os dados das reviews de bitcoin da wikipedia"
   ]
  },
  {
   "cell_type": "code",
   "execution_count": 6,
   "metadata": {},
   "outputs": [],
   "source": [
    "def extract_reviews() -> list:\n",
    "   site = mwclient.Site(\"en.wikipedia.org\")\n",
    "   page = site.pages[\"Bitcoin\"]\n",
    "   revs = list(page.revisions(start=data_inicio, dir=\"newer\"))\n",
    "   revs = sorted(revs, key=lambda rev: rev[\"timestamp\"])\n",
    "   return revs"
   ]
  },
  {
   "cell_type": "markdown",
   "metadata": {},
   "source": [
    "Classifica o sentimento relacionado as reviews"
   ]
  },
  {
   "cell_type": "markdown",
   "metadata": {},
   "source": [
    "seleciona o modelo utilizado para classificação das reviews"
   ]
  },
  {
   "cell_type": "code",
   "execution_count": null,
   "metadata": {},
   "outputs": [],
   "source": [
    "sentiment_pipeline = pipeline(model=\"distilbert-base-uncased-finetuned-sst-2-english\")"
   ]
  },
  {
   "cell_type": "markdown",
   "metadata": {},
   "source": [
    "transforma o score das classificações negativas em valores negativos"
   ]
  },
  {
   "cell_type": "code",
   "execution_count": 8,
   "metadata": {},
   "outputs": [],
   "source": [
    "def find_sentiment(text):\n",
    "    sent = sentiment_pipeline([text[:250]])[0]\n",
    "    score = sent[\"score\"]\n",
    "    if sent[\"label\"] == \"NEGATIVE\":\n",
    "        score *= -1\n",
    "    return score"
   ]
  },
  {
   "cell_type": "markdown",
   "metadata": {},
   "source": [
    "cria a base de sentimentos"
   ]
  },
  {
   "cell_type": "code",
   "execution_count": 9,
   "metadata": {},
   "outputs": [],
   "source": [
    "edits = {}\n",
    "revs = extract_reviews()\n",
    "\n",
    "for rev in revs:        \n",
    "    date = time.strftime(\"%Y-%m-%d\", rev[\"timestamp\"])\n",
    "    if date not in edits:\n",
    "        edits[date] = dict(sentiments=list(), edit_count=0)\n",
    "    \n",
    "    edits[date][\"edit_count\"] += 1\n",
    "    \n",
    "    comment = rev.get(\"comment\", \"\")\n",
    "    edits[date][\"sentiments\"].append(find_sentiment(comment))"
   ]
  },
  {
   "cell_type": "markdown",
   "metadata": {},
   "source": [
    "prepara e limpa a base"
   ]
  },
  {
   "cell_type": "code",
   "execution_count": 10,
   "metadata": {},
   "outputs": [],
   "source": [
    "for key in edits:\n",
    "    if len(edits[key][\"sentiments\"]) > 0:\n",
    "        edits[key][\"sentiment\"] = mean(edits[key][\"sentiments\"])\n",
    "        edits[key][\"neg_sentiment\"] = len([s for s in edits[key][\"sentiments\"] if s < 0]) / len(edits[key][\"sentiments\"])\n",
    "    else:\n",
    "        edits[key][\"sentiment\"] = 0\n",
    "        edits[key][\"neg_sentiment\"] = 0\n",
    "    \n",
    "    del edits[key][\"sentiments\"]"
   ]
  },
  {
   "cell_type": "code",
   "execution_count": 11,
   "metadata": {},
   "outputs": [],
   "source": [
    "def create_edits_df(edits: dict) -> pd.DataFrame:\n",
    "    edits_df = pd.DataFrame.from_dict(edits, orient=\"index\")\n",
    "    edits_df.index = pd.to_datetime(edits_df.index)\n",
    "    dates = pd.date_range(start=data_inicio, end=datetime.today())\n",
    "    edits_df = edits_df.reindex(dates, fill_value=0)\n",
    "    rolling_edits = edits_df.rolling(30, min_periods=30).mean()\n",
    "    rolling_edits = rolling_edits.dropna()\n",
    "    return rolling_edits"
   ]
  },
  {
   "cell_type": "code",
   "execution_count": null,
   "metadata": {},
   "outputs": [],
   "source": [
    "rolling_edits = create_edits_df(edits)\n",
    "rolling_edits.head()"
   ]
  },
  {
   "cell_type": "markdown",
   "metadata": {},
   "source": [
    "Une as bases de bitcoin e sentimentos"
   ]
  },
  {
   "cell_type": "code",
   "execution_count": null,
   "metadata": {},
   "outputs": [],
   "source": [
    "btc = btc.merge(rolling_edits, left_index=True, right_index=True)\n",
    "btc.head()"
   ]
  },
  {
   "cell_type": "markdown",
   "metadata": {},
   "source": [
    "Adiciona a coluna Target e limpa a base"
   ]
  },
  {
   "cell_type": "code",
   "execution_count": null,
   "metadata": {},
   "outputs": [],
   "source": [
    "def target_and_clean(df: pd.DataFrame) -> pd.DataFrame:\n",
    "    df[\"tomorrow\"] = df[\"close\"].shift(-1)\n",
    "    df[\"target\"] = (df[\"tomorrow\"] > df[\"close\"]).astype(int)\n",
    "    df.dropna(inplace=True)\n",
    "    return df\n",
    "\n",
    "btc =  target_and_clean(btc)\n",
    "btc.head()"
   ]
  },
  {
   "cell_type": "markdown",
   "metadata": {},
   "source": [
    "Cria colunas adicionais dataframe existente para verificar possíveis tendências em horizontes de tempo"
   ]
  },
  {
   "cell_type": "code",
   "execution_count": 15,
   "metadata": {},
   "outputs": [],
   "source": [
    "def trends_col(df: pd.DataFrame) -> pd.DataFrame:\n",
    "    horizons = [2, 7, 30, 60, 365]\n",
    "\n",
    "    for horizon in horizons:\n",
    "        rolling_averages = df.rolling(horizon, min_periods=1).mean()\n",
    "\n",
    "        ratio_column = f'close_ratio_{horizon}'\n",
    "        df[ratio_column] = df['close'] / rolling_averages['close']\n",
    "\n",
    "        edit_column = f'edit_{horizon}'\n",
    "        df[edit_column] = rolling_averages['edit_count']\n",
    "\n",
    "        rolling = df.rolling(horizon, closed='left', min_periods=1).mean()\n",
    "        trend_column = f'trend_{horizon}'\n",
    "        df[trend_column] = rolling['target']\n",
    "\n",
    "    return df\n",
    "\n",
    "btc = trends_col(btc)"
   ]
  },
  {
   "cell_type": "markdown",
   "metadata": {},
   "source": [
    "Extrai a base de Fear and Greed da Alternative.me"
   ]
  },
  {
   "cell_type": "code",
   "execution_count": 35,
   "metadata": {},
   "outputs": [],
   "source": [
    "def collect_fear_greed(api_url:str, limit:int, drop_colls:list, rename_colls:list) -> pd.DataFrame:\n",
    "    response = requests.get(f\"{api_url}?limit={limit}\")\n",
    "    n_data = response.json()\n",
    "    df = pd.read_json(StringIO(json.dumps(n_data[\"data\"])))\n",
    "    df.drop(columns=drop_colls, axis=1, inplace=True)\n",
    "    df.rename(columns=rename_colls, inplace=True)\n",
    "    df.set_index(\"date\", inplace=True)\n",
    "    return df"
   ]
  },
  {
   "cell_type": "code",
   "execution_count": 36,
   "metadata": {},
   "outputs": [],
   "source": [
    "api_url = \"https://api.alternative.me/fng/\"\n",
    "colls_to_drop = [\"time_until_update\"]\n",
    "coll_names = {\"value\":\"fng_index\", \n",
    "              \"value_classification\":\"fng_class\",\n",
    "              \"timestamp\": \"date\"}\n",
    "\n",
    "data_fg = collect_fear_greed(api_url=api_url, limit=0, drop_colls=colls_to_drop, rename_colls=coll_names)"
   ]
  },
  {
   "cell_type": "code",
   "execution_count": 33,
   "metadata": {},
   "outputs": [],
   "source": [
    "data_fg = data_fg.sort_index()"
   ]
  },
  {
   "cell_type": "markdown",
   "metadata": {},
   "source": [
    "Une as bases de bitcoin, sentimentos e fear and greed"
   ]
  },
  {
   "cell_type": "code",
   "execution_count": null,
   "metadata": {},
   "outputs": [],
   "source": [
    "btc = btc.merge(data_fg, left_index=True, right_index=True)\n",
    "btc.head()"
   ]
  },
  {
   "cell_type": "markdown",
   "metadata": {},
   "source": [
    "SUGESTÃO: se for trabalhar nos dados a partir deste ponto, descomente a celula abaixo para gerar um backup do dataframe para agilizar seu trabalho"
   ]
  },
  {
   "cell_type": "code",
   "execution_count": 20,
   "metadata": {},
   "outputs": [],
   "source": [
    "# work_backup = btc.copy()\n",
    "# work_backup.head()"
   ]
  },
  {
   "cell_type": "markdown",
   "metadata": {},
   "source": [
    "Prepara Colunas adicionais (Reavaliar após a adição de novas features de Trend)"
   ]
  },
  {
   "cell_type": "code",
   "execution_count": 21,
   "metadata": {},
   "outputs": [],
   "source": [
    "# def improve_df(df: pd.DataFrame) -> pd.DataFrame:\n",
    "#     df[\"fng_in_yest\"] = df[\"fng_index\"].shift(1)\n",
    "#     df[\"fng_class_yest\"] = df[\"fng_class\"].shift(1)\n",
    "#     df[\"edit_count_y\"] = df[\"edit_count\"].shift(1)\n",
    "#     df[\"sentiment_y\"] = df[\"sentiment\"].shift(1)\n",
    "#     df[\"neg_sentiment_y\"] = df[\"neg_sentiment\"].shift(1)\n",
    "#     df.dropna(inplace=True)\n",
    "#     return df\n",
    "\n",
    "# btc = improve_df(btc)"
   ]
  },
  {
   "cell_type": "markdown",
   "metadata": {},
   "source": [
    "Organiza as colunas"
   ]
  },
  {
   "cell_type": "code",
   "execution_count": null,
   "metadata": {},
   "outputs": [],
   "source": [
    "sequencia = [\n",
    "       'open', 'high', 'low', 'close', 'volume', 'edit_count', 'sentiment',\n",
    "       'neg_sentiment', 'tomorrow', 'close_ratio_2', 'edit_2',\n",
    "       'trend_2', 'close_ratio_7', 'edit_7', 'trend_7', 'close_ratio_30',\n",
    "       'edit_30', 'trend_30', 'close_ratio_60', 'edit_60', 'trend_60',\n",
    "       'close_ratio_365', 'edit_365', 'trend_365', 'fng_index', 'fng_class',\n",
    "       'target'\n",
    "]\n",
    "btc = btc[sequencia]\n",
    "btc.head()"
   ]
  },
  {
   "cell_type": "markdown",
   "metadata": {},
   "source": [
    "Realiza a ingestão do dataframe no data lake"
   ]
  },
  {
   "cell_type": "code",
   "execution_count": 23,
   "metadata": {},
   "outputs": [],
   "source": [
    "s3_client = boto3.client('s3')\n",
    "s3_resource = boto3.resource('s3')"
   ]
  },
  {
   "cell_type": "code",
   "execution_count": 24,
   "metadata": {},
   "outputs": [],
   "source": [
    "# Converte o dataframe em uma string CSV\n",
    "csv_buffer = StringIO()\n",
    "btc.to_csv(csv_buffer, index=True)"
   ]
  },
  {
   "cell_type": "code",
   "execution_count": 25,
   "metadata": {},
   "outputs": [],
   "source": [
    "bucket_name = os.environ['BUCKET_NAME']\n",
    "csv_file_name = os.environ['CSV_FILE_NAME']\n",
    "bucket_layer = os.environ['BUCKET_LAYER']\n",
    "object_name = f'{bucket_layer}/{csv_file_name}'"
   ]
  },
  {
   "cell_type": "code",
   "execution_count": null,
   "metadata": {},
   "outputs": [],
   "source": [
    "def upload_to_s3(bucket_name, object_name, csv_buffer):\n",
    "    try:\n",
    "        s3_resource = boto3.resource('s3')\n",
    "        req_metadata = s3_resource.Object(bucket_name, object_name).put(Body=csv_buffer.getvalue())\n",
    "        status = req_metadata['ResponseMetadata']['HTTPStatusCode']\n",
    "        if status == 200:\n",
    "            print('Upload sucessful')\n",
    "        else:\n",
    "            print(f'Upload failed, status {status}')\n",
    "    except ClientError as e:\n",
    "        logging.error(e)\n",
    "\n",
    "upload_to_s3(bucket_name, object_name, csv_buffer)"
   ]
  },
  {
   "cell_type": "code",
   "execution_count": 27,
   "metadata": {},
   "outputs": [],
   "source": [
    "# baixa csv localmente\n",
    "#btc.to_csv('btc.csv')"
   ]
  }
 ],
 "metadata": {
  "kernelspec": {
   "display_name": ".venv",
   "language": "python",
   "name": "python3"
  },
  "language_info": {
   "codemirror_mode": {
    "name": "ipython",
    "version": 3
   },
   "file_extension": ".py",
   "mimetype": "text/x-python",
   "name": "python",
   "nbconvert_exporter": "python",
   "pygments_lexer": "ipython3",
   "version": "3.11.2"
  }
 },
 "nbformat": 4,
 "nbformat_minor": 2
}
