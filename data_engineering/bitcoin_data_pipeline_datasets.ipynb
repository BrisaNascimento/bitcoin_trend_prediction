{
 "cells": [
  {
   "cell_type": "markdown",
   "metadata": {},
   "source": [
    "### Dataset - Wikipedia"
   ]
  },
  {
   "cell_type": "markdown",
   "metadata": {},
   "source": [
    "**tipo de ingestão**: full load\n",
    "\n",
    "**origem**: Yahoo finance, Wikipedia\n",
    "\n",
    "**destino**: bronze/raw/bitcoin/btc_sent.csv\n",
    "\n",
    "**formato do data no data lake**: .csv\n",
    "\n",
    "**objetivo**: Predicoes do modelo\n"
   ]
  },
  {
   "cell_type": "markdown",
   "metadata": {},
   "source": [
    "#### Instruções\n",
    "\n",
    "1. Renomear o arquivo .env_exemplo para somente .env\n",
    "2. Adicionar popular as variaveis conforme o padrão de nomenclatura que voce utilizar"
   ]
  },
  {
   "cell_type": "code",
   "execution_count": null,
   "metadata": {},
   "outputs": [],
   "source": [
    "from azure.storage.blob import BlobClient\n",
    "import pandas as pd\n",
    "from transformers import pipeline\n",
    "import yfinance as yf\n",
    "import mwclient\n",
    "import time\n",
    "import requests\n",
    "from datetime import datetime\n",
    "from statistics import mean\n",
    "from io import StringIO\n",
    "from dotenv import load_dotenv\n",
    "import os\n",
    "\n",
    "##carrega variaveis de ambiente\n",
    "load_dotenv()"
   ]
  },
  {
   "cell_type": "code",
   "execution_count": null,
   "metadata": {},
   "outputs": [],
   "source": [
    "data_inicio = datetime.strptime('2018-01-01', '%Y-%m-%d')\n",
    "sentiment_pipeline = pipeline(model=\"distilbert-base-uncased-finetuned-sst-2-english\")"
   ]
  },
  {
   "cell_type": "markdown",
   "metadata": {},
   "source": [
    "Extrai os dados de bitcoin do Yahoo Finance"
   ]
  },
  {
   "cell_type": "code",
   "execution_count": 3,
   "metadata": {},
   "outputs": [],
   "source": [
    "def extract_btc(data_inicio: datetime) -> pd.DataFrame:\n",
    "    ticker = yf.Ticker(\"BTC-USD\")\n",
    "    btc = ticker.history(start=data_inicio)\n",
    "    return btc"
   ]
  },
  {
   "cell_type": "code",
   "execution_count": 4,
   "metadata": {},
   "outputs": [],
   "source": [
    "def format_base(df:pd.DataFrame) -> pd.DataFrame:\n",
    "    df.index = pd.to_datetime(df.index).tz_localize(None)\n",
    "    del df[\"Dividends\"]\n",
    "    del df[\"Stock Splits\"]\n",
    "    df.columns = [c.lower() for c in df.columns]\n",
    "    return df"
   ]
  },
  {
   "cell_type": "markdown",
   "metadata": {},
   "source": [
    "Extrai os dados das reviews de bitcoin da Wikipedia"
   ]
  },
  {
   "cell_type": "code",
   "execution_count": 5,
   "metadata": {},
   "outputs": [],
   "source": [
    "def extract_reviews() -> list:\n",
    "    site = mwclient.Site(\"en.wikipedia.org\")\n",
    "    page = site.pages[\"Bitcoin\"]\n",
    "    revs = list(page.revisions(start=data_inicio, dir=\"newer\"))\n",
    "    revs = sorted(revs, key=lambda rev: rev[\"timestamp\"])\n",
    "    return revs"
   ]
  },
  {
   "cell_type": "code",
   "execution_count": 6,
   "metadata": {},
   "outputs": [],
   "source": [
    "def find_sentiment(text):\n",
    "    sent = sentiment_pipeline([text[:250]])[0]\n",
    "    score = sent[\"score\"]\n",
    "    if sent[\"label\"] == \"NEGATIVE\":\n",
    "        score *= -1\n",
    "    return score"
   ]
  },
  {
   "cell_type": "code",
   "execution_count": 7,
   "metadata": {},
   "outputs": [],
   "source": [
    "def format_edits() -> dict:\n",
    "    edits = {}\n",
    "    revs = extract_reviews()\n",
    "    for rev in revs:\n",
    "        date = time.strftime(\"%Y-%m-%d\", rev[\"timestamp\"])\n",
    "        if date not in edits:\n",
    "            edits[date] = dict(sentiments=list(), edit_count=0)\n",
    "\n",
    "        edits[date][\"edit_count\"] += 1\n",
    "        comment = rev.get(\"comment\", \"\")\n",
    "        edits[date][\"sentiments\"].append(find_sentiment(comment))\n",
    "    return edits"
   ]
  },
  {
   "cell_type": "code",
   "execution_count": 8,
   "metadata": {},
   "outputs": [],
   "source": [
    "def clean_sentiment_base(sentiment_edits: dict) -> dict:\n",
    "    edits = sentiment_edits\n",
    "    for key in edits:\n",
    "        if len(edits[key][\"sentiments\"]) > 0:\n",
    "            edits[key][\"sentiment\"] = mean(edits[key][\"sentiments\"])\n",
    "            edits[key][\"neg_sentiment\"] = len(\n",
    "                [s for s in edits[key][\"sentiments\"] if s < 0]\n",
    "            ) / len(edits[key][\"sentiments\"])\n",
    "        else:\n",
    "            edits[key][\"sentiment\"] = 0\n",
    "            edits[key][\"neg_sentiment\"] = 0\n",
    "\n",
    "        del edits[key][\"sentiments\"]\n",
    "    return edits"
   ]
  },
  {
   "cell_type": "code",
   "execution_count": 9,
   "metadata": {},
   "outputs": [],
   "source": [
    "def create_edits_df() -> pd.DataFrame:\n",
    "    edits = clean_sentiment_base(format_edits())\n",
    "    edits_df = pd.DataFrame.from_dict(edits, orient=\"index\")\n",
    "    edits_df.index = pd.to_datetime(edits_df.index)\n",
    "    return edits_df"
   ]
  },
  {
   "cell_type": "code",
   "execution_count": 10,
   "metadata": {},
   "outputs": [],
   "source": [
    "def improve_edits_df(edits_df: pd.DataFrame) -> pd.DataFrame:\n",
    "    dates = pd.date_range(start=data_inicio, end=datetime.today())\n",
    "    edits_df = edits_df.reindex(dates, fill_value=0)\n",
    "    edits_df[\"edit_count\"] = edits_df[\"edit_count\"].shift(1)\n",
    "    edits_df[\"sentiment\"] = edits_df[\"sentiment\"].shift(1)\n",
    "    edits_df[\"neg_sentiment\"] = edits_df[\"neg_sentiment\"].shift(1)\n",
    "    # edits_df = edits_df.dropna()\n",
    "    rolling_edits = edits_df.rolling(30, min_periods=30).mean()\n",
    "    # rolling_edits = rolling_edits.dropna()\n",
    "    return rolling_edits"
   ]
  },
  {
   "cell_type": "code",
   "execution_count": 11,
   "metadata": {},
   "outputs": [],
   "source": [
    "def get_sentiment_df() -> pd.DataFrame:\n",
    "    edits_df = create_edits_df()\n",
    "    improved_df = improve_edits_df(edits_df)\n",
    "    return improved_df"
   ]
  },
  {
   "cell_type": "markdown",
   "metadata": {},
   "source": [
    "Une as bases de bitcoin e sentimentos"
   ]
  },
  {
   "cell_type": "code",
   "execution_count": 12,
   "metadata": {},
   "outputs": [],
   "source": [
    "def merge_dfs() -> pd.DataFrame:\n",
    "    btc = format_base(extract_btc(data_inicio))\n",
    "    df_sentiment = get_sentiment_df()\n",
    "    data = btc.merge(df_sentiment, left_index=True, right_index=True)\n",
    "    return data"
   ]
  },
  {
   "cell_type": "markdown",
   "metadata": {},
   "source": [
    "Cria colunas adicionais ao dataframe existente para verificar possíveis tendências em horizontes de tempo"
   ]
  },
  {
   "cell_type": "code",
   "execution_count": 13,
   "metadata": {},
   "outputs": [],
   "source": [
    "def trends_col(df: pd.DataFrame) -> pd.DataFrame:\n",
    "    horizons = [2, 7, 365]\n",
    "\n",
    "    for horizon in horizons:\n",
    "        rolling_averages = df.rolling(horizon, min_periods=1).mean()\n",
    "\n",
    "        ratio_column = f\"close_ratio_{horizon}\"\n",
    "        df[ratio_column] = df[\"close\"] / rolling_averages[\"close\"]\n",
    "\n",
    "        edit_column = f\"edit_{horizon}\"\n",
    "        df[edit_column] = rolling_averages[\"edit_count\"]\n",
    "\n",
    "    return df"
   ]
  },
  {
   "cell_type": "code",
   "execution_count": 14,
   "metadata": {},
   "outputs": [],
   "source": [
    "def get_data() -> pd.DataFrame:\n",
    "    df = merge_dfs()\n",
    "    df = trends_col(df)\n",
    "    return df"
   ]
  },
  {
   "cell_type": "code",
   "execution_count": null,
   "metadata": {},
   "outputs": [],
   "source": [
    "df = get_data()\n",
    "df.tail(1)"
   ]
  },
  {
   "cell_type": "markdown",
   "metadata": {},
   "source": [
    "Ingestao no Azure Data Lake Storage"
   ]
  },
  {
   "cell_type": "code",
   "execution_count": 20,
   "metadata": {},
   "outputs": [],
   "source": [
    "def connect_to_adls(container_name: str, blob_name: str):\n",
    "    connection_string = os.environ[\"CONNECTION_STRING_DL\"]\n",
    "    blob = BlobClient.from_connection_string(\n",
    "        conn_str=connection_string,\n",
    "        container_name=container_name,\n",
    "        blob_name=blob_name\n",
    "    )\n",
    "    return blob"
   ]
  },
  {
   "cell_type": "code",
   "execution_count": null,
   "metadata": {},
   "outputs": [],
   "source": [
    "def upload_data(container_name: str, df: pd.DataFrame):\n",
    "    try:\n",
    "        csv_name = \"btc_sent\"\n",
    "        blob_name = f\"raw/bitcoin/{csv_name}.csv\"\n",
    "        blob = connect_to_adls(container_name, blob_name)\n",
    "        # Converte o dataframe em uma string CSV\n",
    "        csv_buffer = StringIO()\n",
    "        df.to_csv(csv_buffer, index=True)\n",
    "        blob.upload_blob(csv_buffer.getvalue(), overwrite=True)\n",
    "    except Exception as e:\n",
    "        print(f\"Upload csv to raw failed.{e}\")\n",
    "    else:\n",
    "        print('Upload csv to raw sucessful')\n",
    "        return True\n",
    "\n",
    "upload_data('bronze', df)"
   ]
  }
 ],
 "metadata": {
  "kernelspec": {
   "display_name": ".venv",
   "language": "python",
   "name": "python3"
  },
  "language_info": {
   "codemirror_mode": {
    "name": "ipython",
    "version": 3
   },
   "file_extension": ".py",
   "mimetype": "text/x-python",
   "name": "python",
   "nbconvert_exporter": "python",
   "pygments_lexer": "ipython3",
   "version": "3.11.2"
  }
 },
 "nbformat": 4,
 "nbformat_minor": 2
}
